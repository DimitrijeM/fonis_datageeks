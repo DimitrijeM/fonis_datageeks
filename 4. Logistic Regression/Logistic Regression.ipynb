{
 "cells": [
  {
   "cell_type": "markdown",
   "metadata": {},
   "source": [
    "<img src='http://www.kontext.edu.rs/files/images/2015/8/12/FONIS.png' height='242' width='242' />\n",
    "<div align='center'>\n",
    "    <h1>Logistička regresija</h1>\n",
    "</div>\n",
    "\n",
    "<br/>\n",
    "\n",
    "<div align='left'>\n",
    "    <small>Datum: 26.12.2018 <br\\> </small>\n",
    "    <small>Mesto: Univerzitet u Beogradu - Fakultet organizacionih nauka <br\\> </small>\n",
    "    <small>Fonis Datageeks</small>\n",
    "</div>"
   ]
  },
  {
   "cell_type": "markdown",
   "metadata": {},
   "source": [
    "### Klasifikacija\n",
    "\n",
    "Jedan od zadataka mašinskog učenja jeste da napravimo funkciju, odnosno model, koji za cilj ima da diskriminiše između dve klase ili kategorije. Primera ima mnogo i veoma su raznoliki. Možemo praviti model da li će pasti kiša ili ne (meteorologija) ili da predviđamo da li će klijent vratiti kredit ili ne (finansije), uzeti neki proizvod (marketing), da li pacijenta treba operisati ili ne (medicina) i slično. Drugim rečima, domen primene klasifikacionih modela je praktično neograničen. Dobra stvar je što je metodologija pravljenja ovakvih modela ista za svaki domel, ma koliko kompleksan on bio. Ovakvi problemi se nazivaju **klasifikacija** i veoma su dobro istraženi i široko se koriste."
   ]
  },
  {
   "cell_type": "markdown",
   "metadata": {},
   "source": [
    "<img src='https://cdn-images-1.medium.com/max/1600/0*WE3Sz--1NUEWBmUR.' height = '442' width = '442'/>"
   ]
  },
  {
   "cell_type": "markdown",
   "metadata": {},
   "source": [
    "### Linearna i logistička regresija iz Sklearn-a"
   ]
  },
  {
   "cell_type": "markdown",
   "metadata": {},
   "source": [
    "Da li možemo da koristimo linearnu regresiju kao klasifikator?"
   ]
  },
  {
   "cell_type": "markdown",
   "metadata": {},
   "source": [
    "Kako izgleda linearna regresija?\n",
    "\n",
    "Linearna regresija predstavlja sumu otežanih vrednosti (suma koeficijent puta vrednost) gde mi želimo da ostvarimo najmanju grešku. Greška je definisana tako da je razlika između stvarne i predviđene vrednosti što niža. Pritom, razliku kvadriramo kako bi ona uvek bila pozitivna."
   ]
  },
  {
   "cell_type": "code",
   "execution_count": 20,
   "metadata": {},
   "outputs": [
    {
     "data": {
      "text/latex": [
       "$\\displaystyle L(w) = \\frac{1}{2n} \\sum_{i = 1}^n{(y_i - w^Tx_i)^2}$"
      ],
      "text/plain": [
       "<IPython.core.display.Math object>"
      ]
     },
     "metadata": {},
     "output_type": "display_data"
    }
   ],
   "source": [
    "from IPython.display import display, Math, Latex\n",
    "%matplotlib inline\n",
    "display(Math(r'L(w) = \\frac{1}{2n} \\sum_{i = 1}^n{(y_i - w^Tx_i)^2}'))"
   ]
  },
  {
   "cell_type": "code",
   "execution_count": 21,
   "metadata": {},
   "outputs": [
    {
     "data": {
      "text/latex": [
       "$\\displaystyle y = Xw$"
      ],
      "text/plain": [
       "<IPython.core.display.Math object>"
      ]
     },
     "metadata": {},
     "output_type": "display_data"
    },
    {
     "data": {
      "text/latex": [
       "$\\displaystyle y_i = \\sum_{j = 0}^m{w_jX_ij}$"
      ],
      "text/plain": [
       "<IPython.core.display.Math object>"
      ]
     },
     "metadata": {},
     "output_type": "display_data"
    }
   ],
   "source": [
    "display(Math(r'y = Xw'))\n",
    "\n",
    "display(Math(r'y_i = \\sum_{j = 0}^m{w_jX_ij}'))"
   ]
  },
  {
   "cell_type": "code",
   "execution_count": 22,
   "metadata": {},
   "outputs": [],
   "source": [
    "# UCITAVANJE SKUPA PODATAKA\n",
    "from sklearn import datasets\n",
    "iris = datasets.load_iris()\n",
    "\n",
    "# PODACI ZA LINEARNU REGRESIJU\n",
    "X_lin_reg = iris.data[:, 2]\n",
    "y_lin_reg = (iris.target != 0) * 1"
   ]
  },
  {
   "cell_type": "code",
   "execution_count": 23,
   "metadata": {},
   "outputs": [
    {
     "data": {
      "text/plain": [
       "LinearRegression(copy_X=True, fit_intercept=False, n_jobs=None,\n",
       "         normalize=False)"
      ]
     },
     "execution_count": 23,
     "metadata": {},
     "output_type": "execute_result"
    }
   ],
   "source": [
    "# UCITAVANJE LINEARNE REGRESIJE\n",
    "from sklearn.linear_model import LinearRegression\n",
    "\n",
    "# UCENJE LINEARNE REGRESIJE\n",
    "model = LinearRegression(fit_intercept = False)\n",
    "model.fit(X = X_lin_reg.reshape(-1, 1), y = y_lin_reg)"
   ]
  },
  {
   "cell_type": "code",
   "execution_count": 24,
   "metadata": {},
   "outputs": [],
   "source": [
    "# PREDVIDJANJE VREDNOSTI\n",
    "import numpy as np\n",
    "\n",
    "# DEFINISANJE VREDNOSTI I PREDVIDJANJA\n",
    "values_to_predict = np.linspace(0.5, 7.5, 50)\n",
    "predictions_lin_reg = model.predict(values_to_predict.reshape(-1, 1))"
   ]
  },
  {
   "cell_type": "code",
   "execution_count": 25,
   "metadata": {},
   "outputs": [
    {
     "data": {
      "image/png": "[encoded data removed]",
      "text/plain": [
       "<Figure size 432x288 with 1 Axes>"
      ]
     },
     "metadata": {
      "needs_background": "light"
     },
     "output_type": "display_data"
    }
   ],
   "source": [
    "# CRTANJE PREDVIDJANJA\n",
    "import matplotlib.pyplot as plt\n",
    "\n",
    "plt.scatter(X_lin_reg, y_lin_reg)\n",
    "plt.plot(values_to_predict, predictions_lin_reg, color = 'blue')\n",
    "\n",
    "plt.show()"
   ]
  },
  {
   "cell_type": "markdown",
   "metadata": {},
   "source": [
    "Očigledno da linearna regresija nije prikladna. Imamo dve moguće vrednosti (0 i 1), a naša predviđanja mogu biti bilo koji broj. Čak i u opsegu naših podataka, vidimo da predviđanje može biti iznad 1. Kako doneti odluku kojoj klasi nešto pripada?"
   ]
  },
  {
   "cell_type": "markdown",
   "metadata": {},
   "source": [
    "Zbog toga je nastala logistička regresija koja rešava navedeni problem. Međutim, prvo da vidimo kako ona izgleda."
   ]
  },
  {
   "cell_type": "code",
   "execution_count": 26,
   "metadata": {},
   "outputs": [
    {
     "name": "stderr",
     "output_type": "stream",
     "text": [
      "/home/dimi/anaconda3/lib/python3.6/site-packages/sklearn/linear_model/logistic.py:433: FutureWarning: Default solver will be changed to 'lbfgs' in 0.22. Specify a solver to silence this warning.\n",
      "  FutureWarning)\n"
     ]
    },
    {
     "data": {
      "text/plain": [
       "LogisticRegression(C=1.0, class_weight=None, dual=False, fit_intercept=False,\n",
       "          intercept_scaling=1, max_iter=100, multi_class='warn',\n",
       "          n_jobs=None, penalty='l2', random_state=None, solver='warn',\n",
       "          tol=0.0001, verbose=0, warm_start=False)"
      ]
     },
     "execution_count": 26,
     "metadata": {},
     "output_type": "execute_result"
    }
   ],
   "source": [
    "# PODACI ZA LOGISTICKU REGRESIJU\n",
    "X_log_reg = iris.data[:, 2]\n",
    "y_log_reg = (iris.target != 0) * 1\n",
    "\n",
    "# UCITAVANJE LOGISTICKE REGRESIJE\n",
    "from sklearn.linear_model import LogisticRegression\n",
    "\n",
    "# UCENJE LOGISTICKE REGRESIJE\n",
    "model = LogisticRegression(fit_intercept = False)\n",
    "model.fit(X = X_log_reg.reshape(-1, 1), y = y_log_reg)"
   ]
  },
  {
   "cell_type": "code",
   "execution_count": 27,
   "metadata": {},
   "outputs": [],
   "source": [
    "# DEFINISANJE VREDNOSTI I PREDVIDJANJA\n",
    "values_to_predict = np.linspace(0.5, 7.5, 50)\n",
    "predictions_log_reg = model.predict_proba(values_to_predict.reshape(-1, 1))"
   ]
  },
  {
   "cell_type": "code",
   "execution_count": 28,
   "metadata": {},
   "outputs": [
    {
     "data": {
      "text/plain": [
       "array([0.5       , 0.64285714, 0.78571429, 0.92857143, 1.07142857,\n",
       "       1.21428571, 1.35714286, 1.5       , 1.64285714, 1.78571429,\n",
       "       1.92857143, 2.07142857, 2.21428571, 2.35714286, 2.5       ,\n",
       "       2.64285714, 2.78571429, 2.92857143, 3.07142857, 3.21428571,\n",
       "       3.35714286, 3.5       , 3.64285714, 3.78571429, 3.92857143,\n",
       "       4.07142857, 4.21428571, 4.35714286, 4.5       , 4.64285714,\n",
       "       4.78571429, 4.92857143, 5.07142857, 5.21428571, 5.35714286,\n",
       "       5.5       , 5.64285714, 5.78571429, 5.92857143, 6.07142857,\n",
       "       6.21428571, 6.35714286, 6.5       , 6.64285714, 6.78571429,\n",
       "       6.92857143, 7.07142857, 7.21428571, 7.35714286, 7.5       ])"
      ]
     },
     "execution_count": 28,
     "metadata": {},
     "output_type": "execute_result"
    }
   ],
   "source": [
    "values_to_predict"
   ]
  },
  {
   "cell_type": "code",
   "execution_count": 29,
   "metadata": {},
   "outputs": [
    {
     "data": {
      "image/png": "[encoded data removed]",
      "text/plain": [
       "<Figure size 432x288 with 1 Axes>"
      ]
     },
     "metadata": {
      "needs_background": "light"
     },
     "output_type": "display_data"
    }
   ],
   "source": [
    "# CRTANJE PREDVIDJANJA\n",
    "plt.scatter(X_log_reg, y_log_reg)\n",
    "plt.plot(values_to_predict, predictions_log_reg[:, 1], color = 'blue')\n",
    "\n",
    "plt.show()"
   ]
  },
  {
   "cell_type": "markdown",
   "metadata": {},
   "source": [
    "Kada bismo imali duži interval, odnosno vrednosti koje su daleko veće od 7 i daleko manje od 1?"
   ]
  },
  {
   "cell_type": "code",
   "execution_count": 10,
   "metadata": {},
   "outputs": [
    {
     "data": {
      "image/png": "[encoded data removed]",
      "text/plain": [
       "<matplotlib.figure.Figure at 0x1decc29b5f8>"
      ]
     },
     "metadata": {},
     "output_type": "display_data"
    }
   ],
   "source": [
    "# DEFINISANJE VREDNOSTI I PREDVIDJANJA\n",
    "values_to_predict = np.linspace(-20, 20, 200)\n",
    "predictions_log_reg = model.predict_proba(values_to_predict.reshape(-1, 1))\n",
    "\n",
    "# CRTANJE PREDVIDJANJA\n",
    "plt.scatter(X_log_reg, y_log_reg)\n",
    "plt.plot(values_to_predict, predictions_log_reg[:, 1], color = 'blue')\n",
    "\n",
    "plt.show()"
   ]
  },
  {
   "cell_type": "markdown",
   "metadata": {},
   "source": [
    "Definitivno se nešto drugačije dešava u odnosu na linearnu regresiju, ali šta je to drugačije? Zašto logistička regresija izgleda kao slovo S, a linearna regresija izgleda kao... linija.\n",
    "\n",
    "Razlog tome je što logistička regresija koristi logističku funkciju za predviđanje, odnosno sigmoidnu funkciju. Odnosno:"
   ]
  },
  {
   "cell_type": "code",
   "execution_count": 11,
   "metadata": {},
   "outputs": [
    {
     "data": {
      "text/latex": [
       "$$log(\\frac{p_i}{1 - p_i}) = \\sum_{j = 0}^m{w_jX_{ij}}$$"
      ],
      "text/plain": [
       "<IPython.core.display.Math object>"
      ]
     },
     "metadata": {},
     "output_type": "display_data"
    }
   ],
   "source": [
    "display(Math(r'log(\\frac{p_i}{1 - p_i}) = \\sum_{j = 0}^m{w_jX_{ij}}'))"
   ]
  },
  {
   "cell_type": "markdown",
   "metadata": {},
   "source": [
    "Odnosno, kada izvedemo funkciju tako da nam sa leve strane ostane verovatnoća dobijamo:"
   ]
  },
  {
   "cell_type": "code",
   "execution_count": 12,
   "metadata": {},
   "outputs": [
    {
     "data": {
      "text/latex": [
       "$$p_i = \\frac{1}{1 + \\exp^{-\\sum_{j = 0}^m{w_jX_{ij}}}}$$"
      ],
      "text/plain": [
       "<IPython.core.display.Math object>"
      ]
     },
     "metadata": {},
     "output_type": "display_data"
    }
   ],
   "source": [
    "display(Math(r'p_i = \\frac{1}{1 + \\exp^{-\\sum_{j = 0}^m{w_jX_{ij}}}}'))"
   ]
  },
  {
   "cell_type": "markdown",
   "metadata": {},
   "source": [
    "Ova funkcija se naziva sigmoid i zbog nje funkcija nikada neće biti manja od 0, niti može biti veća od 1. Čak, nikada neće biti tačno 0, niti tačno 1 već će samo težiti tom broju.\n",
    "\n",
    "Funkcija cilja koju želimo da smanjimo (isto što i srednja kvadratna greška kod linearne regresije) odgovara Bernulijevoj raspodeli i izgleda:"
   ]
  },
  {
   "cell_type": "code",
   "execution_count": 13,
   "metadata": {},
   "outputs": [
    {
     "data": {
      "text/latex": [
       "$$L(w) = - \\frac{1}{n} \\sum_{i = 1}^{n}{(y_i log(p_i) + (1 - y_i) log(1 - p_i))}$$"
      ],
      "text/plain": [
       "<IPython.core.display.Math object>"
      ]
     },
     "metadata": {},
     "output_type": "display_data"
    }
   ],
   "source": [
    "display(Math(r'L(w) = - \\frac{1}{n} \\sum_{i = 1}^{n}{(y_i log(p_i) + (1 - y_i) log(1 - p_i))}'))"
   ]
  },
  {
   "cell_type": "markdown",
   "metadata": {},
   "source": [
    "### Logistička regresija od nule "
   ]
  },
  {
   "cell_type": "markdown",
   "metadata": {},
   "source": [
    "Kodiraćemo sve kao funkcije koje možemo da pozovemo.\n",
    "\n",
    "Prvo kodiramo funkciju cilja."
   ]
  },
  {
   "cell_type": "code",
   "execution_count": 39,
   "metadata": {},
   "outputs": [],
   "source": [
    "def logistic_loss(y, h):\n",
    "    return (-y * np.log(h) - (1 - y) * np.log(1 - h)).mean()"
   ]
  },
  {
   "cell_type": "code",
   "execution_count": 40,
   "metadata": {},
   "outputs": [
    {
     "data": {
      "text/plain": [
       "0.43224220745959324"
      ]
     },
     "execution_count": 40,
     "metadata": {},
     "output_type": "execute_result"
    }
   ],
   "source": [
    "# STVARNE VREDNOSTI\n",
    "stvarne = y_log_reg\n",
    "\n",
    "# PREDVIDJENE VREDNOSTI\n",
    "predvidjene = model.predict_proba(X_log_reg.reshape(-1, 1))[:, 1]\n",
    "\n",
    "logistic_loss(stvarne, predvidjene)"
   ]
  },
  {
   "cell_type": "markdown",
   "metadata": {},
   "source": [
    "Kako izgleda logistički trošak?\n",
    "\n",
    "<img src='https://mlcourse.ai/notebooks/blob/master/img/logloss_margin_eng.png' width = '440' height = '440'/>"
   ]
  },
  {
   "cell_type": "markdown",
   "metadata": {},
   "source": [
    "Treba nam funkcija koja će dati predviđanje."
   ]
  },
  {
   "cell_type": "code",
   "execution_count": 41,
   "metadata": {},
   "outputs": [],
   "source": [
    "def sigmoid(z):\n",
    "    return(1/(1 + np.exp(-z)))"
   ]
  },
  {
   "cell_type": "markdown",
   "metadata": {},
   "source": [
    "Napravili smo  funkciju za funkciju cilja i funkciju za predviđanja, sada nam treba procedura koja će menjati koeficijente tako da smanjujemo funkciju cilja. Ta procedura je iterativna optimizaciona procedura koja se zove gradijentni spust.\n",
    "\n",
    "Učitaćemo i malo više podataka."
   ]
  },
  {
   "cell_type": "code",
   "execution_count": 45,
   "metadata": {},
   "outputs": [
    {
     "data": {
      "text/plain": [
       "array([0.01253   , 0.00386   , 0.01391667, 0.00517667])"
      ]
     },
     "execution_count": 45,
     "metadata": {},
     "output_type": "execute_result"
    }
   ],
   "source": [
    "X = iris.data[:, :4]\n",
    "y = (iris.target != 0) * 1\n",
    "\n",
    "ws = np.zeros(X.shape[1])\n",
    "z = np.dot(X, ws)\n",
    "# UBACIVANJE Z U SIGMOIG\n",
    "h = sigmoid(z)\n",
    "logistic_loss(y, h)\n",
    "gradient = np.dot(X.T, (h - y)) / y.size\n",
    "gradient\n",
    "ws -= 0.01 * gradient\n",
    "ws"
   ]
  },
  {
   "cell_type": "code",
   "execution_count": 48,
   "metadata": {},
   "outputs": [
    {
     "name": "stdout",
     "output_type": "stream",
     "text": [
      "Logistic Loss: 0.6931471805599454\n",
      "Logistic Loss: 0.6566535983880368\n",
      "Logistic Loss: 0.629491930212068\n",
      "Logistic Loss: 0.6089539519260228\n",
      "Logistic Loss: 0.593113747648508\n",
      "Logistic Loss: 0.5806201365322219\n",
      "Logistic Loss: 0.5705281133612498\n",
      "Logistic Loss: 0.5621748185397712\n",
      "Logistic Loss: 0.5550924024543279\n",
      "Logistic Loss: 0.5489480596827029\n"
     ]
    }
   ],
   "source": [
    "# UČITAVANJE PODATAKA\n",
    "X = iris.data[:, :4]\n",
    "y = (iris.target != 0) * 1\n",
    "\n",
    "# POČETNE VREDNOSTI KOEFICIJENATA\n",
    "ws = np.zeros(X.shape[1])\n",
    "\n",
    "# U 100 ITERACIJA MENJAJ KOEFICIJENTE TAKO DA JE GREŠKA ŠTO MANJA\n",
    "for i in range(10):\n",
    "    # ODREĐIVANJE Z (MNOŽENJE KOEFICIJENATA SA VREDNOSTIMA)\n",
    "    z = np.dot(X, ws)\n",
    "    # UBACIVANJE Z U SIGMOIG\n",
    "    h = sigmoid(z)\n",
    "    \n",
    "    print(f'Logistic Loss: {logistic_loss(y, h)}')\n",
    "    \n",
    "    # RAČUNANJE GRADIJENTA\n",
    "    gradient = np.dot(X.T, (h - y)) / y.size\n",
    "    \n",
    "    # AŽURIRANJE KOEFICIJENATA\n",
    "    # OBRATITI PAŽNJU NA OVAJ BROJ 0.01\n",
    "    ws -= 0.01 * gradient"
   ]
  },
  {
   "cell_type": "markdown",
   "metadata": {},
   "source": [
    "Koje su vrednosti koeficijenata? Kako se oni tumače?"
   ]
  },
  {
   "cell_type": "code",
   "execution_count": 49,
   "metadata": {},
   "outputs": [
    {
     "data": {
      "text/plain": [
       "array([0.06057215, 0.00631488, 0.09391385, 0.03682788])"
      ]
     },
     "execution_count": 49,
     "metadata": {},
     "output_type": "execute_result"
    }
   ],
   "source": [
    "ws"
   ]
  },
  {
   "cell_type": "markdown",
   "metadata": {},
   "source": [
    "Kako dobijamo predviđanja?"
   ]
  },
  {
   "cell_type": "code",
   "execution_count": 50,
   "metadata": {},
   "outputs": [
    {
     "data": {
      "text/plain": [
       "array([0.6153518 , 0.61173074, 0.606912  , 0.60979352, 0.61406677,\n",
       "       0.62857359, 0.60888558, 0.61599131, 0.60436245, 0.61323554,\n",
       "       0.62215166, 0.61534698, 0.60941483, 0.59541406, 0.62166944,\n",
       "       0.62916788, 0.61976168, 0.61622313, 0.63180304, 0.61888862,\n",
       "       0.62611348, 0.61960805, 0.59932295, 0.62429636, 0.62199363,\n",
       "       0.61761401, 0.61994732, 0.61900182, 0.61663524, 0.61361288,\n",
       "       0.61489848, 0.62343695, 0.61902685, 0.62211012, 0.61410865,\n",
       "       0.60900473, 0.61885768, 0.61175595, 0.60226598, 0.61742311,\n",
       "       0.61256316, 0.60353955, 0.60256847, 0.62182972, 0.62856883,\n",
       "       0.61116662, 0.62023416, 0.60770715, 0.62072669, 0.6136177 ,\n",
       "       0.71852701, 0.70800687, 0.72170678, 0.683781  , 0.71067121,\n",
       "       0.69708001, 0.71151704, 0.65896894, 0.71053201, 0.67914567,\n",
       "       0.66396561, 0.69550855, 0.6877903 , 0.70697915, 0.67775709,\n",
       "       0.70892928, 0.6976227 , 0.68788357, 0.70418237, 0.68173701,\n",
       "       0.70985089, 0.69225938, 0.71357512, 0.70531974, 0.70217586,\n",
       "       0.70754715, 0.7174642 , 0.72251167, 0.70257712, 0.67419191,\n",
       "       0.67823794, 0.67537812, 0.68542706, 0.71470952, 0.69506111,\n",
       "       0.70400448, 0.7154589 , 0.70208075, 0.6880614 , 0.68405403,\n",
       "       0.69146557, 0.70516116, 0.68731277, 0.6601872 , 0.68966821,\n",
       "       0.69058113, 0.69123274, 0.69963624, 0.65632449, 0.68908947,\n",
       "       0.74230748, 0.7144921 , 0.7465767 , 0.72950753, 0.73853832,\n",
       "       0.76431123, 0.68950592, 0.75369873, 0.7374218 , 0.75469238,\n",
       "       0.7244299 , 0.72560325, 0.73588709, 0.71182691, 0.71836132,\n",
       "       0.72915051, 0.73016896, 0.76863972, 0.77127665, 0.7113884 ,\n",
       "       0.74234039, 0.70903859, 0.76619796, 0.71608475, 0.73871878,\n",
       "       0.74764669, 0.7130627 , 0.71400238, 0.73274599, 0.74243994,\n",
       "       0.75189843, 0.76444775, 0.73346656, 0.71778252, 0.7237991 ,\n",
       "       0.75821696, 0.73446186, 0.72909864, 0.71083733, 0.73536147,\n",
       "       0.73879482, 0.73129223, 0.7144921 , 0.74476691, 0.74155207,\n",
       "       0.73063254, 0.71847992, 0.72604963, 0.72886207, 0.71536213])"
      ]
     },
     "execution_count": 50,
     "metadata": {},
     "output_type": "execute_result"
    }
   ],
   "source": [
    "sigmoid(np.dot(X, ws))"
   ]
  },
  {
   "cell_type": "markdown",
   "metadata": {},
   "source": [
    "Iskodirali smo logističku regresiju od nule. Međutim, ovakav kod nije preterano koristan. Voleli bismo da možemo nekako da ga upakujemo kako bi drugi mogli da ga koriste, bez da znaju ikakvu matematiku ispod."
   ]
  },
  {
   "cell_type": "code",
   "execution_count": 55,
   "metadata": {},
   "outputs": [],
   "source": [
    "class FONISLogisticRegression:\n",
    "    # KONSTRUKTOR\n",
    "    def __init__(self, lr = 0.01, num_item = 100, fit_intercept = True, verbose = True):\n",
    "        self.lr = lr\n",
    "        self.num_item = num_item\n",
    "        self.fit_intercept = fit_intercept\n",
    "        self.verbose = verbose\n",
    "    \n",
    "    # PREDVIDJANJA\n",
    "    def __sigmoid(self, z):\n",
    "        return 1/(1 + np.exp(-z))\n",
    "    \n",
    "    # FUNKCIJA CILJA\n",
    "    def __logistic_loss(self, y, h):\n",
    "        return (-y * np.log(h) - (1 - y) * np.log(1 - h)).mean()\n",
    "    \n",
    "    # UCENJE KOEFICIJENATA\n",
    "    def fit(self, X, y):\n",
    "        if self.fit_intercept:\n",
    "            intercept = np.ones((X.shape[0], 1))\n",
    "            X = np.concatenate((intercept, X), axis = 1)\n",
    "        \n",
    "        self.ws = np.zeros(X.shape[1])\n",
    "        \n",
    "        for i in range(self.num_item):\n",
    "            z = np.dot(X, self.ws)\n",
    "            h = self.__sigmoid(z)\n",
    "            if(self.verbose == True and i % 20 == 0):\n",
    "                print(f'Logistic Loss: {self.__logistic_loss(y, h)}')\n",
    "            gradient = np.dot(X.T, (h - y)) / y.size\n",
    "            self.ws -= self.lr * gradient\n",
    "    \n",
    "    # PREDVIDJANJE VEROVATNOCE\n",
    "    def predict_proba(self, X):\n",
    "        if self.fit_intercept:\n",
    "            intercept = np.ones((X.shape[0], 1))\n",
    "            X = np.concatenate((intercept, X), axis = 1)\n",
    "        return self.__sigmoid(np.dot(X, self.ws))\n",
    "    \n",
    "    # PREDVIDJANJE KLASE\n",
    "    def predict(self, X, threshold = 0.5):\n",
    "        return self.predict_proba(X) >= threshold"
   ]
  },
  {
   "cell_type": "code",
   "execution_count": 56,
   "metadata": {},
   "outputs": [
    {
     "name": "stdout",
     "output_type": "stream",
     "text": [
      "Logistic Loss: 0.6931471805599454\n",
      "Logistic Loss: 0.5051185907895568\n",
      "Logistic Loss: 0.44716684922004096\n",
      "Logistic Loss: 0.39915275809734463\n",
      "Logistic Loss: 0.3589682456486836\n"
     ]
    }
   ],
   "source": [
    "model = FONISLogisticRegression()\n",
    "\n",
    "model.fit(X, y)"
   ]
  },
  {
   "cell_type": "markdown",
   "metadata": {},
   "source": [
    "Koeficijente dobijamo:"
   ]
  },
  {
   "cell_type": "code",
   "execution_count": 22,
   "metadata": {},
   "outputs": [
    {
     "data": {
      "text/plain": [
       "array([-0.03741323, -0.01724701, -0.2111827 ,  0.42698095,  0.19074081])"
      ]
     },
     "execution_count": 22,
     "metadata": {},
     "output_type": "execute_result"
    }
   ],
   "source": [
    "model.ws"
   ]
  },
  {
   "cell_type": "markdown",
   "metadata": {},
   "source": [
    "Verovatnoće ishoda:"
   ]
  },
  {
   "cell_type": "code",
   "execution_count": 23,
   "metadata": {},
   "outputs": [
    {
     "data": {
      "text/plain": [
       "array([ 0.44309982,  0.470148  ,  0.44990973,  0.47681757,  0.43831964,\n",
       "        0.46207407,  0.45517689,  0.4593276 ,  0.47756298,  0.47077225,\n",
       "        0.44193726,  0.47080765,  0.46582846,  0.43625617,  0.39373207,\n",
       "        0.41382934,  0.41999643,  0.44781156,  0.46129619,  0.44270932,\n",
       "        0.47887446,  0.45264704,  0.39846188,  0.49974053,  0.50279795,\n",
       "        0.49103129,  0.47946066,  0.45323272,  0.44789056,  0.4817728 ,\n",
       "        0.48661631,  0.46709749,  0.41741328,  0.40532698,  0.47077225,\n",
       "        0.43809239,  0.43089811,  0.47077225,  0.46166916,  0.45889931,\n",
       "        0.43770284,  0.50288809,  0.45119061,  0.48371234,  0.48992459,\n",
       "        0.47533219,  0.44854541,  0.46092668,  0.44236266,  0.45397325,\n",
       "        0.80844237,  0.79962412,  0.82738892,  0.79214354,  0.81897127,\n",
       "        0.80881746,  0.81290891,  0.72532194,  0.8097524 ,  0.77468758,\n",
       "        0.75752547,  0.78696252,  0.78468282,  0.82036138,  0.73859295,\n",
       "        0.7921804 ,  0.8084517 ,  0.77446962,  0.83181967,  0.77084477,\n",
       "        0.82890503,  0.77240747,  0.84609443,  0.817838  ,  0.78980613,\n",
       "        0.79591596,  0.82786075,  0.84192853,  0.81064404,  0.73113288,\n",
       "        0.76731865,  0.75610825,  0.76611012,  0.8546689 ,  0.80898529,\n",
       "        0.79700557,  0.81536984,  0.81681105,  0.77400061,  0.78510338,\n",
       "        0.80631766,  0.8107639 ,  0.77735038,  0.72916879,  0.79201153,\n",
       "        0.77780832,  0.78467685,  0.7903782 ,  0.69792325,  0.78100835,\n",
       "        0.8998686 ,  0.86204396,  0.89343593,  0.87824637,  0.89216535,\n",
       "        0.91808376,  0.83142962,  0.90530127,  0.89462677,  0.8965612 ,\n",
       "        0.84989542,  0.87072893,  0.87660976,  0.86444479,  0.87063932,\n",
       "        0.86739552,  0.87086873,  0.90951214,  0.93496492,  0.86002754,\n",
       "        0.88496311,  0.85174839,  0.92277964,  0.84803574,  0.8791575 ,\n",
       "        0.88773816,  0.83985987,  0.84015369,  0.88620436,  0.87937608,\n",
       "        0.90120081,  0.89454217,  0.88811379,  0.84894279,  0.87722773,\n",
       "        0.90374309,  0.87918987,  0.86867207,  0.83457416,  0.86934376,\n",
       "        0.88505914,  0.85878351,  0.86204396,  0.89353926,  0.88703159,\n",
       "        0.86674596,  0.86095997,  0.86041195,  0.86784471,  0.85172785])"
      ]
     },
     "execution_count": 23,
     "metadata": {},
     "output_type": "execute_result"
    }
   ],
   "source": [
    "model.predict_proba(X)"
   ]
  },
  {
   "cell_type": "markdown",
   "metadata": {},
   "source": [
    "I predviđen ishod:"
   ]
  },
  {
   "cell_type": "code",
   "execution_count": 24,
   "metadata": {},
   "outputs": [
    {
     "data": {
      "text/plain": [
       "array([False, False, False, False, False, False, False, False, False,\n",
       "       False, False, False, False, False, False, False, False, False,\n",
       "       False, False, False, False, False, False, False, False, False,\n",
       "       False, False, False, False, False, False, False, False, False,\n",
       "       False, False, False, False, False, False, False, False, False,\n",
       "       False, False, False, False, False,  True, False,  True, False,\n",
       "        True,  True,  True, False,  True, False, False, False, False,\n",
       "        True, False, False,  True, False,  True, False,  True, False,\n",
       "        True,  True, False, False,  True,  True,  True, False, False,\n",
       "       False, False,  True,  True, False,  True,  True, False, False,\n",
       "        True,  True, False, False, False, False, False, False, False,\n",
       "       False,  True,  True,  True,  True,  True,  True,  True,  True,\n",
       "        True,  True,  True,  True,  True,  True,  True,  True,  True,\n",
       "        True,  True,  True,  True,  True,  True,  True,  True,  True,\n",
       "        True,  True,  True,  True,  True,  True,  True,  True,  True,\n",
       "        True,  True,  True,  True,  True,  True,  True,  True,  True,\n",
       "        True,  True,  True,  True,  True,  True], dtype=bool)"
      ]
     },
     "execution_count": 24,
     "metadata": {},
     "output_type": "execute_result"
    }
   ],
   "source": [
    "model.predict(X, threshold=0.8)"
   ]
  }
 ],
 "metadata": {
  "kernelspec": {
   "display_name": "Python 3",
   "language": "python",
   "name": "python3"
  },
  "language_info": {
   "codemirror_mode": {
    "name": "ipython",
    "version": 3
   },
   "file_extension": ".py",
   "mimetype": "text/x-python",
   "name": "python",
   "nbconvert_exporter": "python",
   "pygments_lexer": "ipython3",
   "version": "3.6.7"
  },
  "varInspector": {
   "cols": {
    "lenName": 16,
    "lenType": 16,
    "lenVar": 40
   },
   "kernels_config": {
    "python": {
     "delete_cmd_postfix": "",
     "delete_cmd_prefix": "del ",
     "library": "var_list.py",
     "varRefreshCmd": "print(var_dic_list())"
    },
    "r": {
     "delete_cmd_postfix": ") ",
     "delete_cmd_prefix": "rm(",
     "library": "var_list.r",
     "varRefreshCmd": "cat(var_dic_list()) "
    }
   },
   "types_to_exclude": [
    "module",
    "function",
    "builtin_function_or_method",
    "instance",
    "_Feature"
   ],
   "window_display": false
  }
 },
 "nbformat": 4,
 "nbformat_minor": 2
}
