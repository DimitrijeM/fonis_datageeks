{
 "cells": [
  {
   "cell_type": "markdown",
   "metadata": {},
   "source": [
    "# Fonis Datageeks\n",
    "## Wokshop: Exploratory Data Analysis\n",
    "### 2. Rečnici\n",
    "Pripremio: [Dimitrije Milenković](https://www.linkedin.com/in/dimitrijemilenkovicdm/)\n",
    "<br>dimitrijemilenkovic.dm@gmail.com\n",
    "***"
   ]
  },
  {
   "cell_type": "markdown",
   "metadata": {},
   "source": [
    "Iako je tema radionice EDA, pre toga imamo dva kratka tutorijala koje pokrivaju koncepte koje tematski pripadaju prvoj radionici ali na njoj nismo stigli da pričamo o tome.\n",
    "***"
   ]
  },
  {
   "cell_type": "markdown",
   "metadata": {},
   "source": [
    "Među osnovnim Python strukturama podataka nalazi se i dictionary, to jest rečnik. Znamo šta su rečnici u svakodnevnom životu, pa po toj analogiji možemo pretpostaviti kako oni izgledaju u Pythonu. \n",
    "<br>Rečnici su indeksirana i promenljiva struktura podataka koja nema redosled. Rečnik se sastoji od parova ključa i vrednosti (key-value pairs). "
   ]
  },
  {
   "cell_type": "markdown",
   "metadata": {},
   "source": [
    "### Kreiranje rečnika"
   ]
  },
  {
   "cell_type": "code",
   "execution_count": 1,
   "metadata": {},
   "outputs": [
    {
     "data": {
      "text/plain": [
       "{}"
      ]
     },
     "execution_count": 1,
     "metadata": {},
     "output_type": "execute_result"
    }
   ],
   "source": [
    "prazan = {} \n",
    "prazan"
   ]
  },
  {
   "cell_type": "markdown",
   "metadata": {},
   "source": [
    "Iznad je prikazano kreiranje praznog rečnika u kom naknadno možemo da ubacujemo parove. Međutim možemo napuniti rečnik pri kreiranju:"
   ]
  },
  {
   "cell_type": "code",
   "execution_count": 2,
   "metadata": {},
   "outputs": [
    {
     "data": {
      "text/plain": [
       "{'rice': 'a cereal grass'}"
      ]
     },
     "execution_count": 2,
     "metadata": {},
     "output_type": "execute_result"
    }
   ],
   "source": [
    "recnik = {\n",
    "    'rice' : 'a cereal grass'\n",
    "}\n",
    "recnik"
   ]
  },
  {
   "cell_type": "markdown",
   "metadata": {},
   "source": [
    "Vrednosti u rečniku mogu biti bilo kog tipa."
   ]
  },
  {
   "cell_type": "code",
   "execution_count": 3,
   "metadata": {},
   "outputs": [
    {
     "data": {
      "text/plain": [
       "{'dimi': True, 'dekiSimic': False}"
      ]
     },
     "execution_count": 3,
     "metadata": {},
     "output_type": "execute_result"
    }
   ],
   "source": [
    "good_instructors = {\n",
    "    'dimi' : True, \n",
    "    'dekiSimic' : False\n",
    "}\n",
    "good_instructors"
   ]
  },
  {
   "cell_type": "code",
   "execution_count": 4,
   "metadata": {},
   "outputs": [
    {
     "data": {
      "text/plain": [
       "{'Serbia': ['Belgrade', 'Novi Sad'],\n",
       " 'China': ['Shanghai', 'Beijing'],\n",
       " 'USA': ['New York', 'Los Angeles'],\n",
       " 'Spain': ['Madrid', 'Barcelona']}"
      ]
     },
     "execution_count": 4,
     "metadata": {},
     "output_type": "execute_result"
    }
   ],
   "source": [
    "cities = { \n",
    "    'Serbia' : ['Belgrade', 'Novi Sad'], # value moze biti lista\n",
    "    'China': ['Shanghai', 'Beijing'],\n",
    "    'USA': ['New York', 'Los Angeles'],\n",
    "    'Spain': ['Madrid', 'Barcelona']\n",
    "}\n",
    "cities"
   ]
  },
  {
   "cell_type": "markdown",
   "metadata": {},
   "source": [
    "Rečnik možemo kreirati i na osnovu prosleđenog niza tuplova kroišćenjem funkcije dist:"
   ]
  },
  {
   "cell_type": "code",
   "execution_count": 5,
   "metadata": {},
   "outputs": [
    {
     "name": "stdout",
     "output_type": "stream",
     "text": [
      "{1: 'one', 2: 'two', 3: 'three'}\n"
     ]
    }
   ],
   "source": [
    "data = [(1, 'one'), (2, 'two'), (3, 'three')]\n",
    "names = dict(data)\n",
    "print(names)"
   ]
  },
  {
   "cell_type": "markdown",
   "metadata": {},
   "source": [
    "### Pristupanje elementima rečnika"
   ]
  },
  {
   "cell_type": "markdown",
   "metadata": {},
   "source": [
    "Elementima rečnika pristupamo na intuitivan način: potrebno je u uglastim zagradama navesti ključ:"
   ]
  },
  {
   "cell_type": "code",
   "execution_count": 6,
   "metadata": {},
   "outputs": [
    {
     "data": {
      "text/plain": [
       "['Belgrade', 'Novi Sad']"
      ]
     },
     "execution_count": 6,
     "metadata": {},
     "output_type": "execute_result"
    }
   ],
   "source": [
    "cities['Serbia']"
   ]
  },
  {
   "cell_type": "markdown",
   "metadata": {},
   "source": [
    "`Zadatak 1:` Dat je rečnik kodova: "
   ]
  },
  {
   "cell_type": "code",
   "execution_count": 7,
   "metadata": {},
   "outputs": [],
   "source": [
    "cipher = {'p': 'o', 'y': 'h', 't': 'n',\n",
    "          'h': 't', 'o': 'y', 'n': 'p'} "
   ]
  },
  {
   "cell_type": "markdown",
   "metadata": {},
   "source": [
    "Cipher rečnik može se koristiti za šifrovanje (enkriptovanje poruka) tako što bi se svako slovo poruke prevodilo u novo slovo definisano vrednošću tog kluča. Napisati funkciju koja kao parametre prima ovaj rečnik i drugu reč koju je potrebno šifrovati (ekriptovati) i vraća ekriptovanu reč. "
   ]
  },
  {
   "cell_type": "code",
   "execution_count": 8,
   "metadata": {},
   "outputs": [
    {
     "data": {
      "text/plain": [
       "'ohntyp'"
      ]
     },
     "execution_count": 8,
     "metadata": {},
     "output_type": "execute_result"
    }
   ],
   "source": [
    "def encrypt(cipher, word):\n",
    "    ''' enkriptuje word koristeći cipher '''\n",
    "    encrypted = ''\n",
    "    for char in word:\n",
    "        encrypted += cipher[char]\n",
    "    return encrypted\n",
    "encrypt(cipher, 'python')"
   ]
  },
  {
   "cell_type": "markdown",
   "metadata": {},
   "source": [
    "Ako probamo da iskoristimo nepostojeći ključ dogodiće se KeyError:"
   ]
  },
  {
   "cell_type": "code",
   "execution_count": 9,
   "metadata": {},
   "outputs": [
    {
     "ename": "KeyError",
     "evalue": "1",
     "output_type": "error",
     "traceback": [
      "\u001b[0;31m---------------------------------------------------------------------------\u001b[0m",
      "\u001b[0;31mKeyError\u001b[0m                                  Traceback (most recent call last)",
      "\u001b[0;32m<ipython-input-9-512f52621b52>\u001b[0m in \u001b[0;36m<module>\u001b[0;34m\u001b[0m\n\u001b[0;32m----> 1\u001b[0;31m \u001b[0mcipher\u001b[0m\u001b[0;34m[\u001b[0m\u001b[0;36m1\u001b[0m\u001b[0;34m]\u001b[0m\u001b[0;34m\u001b[0m\u001b[0m\n\u001b[0m",
      "\u001b[0;31mKeyError\u001b[0m: 1"
     ]
    }
   ],
   "source": [
    "cipher[1]"
   ]
  },
  {
   "cell_type": "markdown",
   "metadata": {},
   "source": [
    "Tako da u slučajevima kada nismo sigurni da postoji ključ u rečniku, bolje je to proveriti funkcijom get:"
   ]
  },
  {
   "cell_type": "code",
   "execution_count": 10,
   "metadata": {},
   "outputs": [
    {
     "data": {
      "text/plain": [
       "('n', None)"
      ]
     },
     "execution_count": 10,
     "metadata": {},
     "output_type": "execute_result"
    }
   ],
   "source": [
    "cipher.get('t'), cipher.get('d')"
   ]
  },
  {
   "cell_type": "markdown",
   "metadata": {},
   "source": [
    "### Ažuriranje rečnika"
   ]
  },
  {
   "cell_type": "code",
   "execution_count": 11,
   "metadata": {},
   "outputs": [
    {
     "data": {
      "text/plain": [
       "{'p': 'o', 'y': 'h', 't': 'n', 'h': 't', 'o': 'y', 'n': 'p'}"
      ]
     },
     "execution_count": 11,
     "metadata": {},
     "output_type": "execute_result"
    }
   ],
   "source": [
    "cipher"
   ]
  },
  {
   "cell_type": "markdown",
   "metadata": {},
   "source": [
    "Pri ažuriranju rečnika, u slučaju da ključ postoji u rečniku mi ažuriramo njegovu vrednost, a u slučaju da ne postoji dodajemo novi key-value par:"
   ]
  },
  {
   "cell_type": "code",
   "execution_count": 12,
   "metadata": {},
   "outputs": [
    {
     "data": {
      "text/plain": [
       "{'p': 'q', 'y': 'h', 't': 'n', 'h': 't', 'o': 'y', 'n': 'p', 'r': 'z'}"
      ]
     },
     "execution_count": 12,
     "metadata": {},
     "output_type": "execute_result"
    }
   ],
   "source": [
    "cipher['p'] = 'q'\n",
    "cipher['r'] = 'z'\n",
    "cipher"
   ]
  },
  {
   "cell_type": "code",
   "execution_count": 13,
   "metadata": {},
   "outputs": [
    {
     "data": {
      "text/plain": [
       "'qhntyp'"
      ]
     },
     "execution_count": 13,
     "metadata": {},
     "output_type": "execute_result"
    }
   ],
   "source": [
    "encrypt(cipher, 'python')"
   ]
  },
  {
   "cell_type": "markdown",
   "metadata": {},
   "source": [
    "### Brisanje parova iz rečnika"
   ]
  },
  {
   "cell_type": "code",
   "execution_count": 14,
   "metadata": {},
   "outputs": [
    {
     "data": {
      "text/plain": [
       "{'y': 'h', 't': 'n', 'h': 't', 'o': 'y', 'n': 'p', 'r': 'z'}"
      ]
     },
     "execution_count": 14,
     "metadata": {},
     "output_type": "execute_result"
    }
   ],
   "source": [
    "del cipher['p']\n",
    "cipher"
   ]
  },
  {
   "cell_type": "markdown",
   "metadata": {},
   "source": [
    "Primetimo da rečnici liče na liste, međutim glavna razlika je što elementima liste možemo pristupiti samo preko indeksa, dok ovde pristupamo preko ključa."
   ]
  },
  {
   "cell_type": "markdown",
   "metadata": {},
   "source": [
    "### Još par korisnih sitnica\n",
    "Kada želimo proveriti da li ključ postoji u rečniku, koristimo in:"
   ]
  },
  {
   "cell_type": "code",
   "execution_count": 15,
   "metadata": {},
   "outputs": [
    {
     "data": {
      "text/plain": [
       "True"
      ]
     },
     "execution_count": 15,
     "metadata": {},
     "output_type": "execute_result"
    }
   ],
   "source": [
    "'Serbia' in cities"
   ]
  },
  {
   "cell_type": "code",
   "execution_count": 16,
   "metadata": {},
   "outputs": [
    {
     "data": {
      "text/plain": [
       "False"
      ]
     },
     "execution_count": 16,
     "metadata": {},
     "output_type": "execute_result"
    }
   ],
   "source": [
    "'Montenegro' in cities"
   ]
  },
  {
   "cell_type": "markdown",
   "metadata": {},
   "source": [
    "`Zadatak 2.` Data je lista ključeva:"
   ]
  },
  {
   "cell_type": "code",
   "execution_count": 17,
   "metadata": {},
   "outputs": [],
   "source": [
    "keys = ['Serbia', 'China', 'Germany']"
   ]
  },
  {
   "cell_type": "markdown",
   "metadata": {},
   "source": [
    "Ispisati poruku u formatu:"
   ]
  },
  {
   "cell_type": "raw",
   "metadata": {},
   "source": [
    "key: [Grad1, Grad2, ...]\n",
    "key: key ne postoji u ovom recniku"
   ]
  },
  {
   "cell_type": "code",
   "execution_count": 18,
   "metadata": {},
   "outputs": [
    {
     "name": "stdout",
     "output_type": "stream",
     "text": [
      "Serbia ['Belgrade', 'Novi Sad']\n",
      "China ['Shanghai', 'Beijing']\n"
     ]
    },
    {
     "ename": "KeyError",
     "evalue": "'Germany'",
     "output_type": "error",
     "traceback": [
      "\u001b[0;31m---------------------------------------------------------------------------\u001b[0m",
      "\u001b[0;31mKeyError\u001b[0m                                  Traceback (most recent call last)",
      "\u001b[0;32m<ipython-input-18-baa4d3e2dd7b>\u001b[0m in \u001b[0;36m<module>\u001b[0;34m\u001b[0m\n\u001b[1;32m      1\u001b[0m \u001b[0;32mfor\u001b[0m \u001b[0mkey\u001b[0m \u001b[0;32min\u001b[0m \u001b[0mkeys\u001b[0m\u001b[0;34m:\u001b[0m\u001b[0;34m\u001b[0m\u001b[0m\n\u001b[0;32m----> 2\u001b[0;31m     \u001b[0mprint\u001b[0m\u001b[0;34m(\u001b[0m\u001b[0mkey\u001b[0m\u001b[0;34m,\u001b[0m \u001b[0mcities\u001b[0m\u001b[0;34m[\u001b[0m\u001b[0mkey\u001b[0m\u001b[0;34m]\u001b[0m\u001b[0;34m)\u001b[0m \u001b[0;31m# bacice gresku\u001b[0m\u001b[0;34m\u001b[0m\u001b[0m\n\u001b[0m",
      "\u001b[0;31mKeyError\u001b[0m: 'Germany'"
     ]
    }
   ],
   "source": [
    "for key in keys:\n",
    "    print(key, cities[key]) # bacice gresku"
   ]
  },
  {
   "cell_type": "code",
   "execution_count": 19,
   "metadata": {},
   "outputs": [
    {
     "name": "stdout",
     "output_type": "stream",
     "text": [
      "Serbia : ['Belgrade', 'Novi Sad']\n",
      "China : ['Shanghai', 'Beijing']\n",
      "Germany: ne postoji u ovom recniku\n"
     ]
    }
   ],
   "source": [
    "for key in keys:\n",
    "    if key in cities:\n",
    "        print(key, ':', cities[key])\n",
    "    else:\n",
    "        print('{}: ne postoji u ovom recniku'.format(key)) # C-like formatiranje stringa"
   ]
  },
  {
   "cell_type": "markdown",
   "metadata": {},
   "source": [
    "Kada pravimo rečnike, preporučljivo je da svi ključevi budu svi istog tipa. Međutim u Pythonu nije greška ako nisu, pa tako je moguće završiti sa babama i žabama u ključevima. To nije preporučljivo raditi, ali 'ajmo da vidimo i zbog čega:"
   ]
  },
  {
   "cell_type": "code",
   "execution_count": 20,
   "metadata": {},
   "outputs": [
    {
     "data": {
      "text/plain": [
       "{4.0: 2, 'a': 3, True: 'true', False: 9}"
      ]
     },
     "execution_count": 20,
     "metadata": {},
     "output_type": "execute_result"
    }
   ],
   "source": [
    "babeZabe = {4.0: 2, 'a': 3, True: 'true', False: 9}\n",
    "babeZabe"
   ]
  },
  {
   "cell_type": "markdown",
   "metadata": {},
   "source": [
    "Probajmo sada da dodamo novi ključ 1:"
   ]
  },
  {
   "cell_type": "code",
   "execution_count": 21,
   "metadata": {},
   "outputs": [
    {
     "data": {
      "text/plain": [
       "{4.0: 2, 'a': 3, True: 7, False: 9}"
      ]
     },
     "execution_count": 21,
     "metadata": {},
     "output_type": "execute_result"
    }
   ],
   "source": [
    "babeZabe[1] = 7 \n",
    "babeZabe"
   ]
  },
  {
   "cell_type": "markdown",
   "metadata": {},
   "source": [
    "Python koristi jednakost da bi video da li postoji određeni ključ. Ranije smo radili da je True == 1, a False == 0, tako da smo uspeli da pristupimo tim vrednostima i zamenimo ih umesto da dodamo novu:"
   ]
  },
  {
   "cell_type": "code",
   "execution_count": 22,
   "metadata": {},
   "outputs": [
    {
     "data": {
      "text/plain": [
       "{4.0: 2, 'a': 3, True: 7, False: 'false'}"
      ]
     },
     "execution_count": 22,
     "metadata": {},
     "output_type": "execute_result"
    }
   ],
   "source": [
    "babeZabe[0] = 'false'\n",
    "babeZabe"
   ]
  },
  {
   "cell_type": "markdown",
   "metadata": {},
   "source": [
    "Iz istog razloga kada želim da dodam novi ključ integera 4, desiće se ažuriranje ključa double 4:"
   ]
  },
  {
   "cell_type": "code",
   "execution_count": 23,
   "metadata": {},
   "outputs": [
    {
     "data": {
      "text/plain": [
       "{4.0: 7, 'a': 3, True: 7, False: 'false'}"
      ]
     },
     "execution_count": 23,
     "metadata": {},
     "output_type": "execute_result"
    }
   ],
   "source": [
    "babeZabe[4] = 7\n",
    "babeZabe"
   ]
  },
  {
   "cell_type": "markdown",
   "metadata": {},
   "source": [
    "Jasna je **poenta**: Kako bi kod bio sigurniji i jasniji, ne treba mešati tipove u ključevima."
   ]
  }
 ],
 "metadata": {
  "kernelspec": {
   "display_name": "Python 3",
   "language": "python",
   "name": "python3"
  },
  "language_info": {
   "codemirror_mode": {
    "name": "ipython",
    "version": 3
   },
   "file_extension": ".py",
   "mimetype": "text/x-python",
   "name": "python",
   "nbconvert_exporter": "python",
   "pygments_lexer": "ipython3",
   "version": "3.6.7"
  }
 },
 "nbformat": 4,
 "nbformat_minor": 2
}
