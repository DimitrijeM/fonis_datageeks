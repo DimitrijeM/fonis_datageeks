{
 "cells": [
  {
   "cell_type": "markdown",
   "metadata": {},
   "source": [
    "# Fonis Datageeks\n",
    "## Wokshop: Exploratory Data Analysis\n",
    "### 1. Funkcije, lambde, map i filter, list comprehension\n",
    "Pripremio: [Dimitrije Milenković](https://www.linkedin.com/in/dimitrijemilenkovicdm/)\n",
    "<br>dimitrijemilenkovic.dm@gmail.com\n",
    "***"
   ]
  },
  {
   "cell_type": "markdown",
   "metadata": {},
   "source": [
    "Iako je tema radionice EDA, pre toga imamo dva kratka tutorijala koje pokrivaju koncepte koje tematski pripadaju prvoj radionici ali na njoj nismo stigli da pričamo o tome.\n",
    "***"
   ]
  },
  {
   "cell_type": "markdown",
   "metadata": {},
   "source": [
    "Do sada smo koristili ugrađene funkcije. Njihov poziv ima sledeću formu:\n",
    "> output_parametri = naziv_funkcije(input_parametri)"
   ]
  },
  {
   "cell_type": "markdown",
   "metadata": {},
   "source": [
    "Prisetimo se i slike:\n",
    "<br>![function](img/function.jpg)"
   ]
  },
  {
   "cell_type": "markdown",
   "metadata": {},
   "source": [
    "<br>Evo nekih funkcija koje smo već koristili:"
   ]
  },
  {
   "cell_type": "code",
   "execution_count": 1,
   "metadata": {},
   "outputs": [
    {
     "name": "stdout",
     "output_type": "stream",
     "text": [
      "5\n"
     ]
    }
   ],
   "source": [
    "x = str(5)\n",
    "print(x)"
   ]
  },
  {
   "cell_type": "code",
   "execution_count": 2,
   "metadata": {},
   "outputs": [
    {
     "name": "stdout",
     "output_type": "stream",
     "text": [
      "<class 'str'>\n"
     ]
    }
   ],
   "source": [
    "print(type(x))"
   ]
  },
  {
   "cell_type": "markdown",
   "metadata": {},
   "source": [
    "Pomenuto je da je funkcija deo koda koji rešava određeni problem i koji je neko napisao i dao nama na korišćenje. Međutim, naši problemi nekada nisu klasični, ali se ipak ponavljaju. Ako nisu klasični verovatno niko do sada nije napisao funkciju za njihovo rešavanje. Ipak ako se ponavljaju, nama je zgodno da za njih imamo funkciju koja ih rešava. \n",
    "<br>U tom slučaju možemo sami napisati funkciju. Do sada smo se bavili izlazima i ulazima u kutiju sa slike, a u ovom delu se bavimo samom kutijom - pišemo funkcije. Funkcije imaju sledeću formu:"
   ]
  },
  {
   "cell_type": "raw",
   "metadata": {},
   "source": [
    "def naziv_funkcije(input_parametri):\n",
    "    telo_funkcije\n",
    "    return output"
   ]
  },
  {
   "cell_type": "markdown",
   "metadata": {},
   "source": [
    "Prvi red se naziva **header**om (zaglavljem) funkcije, dok je ostalo **body** (telo) funkcije. Izlazna vrednost se navodi nakon ključne reči **return**, kao i u drugim programskim jezicima. Naravno, ne moramo uvek imati parametre koji ulaze iz funkciju ili izlaze iz nje. Pogledajmo prvo jednu funkciju bez parametra."
   ]
  },
  {
   "cell_type": "code",
   "execution_count": 3,
   "metadata": {},
   "outputs": [],
   "source": [
    "def square(): # header\n",
    "    new_value = 4 ** 2 # body\n",
    "    print(new_value) # body"
   ]
  },
  {
   "cell_type": "code",
   "execution_count": 4,
   "metadata": {},
   "outputs": [
    {
     "name": "stdout",
     "output_type": "stream",
     "text": [
      "16\n"
     ]
    }
   ],
   "source": [
    "square() # poziv funkcije"
   ]
  },
  {
   "cell_type": "markdown",
   "metadata": {},
   "source": [
    "Međutim ova funkcija rešava baš specifičan problem: kvadriranje četvorke. Mogla bi da bude malo generičkija kada bi se parametar koji se kvadrira slao kao input parametar:"
   ]
  },
  {
   "cell_type": "code",
   "execution_count": 5,
   "metadata": {},
   "outputs": [
    {
     "name": "stdout",
     "output_type": "stream",
     "text": [
      "16\n",
      "25\n"
     ]
    }
   ],
   "source": [
    "def square1(value): \n",
    "    new_value = value ** 2 \n",
    "    print(new_value)\n",
    "square1(4)\n",
    "square1(5) "
   ]
  },
  {
   "cell_type": "markdown",
   "metadata": {},
   "source": [
    "Ako želimo da bude još generičkija, nećemo štampati vrednost već ćemo je vratiti kao output parametar. Time obezbeđujemo da možemo i da je štampamo, ali da je koristimo za neka dalja računanja."
   ]
  },
  {
   "cell_type": "code",
   "execution_count": 6,
   "metadata": {},
   "outputs": [
    {
     "name": "stdout",
     "output_type": "stream",
     "text": [
      "16 7\n"
     ]
    }
   ],
   "source": [
    "def square2(value):\n",
    "    new_value = value ** 2\n",
    "    return new_value\n",
    "print(square2(4), square2(3) - 2)"
   ]
  },
  {
   "cell_type": "markdown",
   "metadata": {},
   "source": [
    "Ranije su već pomenuti **Docstrings**. Oni važe za jako dobru praksu u Pythonu, a služe za opisivanje funkcija, poput dokumentacije naše funkcije. Pišu se odmah ispod headera izmedju '''. "
   ]
  },
  {
   "cell_type": "code",
   "execution_count": 7,
   "metadata": {},
   "outputs": [],
   "source": [
    "def square2(value):\n",
    "    '''Vraća kvadrat prosleđenog broja'''\n",
    "    new_value = value ** 2\n",
    "    return new_value"
   ]
  },
  {
   "cell_type": "markdown",
   "metadata": {},
   "source": [
    "Razmislimo opet kako ova naša funkcija može biti još generičkija. Sada nam ona služi samo za podizanje na drugi stepen, tj kvadriranje. Mogli bismo da napišemo funkciju kojoj pored broja koji treba da podigne na stepen, prosleđujemo i na koji stepen treba da ga podigne."
   ]
  },
  {
   "cell_type": "code",
   "execution_count": 8,
   "metadata": {},
   "outputs": [
    {
     "name": "stdout",
     "output_type": "stream",
     "text": [
      "625\n"
     ]
    }
   ],
   "source": [
    "def raise_to_power(v1, v2):\n",
    "    ''' Podiže broj v1 na stepen broja v2. '''\n",
    "    new_value = v1 ** v2\n",
    "    return new_value\n",
    "a = raise_to_power(5,4)\n",
    "print(a)"
   ]
  },
  {
   "cell_type": "markdown",
   "metadata": {},
   "source": [
    "Pri pisanju funkcije možemo postaviti i opcione parametre, one koji u slučaju da im pri pozivu ne prosledimo vrednost, imaju neku default vrednost."
   ]
  },
  {
   "cell_type": "code",
   "execution_count": 9,
   "metadata": {},
   "outputs": [
    {
     "data": {
      "text/plain": [
       "(25, 125)"
      ]
     },
     "execution_count": 9,
     "metadata": {},
     "output_type": "execute_result"
    }
   ],
   "source": [
    "def raise_to_power1(v1, v2=2):\n",
    "    ''' Podiže broj v1 na stepen broja v2. '''\n",
    "    new_value = v1 ** v2\n",
    "    return new_value\n",
    "raise_to_power1(5), raise_to_power1(5,3)"
   ]
  },
  {
   "cell_type": "markdown",
   "metadata": {},
   "source": [
    "Vidimo da lako možemo proslediti funkciji više input parametara. Međutim šta je sa slučajevima kada želimo da vratimo više parametara? \n",
    "### Tuples\n",
    "Već znamo za liste i mogli bismo to da uradimo vraćanje liste, ali to nije preporuljivo. Znamo da su liste promenljive strukture, a nije baš poželjno da nešto što je rešenje funkcije može kasnije da se promeni. Zato uglavom u ovim slučajevima koristimo **tuples**. Tuplovi su struktura podataka slična listi, sa jednom velikom razlikom -- oni su immutable, što znači da se nakon inicijalizovanja, elementi tupla ne mogu menjati. Tuplovi se pišu u običnim zagrada."
   ]
  },
  {
   "cell_type": "code",
   "execution_count": 10,
   "metadata": {},
   "outputs": [
    {
     "data": {
      "text/plain": [
       "tuple"
      ]
     },
     "execution_count": 10,
     "metadata": {},
     "output_type": "execute_result"
    }
   ],
   "source": [
    "even = (2,4,6)\n",
    "type(even)"
   ]
  },
  {
   "cell_type": "code",
   "execution_count": 11,
   "metadata": {},
   "outputs": [
    {
     "data": {
      "text/plain": [
       "4"
      ]
     },
     "execution_count": 11,
     "metadata": {},
     "output_type": "execute_result"
    }
   ],
   "source": [
    "even[1]"
   ]
  },
  {
   "cell_type": "code",
   "execution_count": 12,
   "metadata": {},
   "outputs": [
    {
     "ename": "TypeError",
     "evalue": "'tuple' object does not support item assignment",
     "output_type": "error",
     "traceback": [
      "\u001b[0;31m---------------------------------------------------------------------------\u001b[0m",
      "\u001b[0;31mTypeError\u001b[0m                                 Traceback (most recent call last)",
      "\u001b[0;32m<ipython-input-12-7687424315e1>\u001b[0m in \u001b[0;36m<module>\u001b[0;34m\u001b[0m\n\u001b[0;32m----> 1\u001b[0;31m \u001b[0meven\u001b[0m\u001b[0;34m[\u001b[0m\u001b[0;36m1\u001b[0m\u001b[0;34m]\u001b[0m \u001b[0;34m=\u001b[0m \u001b[0;36m5\u001b[0m \u001b[0;31m# ne moze\u001b[0m\u001b[0;34m\u001b[0m\u001b[0;34m\u001b[0m\u001b[0m\n\u001b[0m",
      "\u001b[0;31mTypeError\u001b[0m: 'tuple' object does not support item assignment"
     ]
    }
   ],
   "source": [
    "even[1] = 5 # ne moze"
   ]
  },
  {
   "cell_type": "markdown",
   "metadata": {},
   "source": [
    "Tuple možemo otpakovati u obične promenljive na sledeći način:"
   ]
  },
  {
   "cell_type": "code",
   "execution_count": 13,
   "metadata": {},
   "outputs": [
    {
     "name": "stdout",
     "output_type": "stream",
     "text": [
      "2\n"
     ]
    }
   ],
   "source": [
    "a,b,c = even\n",
    "print(a)"
   ]
  },
  {
   "cell_type": "code",
   "execution_count": 14,
   "metadata": {},
   "outputs": [
    {
     "name": "stdout",
     "output_type": "stream",
     "text": [
      "(625, 1024) <class 'tuple'>\n"
     ]
    }
   ],
   "source": [
    "def raise_to_power2(v1, v2):\n",
    "    ''' Podiže v1 na stepen broja v2 i obrnuto. '''\n",
    "    new_value1 = v1 ** v2\n",
    "    new_value2 = v2 ** v1\n",
    "    return (new_value1, new_value2)\n",
    "a = raise_to_power2(5,4)\n",
    "print(a, type(a))"
   ]
  },
  {
   "cell_type": "markdown",
   "metadata": {},
   "source": [
    "`Zadatak 1.` Napisati funkciju koja spaja dva prosleđena stringa na dva načina: prvi sa drugim i drugi sa prvim."
   ]
  },
  {
   "cell_type": "code",
   "execution_count": 15,
   "metadata": {},
   "outputs": [
    {
     "data": {
      "text/plain": [
       "('fonis datageeks ', 'datageeks fonis ')"
      ]
     },
     "execution_count": 15,
     "metadata": {},
     "output_type": "execute_result"
    }
   ],
   "source": [
    "def concatenate(s1, s2):\n",
    "    ''' Dodaje string s1 na s2 i obrnuto. '''\n",
    "    r1 = s1+s2\n",
    "    r2 = s2+s1\n",
    "    return (r1, r2)\n",
    "a = concatenate('fonis ', 'datageeks ')\n",
    "a"
   ]
  },
  {
   "cell_type": "markdown",
   "metadata": {},
   "source": [
    "`Zadatak 2.` Napisati funkciju koja štampa prvih n brojeva fibonačijevog niza. n može biti prosleđen kao parametar, a ako nije onda štampati prvih 10 brojeva. Opisati šta radi funkcija u docstringu."
   ]
  },
  {
   "cell_type": "code",
   "execution_count": 16,
   "metadata": {},
   "outputs": [],
   "source": [
    "def fib(n=10):\n",
    "    a, b = 0, 1\n",
    "    br = 0\n",
    "    while br < n:\n",
    "        print(a, end=' ')\n",
    "        a, b = b, a+b\n",
    "        br += 1"
   ]
  },
  {
   "cell_type": "code",
   "execution_count": 17,
   "metadata": {},
   "outputs": [
    {
     "name": "stdout",
     "output_type": "stream",
     "text": [
      "0 1 1 2 3 5 8 13 21 34 55 89 144 233 377 610 987 1597 2584 4181 6765 10946 17711 28657 46368 75025 121393 196418 317811 514229 832040 1346269 2178309 3524578 5702887 9227465 14930352 24157817 39088169 63245986 102334155 165580141 267914296 433494437 701408733 1134903170 1836311903 2971215073 4807526976 7778742049 "
     ]
    }
   ],
   "source": [
    "fib(50)"
   ]
  },
  {
   "cell_type": "code",
   "execution_count": 18,
   "metadata": {},
   "outputs": [
    {
     "name": "stdout",
     "output_type": "stream",
     "text": [
      "0 1 1 2 3 5 8 13 21 34 "
     ]
    }
   ],
   "source": [
    "fib()"
   ]
  },
  {
   "cell_type": "markdown",
   "metadata": {},
   "source": [
    "### Promenljiv broj input parametara funkcije: args i kwargs"
   ]
  },
  {
   "cell_type": "markdown",
   "metadata": {},
   "source": [
    "Kao što je već napomenuto, u programiranju koristimo funkcije kako bi jedan isti kod koristili više puta za slične probleme.\n",
    "\n",
    "Međutim, recimo da nam treba trivijalna funkcija za sabiranje 3 broja:"
   ]
  },
  {
   "cell_type": "code",
   "execution_count": 19,
   "metadata": {},
   "outputs": [],
   "source": [
    "def my_sum(x, y, z):\n",
    "    return x+y+z"
   ]
  },
  {
   "cell_type": "code",
   "execution_count": 20,
   "metadata": {},
   "outputs": [
    {
     "data": {
      "text/plain": [
       "14"
      ]
     },
     "execution_count": 20,
     "metadata": {},
     "output_type": "execute_result"
    }
   ],
   "source": [
    "my_sum(3, 5, 6)"
   ]
  },
  {
   "cell_type": "markdown",
   "metadata": {},
   "source": [
    "Ovu funkciju možemo koristiti svaki put kada je potrebno da saberemo 3 broja. Međutim, kada nam se desi da je potrebno sabrati 4 broja, moramo pisati novu funkciju. Jasno je da ovo neće raditi:"
   ]
  },
  {
   "cell_type": "code",
   "execution_count": 21,
   "metadata": {},
   "outputs": [
    {
     "ename": "TypeError",
     "evalue": "my_sum() takes 3 positional arguments but 4 were given",
     "output_type": "error",
     "traceback": [
      "\u001b[0;31m---------------------------------------------------------------------------\u001b[0m",
      "\u001b[0;31mTypeError\u001b[0m                                 Traceback (most recent call last)",
      "\u001b[0;32m<ipython-input-21-2d7ffd72e215>\u001b[0m in \u001b[0;36m<module>\u001b[0;34m\u001b[0m\n\u001b[0;32m----> 1\u001b[0;31m \u001b[0mmy_sum\u001b[0m\u001b[0;34m(\u001b[0m\u001b[0;36m3\u001b[0m\u001b[0;34m,\u001b[0m \u001b[0;36m5\u001b[0m\u001b[0;34m,\u001b[0m \u001b[0;36m6\u001b[0m\u001b[0;34m,\u001b[0m \u001b[0;36m10\u001b[0m\u001b[0;34m)\u001b[0m\u001b[0;34m\u001b[0m\u001b[0;34m\u001b[0m\u001b[0m\n\u001b[0m",
      "\u001b[0;31mTypeError\u001b[0m: my_sum() takes 3 positional arguments but 4 were given"
     ]
    }
   ],
   "source": [
    "my_sum(3, 5, 6, 10)"
   ]
  },
  {
   "cell_type": "markdown",
   "metadata": {},
   "source": [
    "Divni Python ima način kako se bori sa ovim. U slučaju da želimo da naša funkcija može primiti promenljiv broj inputa, koristimo:\n",
    "- *args (Arguments - input argumenti bez naziva)\n",
    "- **kwargs (Keyword Arguments - input argumenti sa nazivima)"
   ]
  },
  {
   "cell_type": "markdown",
   "metadata": {},
   "source": [
    "Ako želimo da naša funkcija primi proizvoljan broj argumenata koji ne moraju imati naziv, koristimo `*args`. Pri definiciji funkcije navodimo promenljivu sa prefiksom * (promenljiva se ne mora zvati args, ali je to konvencija). Kasnije u funkciji, args posmatramo kao tuple i sa njim možemo raditi sve što možemo sa tuple-om."
   ]
  },
  {
   "cell_type": "code",
   "execution_count": 22,
   "metadata": {},
   "outputs": [],
   "source": [
    "def my_sum(*args):\n",
    "    sum = 0\n",
    "    \n",
    "    for n in args:\n",
    "        sum = sum + n\n",
    "\n",
    "    return sum"
   ]
  },
  {
   "cell_type": "code",
   "execution_count": 23,
   "metadata": {},
   "outputs": [
    {
     "name": "stdout",
     "output_type": "stream",
     "text": [
      "14\n",
      "24\n",
      "916\n"
     ]
    }
   ],
   "source": [
    "print(my_sum(3, 5, 6))\n",
    "print(my_sum(3, 5, 6, 10))\n",
    "print(my_sum(3, 5, 6, 10, 51, 16, 110, 15, 600, 100))"
   ]
  },
  {
   "cell_type": "markdown",
   "metadata": {},
   "source": [
    "Međutim, na prethodni način ne možemo proslediti imenovane inpute. Zbog toga Python uvodi `**kwargs`. Pri definiciji funkcije, potrebno je navesti promenljivu sa prefiksom **, a kasnije u funkciji ona se može koristiti kao dictionary. Evo primera:"
   ]
  },
  {
   "cell_type": "code",
   "execution_count": 24,
   "metadata": {},
   "outputs": [],
   "source": [
    "def people_info(**kwargs):\n",
    "    print('Tip input parametra je', type(kwargs))\n",
    "    print('Informacije o osobi:')\n",
    "    for key, value in kwargs.items():\n",
    "        print(\"{}: {}\".format(key,value))"
   ]
  },
  {
   "cell_type": "code",
   "execution_count": 25,
   "metadata": {},
   "outputs": [
    {
     "name": "stdout",
     "output_type": "stream",
     "text": [
      "Tip input parametra je <class 'dict'>\n",
      "Informacije o osobi:\n",
      "Ime: Andjela\n",
      "Prezime: Velimirovic\n",
      "Godine: 25\n",
      "Telefon: 1234567890\n",
      "Tip input parametra je <class 'dict'>\n",
      "Informacije o osobi:\n",
      "Ime: Dimitrije\n",
      "Prezime: Milenkovic\n",
      "Email: dimitrije@nomail.com\n",
      "Drzava: Srbija\n",
      "Godine: 22\n",
      "Telefon: 9876543210\n"
     ]
    }
   ],
   "source": [
    "people_info(Ime=\"Andjela\", Prezime=\"Velimirovic\", Godine=25, Telefon=1234567890) # hvala za sugestiju\n",
    "people_info(Ime=\"Dimitrije\", Prezime=\"Milenkovic\", Email=\"dimitrije@nomail.com\", Drzava=\"Srbija\", Godine=22, Telefon=9876543210)"
   ]
  },
  {
   "cell_type": "markdown",
   "metadata": {},
   "source": [
    "Ako bolje pogledamo, sa argsom smo lako mogli da implementiramo sabiranje. Međutim, ne bi bilo pametno koristiti ga za operacije gde je redosled bitan, kao što je to kod oduzimanja. Ako u ovom slučaju koristimo args, možemo upasti u problem kada pri pozivu funkcije neko prosledi parametre redosledom koji mi nismo podrazumevali. Zato smo sa kwargsom sigurni:"
   ]
  },
  {
   "cell_type": "code",
   "execution_count": 26,
   "metadata": {},
   "outputs": [],
   "source": [
    "def my_substract(**kwargs):\n",
    "    for key in ['Minuend', 'Subtrahend_1', 'Subtrahend_2']:\n",
    "        if kwargs.get(key) is None:\n",
    "            kwargs[key] = 0\n",
    "\n",
    "    return kwargs.get('Minuend') - kwargs.get('Subtrahend_1') - kwargs.get('Subtrahend_2')"
   ]
  },
  {
   "cell_type": "code",
   "execution_count": 27,
   "metadata": {},
   "outputs": [
    {
     "name": "stdout",
     "output_type": "stream",
     "text": [
      "7\n",
      "2\n",
      "-8\n"
     ]
    }
   ],
   "source": [
    "print(my_substract(Minuend=10, Subtrahend_1=3))\n",
    "print(my_substract(Minuend=10, Subtrahend_1=3, Subtrahend_2=5))\n",
    "print(my_substract(Subtrahend_1=3, Subtrahend_2=5))"
   ]
  },
  {
   "cell_type": "markdown",
   "metadata": {},
   "source": [
    "### Anonimne lambda funkcije. map() i filter()"
   ]
  },
  {
   "cell_type": "markdown",
   "metadata": {},
   "source": [
    "Pored klasičnih funkcija, u Pythonu možemo pisati anonimne (lambda) funkcije koje se definišu bez imena. Umesto defa koristimo ključnu reč lambda, a forma izgleda ovako:"
   ]
  },
  {
   "cell_type": "raw",
   "metadata": {},
   "source": [
    "lambda input_argumenti: izraz"
   ]
  },
  {
   "cell_type": "markdown",
   "metadata": {},
   "source": [
    "Lambda funkcija može uzimati više input argumenata, ali je ograničena na samo jedan izraz. Pri pozivu taj izraz se izvršava sa prosleđenim argumentima i vraća rezultat. Pri definisanju, lambda vraća objekat funkcija koji se može sačuvati u neku promenljivu. Uvek je jasnije uz primer:"
   ]
  },
  {
   "cell_type": "code",
   "execution_count": 28,
   "metadata": {},
   "outputs": [],
   "source": [
    "duplo = lambda x: x * 2"
   ]
  },
  {
   "cell_type": "code",
   "execution_count": 29,
   "metadata": {},
   "outputs": [
    {
     "data": {
      "text/plain": [
       "8"
      ]
     },
     "execution_count": 29,
     "metadata": {},
     "output_type": "execute_result"
    }
   ],
   "source": [
    "duplo(4)"
   ]
  },
  {
   "cell_type": "markdown",
   "metadata": {},
   "source": [
    "U ovom primeru x je ulazni argument, a x * 2 je izraz koji se izvršava i vraća rezultat. Funkcija nema naziv, već vraća objekat funkcija:"
   ]
  },
  {
   "cell_type": "code",
   "execution_count": 30,
   "metadata": {},
   "outputs": [
    {
     "data": {
      "text/plain": [
       "function"
      ]
     },
     "execution_count": 30,
     "metadata": {},
     "output_type": "execute_result"
    }
   ],
   "source": [
    "type(duplo)"
   ]
  },
  {
   "cell_type": "markdown",
   "metadata": {},
   "source": [
    "Tako duplo dalje možemo koristiti kao običnu funkciju."
   ]
  },
  {
   "cell_type": "markdown",
   "metadata": {},
   "source": [
    "Jasno je da se lambda funkcije koriste kada nam je potrebna anonimna funkcija na kratko vreme. Obično, lambde koristimo kao input argument u nekim drugim funkcijama, a česte su kombinacije sa funkcija map() i filter(). "
   ]
  },
  {
   "cell_type": "code",
   "execution_count": 31,
   "metadata": {},
   "outputs": [],
   "source": [
    "ocene = [5,6,7,8,9,10]"
   ]
  },
  {
   "cell_type": "code",
   "execution_count": 32,
   "metadata": {},
   "outputs": [
    {
     "data": {
      "text/plain": [
       "[9, 10]"
      ]
     },
     "execution_count": 32,
     "metadata": {},
     "output_type": "execute_result"
    }
   ],
   "source": [
    "visoke_ocene = list(filter(lambda x: (x > 8), ocene))\n",
    "visoke_ocene"
   ]
  },
  {
   "cell_type": "markdown",
   "metadata": {},
   "source": [
    "**filter()** funkcija služi za filterisanje samo onih vrednosti iz liste koje zadovoljavaju određeni uslov. Funkcija uzima sve vrednosti iz liste, a vraća samo one za koje je rezultat lambda funkcija True."
   ]
  },
  {
   "cell_type": "code",
   "execution_count": 33,
   "metadata": {},
   "outputs": [
    {
     "data": {
      "text/plain": [
       "[2, 3, 3, 4, 4, 5]"
      ]
     },
     "execution_count": 33,
     "metadata": {},
     "output_type": "execute_result"
    }
   ],
   "source": [
    "podeljene_ocene = list(map(lambda x: ( x // 2), ocene))\n",
    "podeljene_ocene"
   ]
  },
  {
   "cell_type": "markdown",
   "metadata": {},
   "source": [
    "**map()** ima sličan poziv kao filter(), s tim što ova funkcija vraća listu elemenata gde svaki odgovara rezultatu izvršenja lambde sa svakim od elemenata prosleđene liste. "
   ]
  },
  {
   "cell_type": "markdown",
   "metadata": {},
   "source": [
    "Primetimo da sve što možemo sa lambda funkcijama možemo i sa običnim, s tim što nam lambde dosta skraćuju kod, a tim i štede vreme."
   ]
  },
  {
   "cell_type": "markdown",
   "metadata": {},
   "source": [
    "### List comprehension\n",
    "Međutim nekada nam ni nisu potrebne map i filter funkcije jer sve to možemo uraditi u jednom redu koristeći **list comrehension**. To je koncept koji nam iteriranje čini još lakšim i preglednijim:"
   ]
  },
  {
   "cell_type": "code",
   "execution_count": 34,
   "metadata": {},
   "outputs": [
    {
     "data": {
      "text/plain": [
       "['k',\n",
       " 'a',\n",
       " 'k',\n",
       " 'o',\n",
       " ' ',\n",
       " 'k',\n",
       " 'i',\n",
       " 'd',\n",
       " 'a',\n",
       " ' ',\n",
       " 'o',\n",
       " 'v',\n",
       " 'a',\n",
       " 'j',\n",
       " ' ',\n",
       " 'p',\n",
       " 'y',\n",
       " 't',\n",
       " 'h',\n",
       " 'o',\n",
       " 'n']"
      ]
     },
     "execution_count": 34,
     "metadata": {},
     "output_type": "execute_result"
    }
   ],
   "source": [
    "rec = 'kako kida ovaj python'\n",
    "h_letters = [ slovo for slovo in rec ]\n",
    "h_letters"
   ]
  },
  {
   "cell_type": "markdown",
   "metadata": {},
   "source": [
    "Umesto ciste promenljive slovo mogao je stojati bilo koji izraz, logički ili računski, koji bi se primenio na svaki element strukture kroz koje se iterira (string, lista, niz...). Dakle, forma je sledeća:"
   ]
  },
  {
   "cell_type": "raw",
   "metadata": {},
   "source": [
    "[izraz for element in lista]"
   ]
  },
  {
   "cell_type": "code",
   "execution_count": 35,
   "metadata": {},
   "outputs": [
    {
     "data": {
      "text/plain": [
       "[2, 3, 3, 4, 4, 5]"
      ]
     },
     "execution_count": 35,
     "metadata": {},
     "output_type": "execute_result"
    }
   ],
   "source": [
    "podeljene_ocene = [ o // 2 for o in ocene]\n",
    "podeljene_ocene"
   ]
  },
  {
   "cell_type": "markdown",
   "metadata": {},
   "source": [
    "Takođe, možemo koristiti i uslove u kombinaciji sa list comprehension:"
   ]
  },
  {
   "cell_type": "code",
   "execution_count": 36,
   "metadata": {},
   "outputs": [
    {
     "data": {
      "text/plain": [
       "[9, 10]"
      ]
     },
     "execution_count": 36,
     "metadata": {},
     "output_type": "execute_result"
    }
   ],
   "source": [
    "visoke_ocene = [ o for o in ocene if o > 8 ]\n",
    "visoke_ocene"
   ]
  },
  {
   "cell_type": "markdown",
   "metadata": {},
   "source": [
    "Kako list comprehension može olakšati iteriranje, tako **oneline if** može olakšati dodelu vrednosti promenljivoj na osnovu uslova:"
   ]
  },
  {
   "cell_type": "code",
   "execution_count": 37,
   "metadata": {},
   "outputs": [
    {
     "data": {
      "text/plain": [
       "'kid'"
      ]
     },
     "execution_count": 37,
     "metadata": {},
     "output_type": "execute_result"
    }
   ],
   "source": [
    "age = 15\n",
    "person = 'kid' if age < 18 else 'adult'\n",
    "person"
   ]
  },
  {
   "cell_type": "markdown",
   "metadata": {},
   "source": [
    "Oneline if je zamena za ternarni operator (?) u drugim programskim jezicima. Pritom, može se koristiti i više ifova:"
   ]
  },
  {
   "cell_type": "code",
   "execution_count": 38,
   "metadata": {},
   "outputs": [
    {
     "data": {
      "text/plain": [
       "'teenager'"
      ]
     },
     "execution_count": 38,
     "metadata": {},
     "output_type": "execute_result"
    }
   ],
   "source": [
    "age = 15\n",
    "person = 'kid' if age < 13 else 'teenager' if age < 18 else 'adult'\n",
    "person"
   ]
  },
  {
   "cell_type": "code",
   "execution_count": 30,
   "metadata": {},
   "outputs": [
    {
     "data": {
      "text/plain": [
       "'teenager'"
      ]
     },
     "execution_count": 30,
     "metadata": {},
     "output_type": "execute_result"
    }
   ],
   "source": [
    "age = 15\n",
    "person = 'kid' if age < 13 else 'teenager' if age < 18 else 'adult'\n",
    "person"
   ]
  }
 ],
 "metadata": {
  "kernelspec": {
   "display_name": "Python 3",
   "language": "python",
   "name": "python3"
  },
  "language_info": {
   "codemirror_mode": {
    "name": "ipython",
    "version": 3
   },
   "file_extension": ".py",
   "mimetype": "text/x-python",
   "name": "python",
   "nbconvert_exporter": "python",
   "pygments_lexer": "ipython3",
   "version": "3.6.7"
  }
 },
 "nbformat": 4,
 "nbformat_minor": 2
}
