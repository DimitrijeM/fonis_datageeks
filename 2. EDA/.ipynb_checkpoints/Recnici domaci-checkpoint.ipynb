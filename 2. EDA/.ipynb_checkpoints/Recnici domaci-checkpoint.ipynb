{
 "cells": [
  {
   "cell_type": "code",
   "execution_count": null,
   "metadata": {},
   "outputs": [],
   "source": []
  },
  {
   "cell_type": "markdown",
   "metadata": {},
   "source": [
    "### Još jedan primer"
   ]
  },
  {
   "cell_type": "markdown",
   "metadata": {},
   "source": [
    "Rečnici su jako moćan tip podataka. Omogućavaju nam da mapiramo ključ proizvodnom vrednošću. Glavno ograničenje je to da je ključ nepromenljiv. Implementirajmo jednostavnu listu konktakta koja mapira imena telefonskim brojevima:"
   ]
  },
  {
   "cell_type": "code",
   "execution_count": 64,
   "metadata": {},
   "outputs": [],
   "source": [
    "contacts = {'Scott Rixner': '1-101-555-1234',\n",
    "            'Joe Warren': '1-102-555-5678',\n",
    "            'Jane Doe': '1-103-555-9012'}"
   ]
  },
  {
   "cell_type": "markdown",
   "metadata": {},
   "source": [
    "Rečnici se sastoje od niza ključ-vrednost parova, ograđenog vitičastim zagradama ({}). Parovi su odvojeni zarezom.\n",
    "Ajmo da napravimo funkciju koja vraća telefonski broj određenog korisnika na osnovu imena."
   ]
  },
  {
   "cell_type": "code",
   "execution_count": 70,
   "metadata": {},
   "outputs": [
    {
     "data": {
      "text/plain": [
       "('1-103-555-9012', 'Non-existent contact')"
      ]
     },
     "execution_count": 70,
     "metadata": {},
     "output_type": "execute_result"
    }
   ],
   "source": [
    "def lookup(contacts, name):\n",
    "    if name in contacts:\n",
    "        return contacts[name]\n",
    "    else:\n",
    "        return 'Non-existent contact'\n",
    "lookup(contacts, 'Jane Doe'), lookup(contacts, 'JaneDoe')"
   ]
  },
  {
   "cell_type": "code",
   "execution_count": 73,
   "metadata": {},
   "outputs": [
    {
     "data": {
      "text/plain": [
       "('1-103-555-9012', 'Non-existent contact')"
      ]
     },
     "execution_count": 73,
     "metadata": {},
     "output_type": "execute_result"
    }
   ],
   "source": [
    "def lookup2(contacts, name):\n",
    "    return contacts.get(name, 'Non-existent contact')\n",
    "lookup2(contacts, 'Jane Doe'), lookup(contacts, 'JaneDoe')"
   ]
  },
  {
   "cell_type": "markdown",
   "metadata": {},
   "source": [
    "Napraviti funkcije koje ispisuju sve kontakte u formi:\n",
    "- samo imena svih kontakta\n",
    "- ceo kontakt u formi: \"ime : broj\""
   ]
  },
  {
   "cell_type": "code",
   "execution_count": 75,
   "metadata": {},
   "outputs": [
    {
     "name": "stdout",
     "output_type": "stream",
     "text": [
      "Scott Rixner\n",
      "Joe Warren\n",
      "Jane Doe\n"
     ]
    }
   ],
   "source": [
    "def print_contacts(contacts):\n",
    "    for name in contacts:\n",
    "        print(name)\n",
    "print_contacts(contacts)"
   ]
  },
  {
   "cell_type": "code",
   "execution_count": 76,
   "metadata": {},
   "outputs": [
    {
     "name": "stdout",
     "output_type": "stream",
     "text": [
      "Scott Rixner : 1-101-555-1234\n",
      "Joe Warren : 1-102-555-5678\n",
      "Jane Doe : 1-103-555-9012\n"
     ]
    }
   ],
   "source": [
    "def print_contact_list(contacts):\n",
    "    for name, number in contacts.items():\n",
    "        print(name, \":\", number)\n",
    "print_contact_list(contacts)"
   ]
  },
  {
   "cell_type": "markdown",
   "metadata": {},
   "source": [
    "Python recnici nisu sortirani. Napraviti funkciju koja bi ih ispisala sortirane:"
   ]
  },
  {
   "cell_type": "code",
   "execution_count": 77,
   "metadata": {},
   "outputs": [
    {
     "name": "stdout",
     "output_type": "stream",
     "text": [
      "Jane Doe : 1-103-555-9012\n",
      "Joe Warren : 1-102-555-5678\n",
      "Scott Rixner : 1-101-555-1234\n"
     ]
    }
   ],
   "source": [
    "def print_ordered(contacts):\n",
    "    keys = contacts.keys()\n",
    "    names = sorted(keys)\n",
    "    for name in names:\n",
    "        print(name, \":\", contacts[name])\n",
    "print_ordered(contacts)"
   ]
  },
  {
   "cell_type": "markdown",
   "metadata": {},
   "source": [
    "Funkcija keys vraca listu kljuceva, a funkcija sorted vraca sortiranu listu koja joj prosledjena."
   ]
  },
  {
   "cell_type": "markdown",
   "metadata": {},
   "source": [
    "Dodavanje i izmena kontakta su jako slicni, pogledajmo kako oni izgledaju odvojeno, a zatim i zajedno:"
   ]
  },
  {
   "cell_type": "code",
   "execution_count": 82,
   "metadata": {},
   "outputs": [
    {
     "name": "stdout",
     "output_type": "stream",
     "text": [
      "Dimi is already in contacts list!\n",
      "Jane Doe is already in contacts list!\n",
      "DimiM is not in contacts list!\n"
     ]
    },
    {
     "data": {
      "text/plain": [
       "{'Scott Rixner': '1-101-555-1234',\n",
       " 'Joe Warren': '1-102-555-5678',\n",
       " 'Jane Doe': '062-222',\n",
       " 'Dimi': '062-222'}"
      ]
     },
     "execution_count": 82,
     "metadata": {},
     "output_type": "execute_result"
    }
   ],
   "source": [
    "def add_contact(contacts, name, number):\n",
    "    if name in contacts:\n",
    "        print(name, \"is already in contacts list!\")\n",
    "    else:\n",
    "        contacts[name] = number\n",
    "        \n",
    "def update_contact(contacts, name, newnumber):\n",
    "    if name in contacts:\n",
    "        contacts[name] = newnumber\n",
    "    else:\n",
    "        print(name, \"is not in contacts list!\")\n",
    "add_contact(contacts, 'Dimi', '062-222'), add_contact(contacts, 'Jane Doe', '062-222'), update_contact(contacts, 'DimiM', '062-222'), update_contact(contacts, 'Jane Doe', '062-222')\n",
    "contacts"
   ]
  },
  {
   "cell_type": "code",
   "execution_count": 84,
   "metadata": {},
   "outputs": [
    {
     "data": {
      "text/plain": [
       "{'Scott Rixner': '1-101-555-1234',\n",
       " 'Joe Warren': '1-102-555-5678',\n",
       " 'Jane Doe': '062-222',\n",
       " 'Dimi': '062-222',\n",
       " 'DimiM': '062-222'}"
      ]
     },
     "execution_count": 84,
     "metadata": {},
     "output_type": "execute_result"
    }
   ],
   "source": [
    "# cesto je prakticnije da se ove dve metode spoje\n",
    "def add_or_update_contact(contacts, name, number):\n",
    "    contacts[name] = number\n",
    "add_or_update_contact(contacts, 'DimiM', '062-222')\n",
    "contacts"
   ]
  },
  {
   "cell_type": "markdown",
   "metadata": {},
   "source": [
    "### Rad sa greskama u recnicima\n",
    "\n",
    "Za brz pristup parovima recnika, Python koristi hesiranje. Iz tog razloga, jako je bitno da kljucevi budu nepromenljivi (immutable)."
   ]
  },
  {
   "cell_type": "markdown",
   "metadata": {},
   "source": [
    "Ako zelimo da u kljucu imamo vise vrednosti, mozda cemo pomisliti  da je okej da nam list bude kluc. Medjutim, kako smo naucili lista je promenljiva struktura:"
   ]
  },
  {
   "cell_type": "code",
   "execution_count": 89,
   "metadata": {},
   "outputs": [
    {
     "ename": "TypeError",
     "evalue": "unhashable type: 'list'",
     "output_type": "error",
     "traceback": [
      "\u001b[0;31m---------------------------------------------------------------------------\u001b[0m",
      "\u001b[0;31mTypeError\u001b[0m                                 Traceback (most recent call last)",
      "\u001b[0;32m<ipython-input-89-207ea9c3b89a>\u001b[0m in \u001b[0;36m<module>\u001b[0;34m()\u001b[0m\n\u001b[0;32m----> 1\u001b[0;31m \u001b[0mbad_dict\u001b[0m \u001b[0;34m=\u001b[0m \u001b[0;34m{\u001b[0m\u001b[0;34m[\u001b[0m\u001b[0;34m\"Joe\"\u001b[0m\u001b[0;34m,\u001b[0m \u001b[0;34m\"Warren\"\u001b[0m\u001b[0;34m]\u001b[0m \u001b[0;34m:\u001b[0m \u001b[0;36m1\u001b[0m\u001b[0;34m,\u001b[0m \u001b[0;34m[\u001b[0m\u001b[0;34m\"Scott\"\u001b[0m\u001b[0;34m,\u001b[0m \u001b[0;34m\"Rixner\"\u001b[0m\u001b[0;34m]\u001b[0m \u001b[0;34m:\u001b[0m \u001b[0;36m2\u001b[0m\u001b[0;34m,\u001b[0m \u001b[0;34m[\u001b[0m\u001b[0;34m\"John\"\u001b[0m\u001b[0;34m,\u001b[0m \u001b[0;34m\"Greiner\"\u001b[0m\u001b[0;34m]\u001b[0m \u001b[0;34m:\u001b[0m \u001b[0;36m3\u001b[0m\u001b[0;34m}\u001b[0m\u001b[0;34m\u001b[0m\u001b[0m\n\u001b[0m\u001b[1;32m      2\u001b[0m \u001b[0mprint\u001b[0m\u001b[0;34m(\u001b[0m\u001b[0mbad_dict\u001b[0m\u001b[0;34m)\u001b[0m\u001b[0;34m\u001b[0m\u001b[0m\n",
      "\u001b[0;31mTypeError\u001b[0m: unhashable type: 'list'"
     ]
    }
   ],
   "source": [
    "bad_dict = {[\"Joe\", \"Warren\"] : 1, [\"Scott\", \"Rixner\"] : 2, [\"John\", \"Greiner\"] : 3}\n",
    "print(bad_dict)"
   ]
  },
  {
   "cell_type": "markdown",
   "metadata": {},
   "source": [
    "U ovom slucaju je okej da koristimo tuples:"
   ]
  },
  {
   "cell_type": "code",
   "execution_count": 92,
   "metadata": {},
   "outputs": [
    {
     "data": {
      "text/plain": [
       "{('Joe', 'Warren'): 1, ('Scott', 'Rixner'): 2, ('John', 'Greiner'): 3}"
      ]
     },
     "execution_count": 92,
     "metadata": {},
     "output_type": "execute_result"
    }
   ],
   "source": [
    "good_dict = {(\"Joe\", \"Warren\") : 1, (\"Scott\", \"Rixner\") : 2, (\"John\", \"Greiner\") : 3}\n",
    "good_dict"
   ]
  },
  {
   "cell_type": "code",
   "execution_count": 93,
   "metadata": {},
   "outputs": [
    {
     "data": {
      "text/plain": [
       "1"
      ]
     },
     "execution_count": 93,
     "metadata": {},
     "output_type": "execute_result"
    }
   ],
   "source": [
    "good_dict[(\"Joe\", \"Warren\")]"
   ]
  },
  {
   "cell_type": "code",
   "execution_count": 95,
   "metadata": {},
   "outputs": [
    {
     "data": {
      "text/plain": [
       "(1, 'Non-existent')"
      ]
     },
     "execution_count": 95,
     "metadata": {},
     "output_type": "execute_result"
    }
   ],
   "source": [
    "# pitanje implmentirati ovo\n",
    "\"\"\"\n",
    "    Given dictionary my_dict and key my_key, \n",
    "    return my_dict[my_key] if my_key is in my_dict\n",
    "    otherwise return default_value\n",
    "\"\"\"\n",
    "def lookup(my_dict, my_key, default_value=None):\n",
    "    \n",
    "    if my_key in my_dict:\n",
    "        return my_dict[my_key]\n",
    "    else:\n",
    "        return default_value\n",
    "lookup(good_dict, (\"Joe\", \"Warren\"), \"Non-existent\"), lookup(good_dict, (\"Dimitrije\", \"Milenkovic\"), \"Non-existent\")"
   ]
  },
  {
   "cell_type": "code",
   "execution_count": 97,
   "metadata": {},
   "outputs": [
    {
     "data": {
      "text/plain": [
       "(1, 'Non-existent')"
      ]
     },
     "execution_count": 97,
     "metadata": {},
     "output_type": "execute_result"
    }
   ],
   "source": [
    "# pitanje: koja ugradjena funkcija se ovako ponasa\n",
    "good_dict.get((\"Joe\", \"Warren\"), \"Non-existent\"), good_dict.get((\"D\", \"M\"), \"Non-existent\")"
   ]
  },
  {
   "cell_type": "markdown",
   "metadata": {},
   "source": [
    "Zadaci:https://www.coursera.org/learn/python-analysis/supplement/wCkyw/practice-exercises-for-dictionaries"
   ]
  },
  {
   "cell_type": "code",
   "execution_count": null,
   "metadata": {},
   "outputs": [],
   "source": []
  }
 ],
 "metadata": {
  "kernelspec": {
   "display_name": "Python 3",
   "language": "python",
   "name": "python3"
  },
  "language_info": {
   "codemirror_mode": {
    "name": "ipython",
    "version": 3
   },
   "file_extension": ".py",
   "mimetype": "text/x-python",
   "name": "python",
   "nbconvert_exporter": "python",
   "pygments_lexer": "ipython3",
   "version": "3.6.6"
  }
 },
 "nbformat": 4,
 "nbformat_minor": 2
}
