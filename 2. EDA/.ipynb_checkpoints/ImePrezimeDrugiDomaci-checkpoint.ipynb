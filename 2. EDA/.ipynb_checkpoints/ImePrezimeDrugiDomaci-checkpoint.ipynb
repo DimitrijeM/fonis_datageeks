{
 "cells": [
  {
   "cell_type": "markdown",
   "metadata": {},
   "source": [
    "# Fonis Datageeks\n",
    "## Wokshop: Exploratory Data Analysis\n",
    "### Domaći zadatak: Ad-hoc analiza kupovina tokom Black Fridaya\n",
    "***"
   ]
  },
  {
   "cell_type": "markdown",
   "metadata": {},
   "source": [
    "**Dodati code cellove sa rešenjem nakon svakog zadatka.**"
   ]
  },
  {
   "cell_type": "markdown",
   "metadata": {},
   "source": [
    "***"
   ]
  },
  {
   "cell_type": "markdown",
   "metadata": {},
   "source": [
    "1. Učitati dataset BlackFriday. Nalazi se na [našem drajvu](https://drive.google.com/open?id=1e7U_goISvsagQP1Rwqllu15MjSmc-0cP). Radi se o datasetu o kupovinama koje su se obavile u prodavnici za vreme Black Fridaya. Više informacija o datasetu možete naći na [Kaggle-u](https://www.kaggle.com/mehdidag/black-friday)."
   ]
  },
  {
   "cell_type": "markdown",
   "metadata": {},
   "source": [
    "***"
   ]
  },
  {
   "cell_type": "markdown",
   "metadata": {},
   "source": [
    "2. Koliko procenata kupaca je mlađe od 35 godina?"
   ]
  },
  {
   "cell_type": "markdown",
   "metadata": {},
   "source": [
    "***"
   ]
  },
  {
   "cell_type": "markdown",
   "metadata": {},
   "source": [
    "3. Koliko prosečno novca na kupovinu potroše muškarci a koliko žene?"
   ]
  },
  {
   "cell_type": "markdown",
   "metadata": {},
   "source": [
    "***"
   ]
  },
  {
   "cell_type": "markdown",
   "metadata": {},
   "source": [
    "4. Ukratko opisati koliko često kupuju i koliko novca troše na kupovinu klijenti različite starosti i različitog pola."
   ]
  },
  {
   "cell_type": "markdown",
   "metadata": {},
   "source": [
    "***"
   ]
  },
  {
   "cell_type": "markdown",
   "metadata": {},
   "source": [
    "5. Vizualizovati i napisati zaključak o tome kako je raspoređena visina računa (Da li najviše ima računa sa malim/srednjim/visokim iznosima ili je jednako verovatno da se pojavi bilo koji iznos? Kakvih outlier ima više? Kojom biste merom najbolje opisali prosečan iznos računa? Da li taj iznos malo ili mnogo varira? (i slično)"
   ]
  },
  {
   "cell_type": "markdown",
   "metadata": {},
   "source": [
    "***"
   ]
  },
  {
   "cell_type": "markdown",
   "metadata": {},
   "source": [
    "6. Vizualizovati frekvenciju pojavljivanja svake od kategorija u kategoričkim atributima Starost, Zanimanje i Godine života u trenutnom gradu. Da li kupci ove radnje dolaze iz svih grupa podjednako? Prokomentarisati. `Napomena` Occupation atribut je maskiran, što znači da se odnosi na zanimanje ali umesto naziva zanimanja, zbog privatnosti je odlučeno da se vide samo šifre 0,1,2... "
   ]
  },
  {
   "cell_type": "markdown",
   "metadata": {},
   "source": [
    "***"
   ]
  },
  {
   "cell_type": "markdown",
   "metadata": {},
   "source": [
    "7. Da li visina računa zavisi od bračnog statusa? Vizualizovati. "
   ]
  },
  {
   "cell_type": "markdown",
   "metadata": {},
   "source": [
    "***"
   ]
  },
  {
   "cell_type": "markdown",
   "metadata": {},
   "source": [
    "8. Zabave radi, na osnovu svega ovoga, da li bi mogao/la da pretpostaviš šta prodaje ova kompanija?"
   ]
  }
 ],
 "metadata": {
  "kernelspec": {
   "display_name": "Python 3",
   "language": "python",
   "name": "python3"
  },
  "language_info": {
   "codemirror_mode": {
    "name": "ipython",
    "version": 3
   },
   "file_extension": ".py",
   "mimetype": "text/x-python",
   "name": "python",
   "nbconvert_exporter": "python",
   "pygments_lexer": "ipython3",
   "version": "3.6.6"
  }
 },
 "nbformat": 4,
 "nbformat_minor": 2
}
