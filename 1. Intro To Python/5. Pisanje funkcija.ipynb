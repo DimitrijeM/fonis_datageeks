{
 "cells": [
  {
   "cell_type": "markdown",
   "metadata": {},
   "source": [
    "# Fonis Datageeks\n",
    "## Wokshop: Intro to Python and Data Science\n",
    "### 5. Pisanje funkcija\n",
    "Pripremio: [Dimitrije Milenković](https://www.linkedin.com/in/dimitrijemilenkovicdm/)\n",
    "<br>dimitrijemilenkovic.dm@gmail.com"
   ]
  },
  {
   "cell_type": "markdown",
   "metadata": {},
   "source": [
    "Do sada smo koristili ugrađene funkcije. Njihov poziv ima sledeću formu:\n",
    "<br>output_parametri = naziv_funkcije(input_parametri)\n",
    "<br>Evo nekih funkcija koje smo već koristili:"
   ]
  },
  {
   "cell_type": "code",
   "execution_count": 1,
   "metadata": {},
   "outputs": [
    {
     "name": "stdout",
     "output_type": "stream",
     "text": [
      "5\n"
     ]
    }
   ],
   "source": [
    "x = str(5)\n",
    "print(x)"
   ]
  },
  {
   "cell_type": "code",
   "execution_count": 2,
   "metadata": {},
   "outputs": [
    {
     "name": "stdout",
     "output_type": "stream",
     "text": [
      "<class 'str'>\n"
     ]
    }
   ],
   "source": [
    "print(type(x))"
   ]
  },
  {
   "cell_type": "markdown",
   "metadata": {},
   "source": [
    "Pomenuto je da je funkcija deo koda koji rešava određeni problem i koji je neko napisao i dao nama na korišćenje. Međutim, naši problemi nekada nisu klasični, ali se ipak ponavljaju. Ako nisu klasični verovatno niko do sada nije napisao funkciju za njihovo rešavanje. Ipak ako se ponavljaju, nama je zgodno da za njih imamo funkciju koja ih rešava. \n",
    "<br>U tom slučaju možemo sami napisati funkciju. Funkcije imaju sledeću formu:"
   ]
  },
  {
   "cell_type": "raw",
   "metadata": {},
   "source": [
    "def naziv_funkcije(iput_parametri):\n",
    "    telo_funkcije\n",
    "    return output"
   ]
  },
  {
   "cell_type": "markdown",
   "metadata": {},
   "source": [
    "Prvi red se naziva **header**om (zaglavljem) funkcije, dok je ostalo **body** (telo) funkcije. Izlazna vrednost se navodi nakon ključne reči **return**, kao i u drugim programskim jezicima. Naravno, ne moramo uvek imati parametre koji ulaze iz funkciju ili izlaze iz nje. Pogledajmo prvo jednu funkciju bez parametra."
   ]
  },
  {
   "cell_type": "code",
   "execution_count": 4,
   "metadata": {},
   "outputs": [],
   "source": [
    "def square(): # header\n",
    "    new_value = 4 ** 2 # body\n",
    "    print(new_value) # body"
   ]
  },
  {
   "cell_type": "code",
   "execution_count": 5,
   "metadata": {},
   "outputs": [
    {
     "name": "stdout",
     "output_type": "stream",
     "text": [
      "16\n"
     ]
    }
   ],
   "source": [
    "square() # poziv funkcije"
   ]
  },
  {
   "cell_type": "markdown",
   "metadata": {},
   "source": [
    "Međutim ova funkcija rešava baš specifičan problem: kvadriranje četvorke. Mogla bi da bude malo generičkija kada bi se parametar koji se kvadrira slao kao input parametar:"
   ]
  },
  {
   "cell_type": "code",
   "execution_count": 7,
   "metadata": {},
   "outputs": [
    {
     "name": "stdout",
     "output_type": "stream",
     "text": [
      "16\n",
      "25\n"
     ]
    }
   ],
   "source": [
    "def square1(value): \n",
    "    new_value = value ** 2 \n",
    "    print(new_value)\n",
    "square1(4)\n",
    "square1(5) "
   ]
  },
  {
   "cell_type": "markdown",
   "metadata": {},
   "source": [
    "Ako želimo da bude još generičkija, nećemo štampati vrednost već ćemo je vratiti kao output parametar. Time obezbeđujemo da možemo i da je štampamo, ali da je koristimo za neka dalja računanja."
   ]
  },
  {
   "cell_type": "code",
   "execution_count": 9,
   "metadata": {},
   "outputs": [
    {
     "name": "stdout",
     "output_type": "stream",
     "text": [
      "16 7\n"
     ]
    }
   ],
   "source": [
    "def square2(value):\n",
    "    new_value = value ** 2\n",
    "    return new_value\n",
    "print(square2(4), square2(3) - 2)"
   ]
  },
  {
   "cell_type": "markdown",
   "metadata": {},
   "source": [
    "Super stvar u Pythonu su **Docstrings**. Oni služe za opisivanje funkcija, kao neka dokumentacija naše funkcije. Pišu se odmah ispod headera izmedju '''. "
   ]
  },
  {
   "cell_type": "code",
   "execution_count": 10,
   "metadata": {},
   "outputs": [],
   "source": [
    "def square2(value):\n",
    "    '''Vraća kvadra prosleđenog broja'''\n",
    "    new_value = value ** 2\n",
    "    return new_value"
   ]
  },
  {
   "cell_type": "markdown",
   "metadata": {},
   "source": [
    "Kako ova naša funkcija može biti generičkija? Sada nam služi samo za podizanje na drugi stepen, tj kvadriranje. Mogli bismo da napišemo funkciju kojoj pored broja koji treba da podigne na stepen, prosleđujemo i na koji stepen treba da ga podigne."
   ]
  },
  {
   "cell_type": "code",
   "execution_count": 11,
   "metadata": {},
   "outputs": [
    {
     "name": "stdout",
     "output_type": "stream",
     "text": [
      "625\n"
     ]
    }
   ],
   "source": [
    "def raise_to_power(v1, v2):\n",
    "    ''' Podiže broj v1 na stepen broja v2. '''\n",
    "    new_value = v1 ** v2\n",
    "    return new_value\n",
    "a = raise_to_power(5,4)\n",
    "print(a)"
   ]
  },
  {
   "cell_type": "markdown",
   "metadata": {},
   "source": [
    "Pri pisanju funkcije možemo postaviti i opcione parametre, one koji u slučaju da im pri pozivu ne prosledimo vrednost, imaju neku default vrednost."
   ]
  },
  {
   "cell_type": "code",
   "execution_count": 14,
   "metadata": {},
   "outputs": [
    {
     "data": {
      "text/plain": [
       "(25, 125)"
      ]
     },
     "execution_count": 14,
     "metadata": {},
     "output_type": "execute_result"
    }
   ],
   "source": [
    "def raise_to_power1(v1, v2=2):\n",
    "    ''' Podiže broj v1 na stepen broja v2. '''\n",
    "    new_value = v1 ** v2\n",
    "    return new_value\n",
    "raise_to_power1(5), raise_to_power1(5,3)"
   ]
  },
  {
   "cell_type": "markdown",
   "metadata": {},
   "source": [
    "Vidimo da lako možemo proslediti funkciji više input parametara. Međutim šta je sa slučajevima kada želimo da vratimo više parametara? \n",
    "<br>Već znamo za liste i mogli bismo to da uradimo vraćanje liste, ali to nije preporuljivo. Znamo da su liste promenljive strukture, a nije baš poželjno da nešto što je rešenje funkcije može kasnije da se promeni. Zato uglavom u ovim slučajevima koristimo **tuples**. Tuplovi su struktura podataka slična listi, sa jednom velikom razlikom -- oni su immutable, što znači da se nakon inicijalizovanja, elementi tupla ne mogu menjati. Tuplovi se pišu u običnim zagrada."
   ]
  },
  {
   "cell_type": "code",
   "execution_count": 18,
   "metadata": {},
   "outputs": [
    {
     "data": {
      "text/plain": [
       "tuple"
      ]
     },
     "execution_count": 18,
     "metadata": {},
     "output_type": "execute_result"
    }
   ],
   "source": [
    "even = (2,4,6)\n",
    "type(even)"
   ]
  },
  {
   "cell_type": "code",
   "execution_count": 20,
   "metadata": {},
   "outputs": [
    {
     "data": {
      "text/plain": [
       "4"
      ]
     },
     "execution_count": 20,
     "metadata": {},
     "output_type": "execute_result"
    }
   ],
   "source": [
    "even[1]"
   ]
  },
  {
   "cell_type": "code",
   "execution_count": 22,
   "metadata": {},
   "outputs": [
    {
     "ename": "TypeError",
     "evalue": "'tuple' object does not support item assignment",
     "output_type": "error",
     "traceback": [
      "\u001b[0;31m---------------------------------------------------------------------------\u001b[0m",
      "\u001b[0;31mTypeError\u001b[0m                                 Traceback (most recent call last)",
      "\u001b[0;32m<ipython-input-22-7687424315e1>\u001b[0m in \u001b[0;36m<module>\u001b[0;34m\u001b[0m\n\u001b[0;32m----> 1\u001b[0;31m \u001b[0meven\u001b[0m\u001b[0;34m[\u001b[0m\u001b[0;36m1\u001b[0m\u001b[0;34m]\u001b[0m \u001b[0;34m=\u001b[0m \u001b[0;36m5\u001b[0m \u001b[0;31m# ne moze\u001b[0m\u001b[0;34m\u001b[0m\u001b[0m\n\u001b[0m",
      "\u001b[0;31mTypeError\u001b[0m: 'tuple' object does not support item assignment"
     ]
    }
   ],
   "source": [
    "even[1] = 5 # ne moze"
   ]
  },
  {
   "cell_type": "markdown",
   "metadata": {},
   "source": [
    "Tuple možemo otpakovati u obične promenljive na sledeći način:"
   ]
  },
  {
   "cell_type": "code",
   "execution_count": 24,
   "metadata": {},
   "outputs": [
    {
     "name": "stdout",
     "output_type": "stream",
     "text": [
      "2\n"
     ]
    }
   ],
   "source": [
    "a,b,c = even\n",
    "print(a)"
   ]
  },
  {
   "cell_type": "code",
   "execution_count": 27,
   "metadata": {},
   "outputs": [
    {
     "name": "stdout",
     "output_type": "stream",
     "text": [
      "(625, 1024) <class 'tuple'>\n"
     ]
    }
   ],
   "source": [
    "def raise_to_power2(v1, v2):\n",
    "    ''' Podiže v1 na stepen broja v2 i obrnuto. '''\n",
    "    new_value1 = v1 ** v2\n",
    "    new_value2 = v2 ** v1\n",
    "    return (new_value1, new_value2)\n",
    "a = raise_to_power2(5,4)\n",
    "print(a, type(a))"
   ]
  },
  {
   "cell_type": "markdown",
   "metadata": {},
   "source": [
    "`Zadatak 1.` Napisati funkciju koja spaja dva prosleđena stringa na dva načina: prvi sa drugim i drugi sa prvim."
   ]
  },
  {
   "cell_type": "code",
   "execution_count": 29,
   "metadata": {},
   "outputs": [
    {
     "data": {
      "text/plain": [
       "('hello world ', 'world hello ')"
      ]
     },
     "execution_count": 29,
     "metadata": {},
     "output_type": "execute_result"
    }
   ],
   "source": [
    "# Napisati fju koja spaja dva prosledjena stringa\n",
    "def concatenate(s1, s2):\n",
    "    ''' Concatenate s1 to the s2 and vice versa. '''\n",
    "    r1 = s1+s2\n",
    "    r2 = s2+s1\n",
    "    return (r1, r2)\n",
    "a = concatenate('hello ','world ')\n",
    "a"
   ]
  },
  {
   "cell_type": "markdown",
   "metadata": {},
   "source": [
    "`Zadatak 2.` Napisati funkciju koja štampa prvih n brojeva fibonačijevog niza. n može biti prosleđen kao parametar, a ako nije onda štampati prvih 10 brojeva. Opisati šta radi funkcija u docstringu."
   ]
  },
  {
   "cell_type": "code",
   "execution_count": 38,
   "metadata": {},
   "outputs": [],
   "source": [
    "def fib(n=10):\n",
    "     '''Štampa prvih n brojeva Fibonacci niza.'''\n",
    "     a, b = 0, 1\n",
    "     while a < n:\n",
    "         print(a, end=' ')\n",
    "         a, b = b, a+b"
   ]
  },
  {
   "cell_type": "code",
   "execution_count": 39,
   "metadata": {},
   "outputs": [
    {
     "name": "stdout",
     "output_type": "stream",
     "text": [
      "0 1 1 2 3 5 8 13 21 34 "
     ]
    }
   ],
   "source": [
    "fib(50)"
   ]
  },
  {
   "cell_type": "code",
   "execution_count": 41,
   "metadata": {},
   "outputs": [
    {
     "name": "stdout",
     "output_type": "stream",
     "text": [
      "0 1 1 2 3 5 8 "
     ]
    }
   ],
   "source": [
    "fib()"
   ]
  }
 ],
 "metadata": {
  "kernelspec": {
   "display_name": "Python 3",
   "language": "python",
   "name": "python3"
  },
  "language_info": {
   "codemirror_mode": {
    "name": "ipython",
    "version": 3
   },
   "file_extension": ".py",
   "mimetype": "text/x-python",
   "name": "python",
   "nbconvert_exporter": "python",
   "pygments_lexer": "ipython3",
   "version": "3.6.7"
  }
 },
 "nbformat": 4,
 "nbformat_minor": 2
}
