{
 "cells": [
  {
   "cell_type": "markdown",
   "metadata": {},
   "source": [
    "# Fonis Datageeks\n",
    "## Wokshop: Intro to Python and Data Science\n",
    "### 1. Uvod. Tipovi podataka i promenljive\n",
    "Pripremio: [Dimitrije Milenković](https://www.linkedin.com/in/dimitrijemilenkovicdm/)\n",
    "<br>dimitrijemilenkovic.dm@gmail.com"
   ]
  },
  {
   "cell_type": "markdown",
   "metadata": {},
   "source": [
    "Ćao datageeku, dobrodošao/la u [Jupyter](http://jupyter.org/). "
   ]
  },
  {
   "cell_type": "markdown",
   "metadata": {},
   "source": [
    "Upoznaj se sa Jupyter notebookom, koristićemo ga tokom čitavog kursa. U ovom notebooku danas možeš kucati preko 40 programska jezika, dok si na početku mogao samo: **Ju**liu, **Pyt**hon i **R**. Mi ćemo tokom kursa isključivo kuckati Python."
   ]
  },
  {
   "cell_type": "code",
   "execution_count": 1,
   "metadata": {},
   "outputs": [
    {
     "name": "stdout",
     "output_type": "stream",
     "text": [
      "hello world\n"
     ]
    }
   ],
   "source": [
    "print('hello world')"
   ]
  },
  {
   "cell_type": "markdown",
   "metadata": {},
   "source": [
    "Notebook koristimo kada želimo da drugima prezentujemo rezultate svog rada jer lako i pregledno možemo kombinovati tekst, kod i output tog koda. \n",
    "Međutim, kada istražujemo za sebe pre prezentovanja, pogodnija su neka druga okruženja. Ja preferiram [Spyder](https://www.spyder-ide.org/) i [Rodeo](https://rodeo.yhat.com/). Spyder stiže sa Anacondom, tako da ako želiš da vidiš kako on izgleda, otkucaj \"spyder\" u terminalu ili ga otvori iz Anaconda Navigatora.  "
   ]
  },
  {
   "cell_type": "markdown",
   "metadata": {},
   "source": [
    "Pomenuto je da u Jupyteru možemo pisati i kod i tekst. Tekst je zapravo HTML Markdown, tako da kada želimo da ga koristimo, potrebno je podesiti cell na \"Markdown\". Kada želimo da pišemo kod, potrebno je podesiti cell na \"Code\". Kod se izvršava Shift+Enter, a odmah nakon koda se ispisuje output, tako da nije potrebno eksplicitno štampati sve što želimo da vidimo nakon izvršenja određenog code snippeta. "
   ]
  },
  {
   "cell_type": "code",
   "execution_count": 2,
   "metadata": {},
   "outputs": [
    {
     "data": {
      "text/plain": [
       "'hello datageeks'"
      ]
     },
     "execution_count": 2,
     "metadata": {},
     "output_type": "execute_result"
    }
   ],
   "source": [
    "'hello datageeks'"
   ]
  },
  {
   "cell_type": "markdown",
   "metadata": {},
   "source": [
    "Verujem da si do sada čuo/la za [Python](https://www.python.org/). U pitanju je programski jezik opšte namene, što znači da se on koristi za sve što ti padne na pamet, kako za data science, tako i za web aplikacije ili igrice. Danas je Python jedan od najpopularnijih programskih jezika, a tu je stigao kako zbog svoje široke primene, tako i zbog elegancije i jednostavnosti. Ako ti je ovo prvi susret s njim, drago mi je što ću te ja upoznati sa (siguran sam) tvojim novim omiljenim programskim jezikom."
   ]
  },
  {
   "cell_type": "markdown",
   "metadata": {},
   "source": [
    "Evo sadržaja današnje radionice:\n",
    "1. Tipovi podataka i promenljive. Liste\n",
    "2. Ugrađene funkcije, metode i paketi\n",
    "3. Uvod u Numpy. Nizovi i osnovna statistika\n",
    "4. Bulova logika i kotrola toka\n",
    "5. Pisanje funkcija"
   ]
  },
  {
   "cell_type": "markdown",
   "metadata": {},
   "source": [
    "## Tipovi podataka"
   ]
  },
  {
   "cell_type": "markdown",
   "metadata": {},
   "source": [
    "Python naravno možemo koristiti kao kalkulator. Skoro svi simboli su standardni, kao i tipovi podataka koji se dobijaju. Pogledajmo sabiranje, oduzimanje i množenje:"
   ]
  },
  {
   "cell_type": "code",
   "execution_count": 3,
   "metadata": {},
   "outputs": [
    {
     "name": "stdout",
     "output_type": "stream",
     "text": [
      "5\n",
      "2\n",
      "12\n"
     ]
    }
   ],
   "source": [
    "print(2+3)\n",
    "print(7-5)\n",
    "print(3*4)"
   ]
  },
  {
   "cell_type": "markdown",
   "metadata": {},
   "source": [
    "Vidimo da ove tri operacije nad integerima, daju takođe integer. Deljenje je malo drugačije jer nam ono uvek daje float:"
   ]
  },
  {
   "cell_type": "code",
   "execution_count": 4,
   "metadata": {},
   "outputs": [
    {
     "name": "stdout",
     "output_type": "stream",
     "text": [
      "5.0\n"
     ]
    }
   ],
   "source": [
    "print(10 / 2)"
   ]
  },
  {
   "cell_type": "markdown",
   "metadata": {},
   "source": [
    "U slučaju da želimo da izračunamo ostatak pri celobrojnom deljenju tj. modulo:"
   ]
  },
  {
   "cell_type": "code",
   "execution_count": 5,
   "metadata": {},
   "outputs": [
    {
     "data": {
      "text/plain": [
       "4"
      ]
     },
     "execution_count": 5,
     "metadata": {},
     "output_type": "execute_result"
    }
   ],
   "source": [
    "18 % 7"
   ]
  },
  {
   "cell_type": "markdown",
   "metadata": {},
   "source": [
    "Često nam zatreba i stepenovanje:"
   ]
  },
  {
   "cell_type": "code",
   "execution_count": 6,
   "metadata": {},
   "outputs": [
    {
     "data": {
      "text/plain": [
       "16"
      ]
     },
     "execution_count": 6,
     "metadata": {},
     "output_type": "execute_result"
    }
   ],
   "source": [
    "4 ** 2"
   ]
  },
  {
   "cell_type": "markdown",
   "metadata": {},
   "source": [
    "`Zadatak 1.` Pretpostavimo da imate 100 evra koje mozete da ostavite u banci na šta dobijate 10% kamate svake godine. Koliko novca ćete imati posle 7 godina?"
   ]
  },
  {
   "cell_type": "code",
   "execution_count": 1,
   "metadata": {},
   "outputs": [
    {
     "data": {
      "text/plain": [
       "194.87171000000012"
      ]
     },
     "execution_count": 1,
     "metadata": {},
     "output_type": "execute_result"
    }
   ],
   "source": [
    "100 * (1 + 10/100) ** 7"
   ]
  },
  {
   "cell_type": "markdown",
   "metadata": {},
   "source": [
    "### Promenljive"
   ]
  },
  {
   "cell_type": "markdown",
   "metadata": {},
   "source": [
    "Python je super kalkulator, ali ako želimo nešto složenije da izračunamo trebalo bi da možemo rezultat određenog računa da sačuvamo negde. To možemo korišćenjem varijabli, ili promenljivih. **Promenljive** su specifična case-sensitive imena kojim možemo da dodelimo vrednosti i da kasnije njihovim pozivom dobijemo te vrednosti. Primera radi, imamo osobu visoku 1.98 metara i tesku 95 kilograma."
   ]
  },
  {
   "cell_type": "code",
   "execution_count": 8,
   "metadata": {},
   "outputs": [],
   "source": [
    "height = 1.98"
   ]
  },
  {
   "cell_type": "code",
   "execution_count": 9,
   "metadata": {},
   "outputs": [
    {
     "data": {
      "text/plain": [
       "1.98"
      ]
     },
     "execution_count": 9,
     "metadata": {},
     "output_type": "execute_result"
    }
   ],
   "source": [
    "height"
   ]
  },
  {
   "cell_type": "markdown",
   "metadata": {},
   "source": [
    "Svaka promenljiva ima svoj tip. Za razliku od drugih programskih jezika, Pythonu koristi **dinamičko dodeljivanje tipa**, što znači da nije potrebno navoditi tip pri definisanju promenljive. Python sam prepozna o kom tipu se radi i nadalje u svakom trenutku se zna kog je tipa naša promenljiva. To možemo proveriti funkcijom type()."
   ]
  },
  {
   "cell_type": "code",
   "execution_count": 10,
   "metadata": {},
   "outputs": [
    {
     "data": {
      "text/plain": [
       "float"
      ]
     },
     "execution_count": 10,
     "metadata": {},
     "output_type": "execute_result"
    }
   ],
   "source": [
    "type(height)"
   ]
  },
  {
   "cell_type": "code",
   "execution_count": 11,
   "metadata": {},
   "outputs": [
    {
     "data": {
      "text/plain": [
       "(95, int)"
      ]
     },
     "execution_count": 11,
     "metadata": {},
     "output_type": "execute_result"
    }
   ],
   "source": [
    "weight = 95\n",
    "weight, type(weight)"
   ]
  },
  {
   "cell_type": "markdown",
   "metadata": {},
   "source": [
    "Korišćenjem ovih varijabli možemo izračunati [BMI](https://en.wikipedia.org/wiki/Body_mass_index)."
   ]
  },
  {
   "cell_type": "code",
   "execution_count": 12,
   "metadata": {},
   "outputs": [
    {
     "data": {
      "text/plain": [
       "(24.232221201918172, float)"
      ]
     },
     "execution_count": 12,
     "metadata": {},
     "output_type": "execute_result"
    }
   ],
   "source": [
    "bmi = weight / height ** 2\n",
    "bmi, type(bmi)"
   ]
  },
  {
   "cell_type": "markdown",
   "metadata": {},
   "source": [
    "Pored inta i floata koji su numerički tipovi podataka, za rad sa tekstom postoje klasični **stringovi**. Ovde je svejedno koje navodnike koristimo."
   ]
  },
  {
   "cell_type": "code",
   "execution_count": 13,
   "metadata": {},
   "outputs": [
    {
     "name": "stdout",
     "output_type": "stream",
     "text": [
      "do data science this works too\n"
     ]
    },
    {
     "data": {
      "text/plain": [
       "(str, str)"
      ]
     },
     "execution_count": 13,
     "metadata": {},
     "output_type": "execute_result"
    }
   ],
   "source": [
    "message = \"do data science\"\n",
    "msg = 'this works too'\n",
    "print(message, msg)\n",
    "type(message), type(msg)"
   ]
  },
  {
   "cell_type": "markdown",
   "metadata": {},
   "source": [
    "Još jedan koristan tip podataka je Boolean:"
   ]
  },
  {
   "cell_type": "code",
   "execution_count": 14,
   "metadata": {},
   "outputs": [
    {
     "data": {
      "text/plain": [
       "bool"
      ]
     },
     "execution_count": 14,
     "metadata": {},
     "output_type": "execute_result"
    }
   ],
   "source": [
    "z = True\n",
    "y = False\n",
    "type(z)"
   ]
  },
  {
   "cell_type": "markdown",
   "metadata": {},
   "source": [
    "Ponašanje operatora se razlikuje od tipa promenljivih nad kojima se poziva:"
   ]
  },
  {
   "cell_type": "code",
   "execution_count": 15,
   "metadata": {},
   "outputs": [
    {
     "name": "stdout",
     "output_type": "stream",
     "text": [
      "5\n",
      "dimi\n",
      "1\n"
     ]
    }
   ],
   "source": [
    "print(2 + 3)\n",
    "print('di' + 'mi')\n",
    "print(z + y) # gleda kao integere: True=1 False=0"
   ]
  },
  {
   "cell_type": "markdown",
   "metadata": {},
   "source": [
    "`#tb` na Zadatak 1. Malopre nismo znali varijable, pa smo računali ukupan novac koji bismo dobili kao:"
   ]
  },
  {
   "cell_type": "code",
   "execution_count": 3,
   "metadata": {},
   "outputs": [
    {
     "data": {
      "text/plain": [
       "194.87171000000012"
      ]
     },
     "execution_count": 3,
     "metadata": {},
     "output_type": "execute_result"
    }
   ],
   "source": [
    "100 * (1 + 10/100) ** 7"
   ]
  },
  {
   "cell_type": "markdown",
   "metadata": {},
   "source": [
    "Sada znamo pa možemo uraditi sledeće:"
   ]
  },
  {
   "cell_type": "code",
   "execution_count": 2,
   "metadata": {},
   "outputs": [
    {
     "data": {
      "text/plain": [
       "194.87171000000012"
      ]
     },
     "execution_count": 2,
     "metadata": {},
     "output_type": "execute_result"
    }
   ],
   "source": [
    "ustedjevina = 100\n",
    "kamata = 10\n",
    "godine = 7\n",
    "rezultat = ustedjevina * (1+kamata/100) ** godine\n",
    "rezultat"
   ]
  },
  {
   "cell_type": "markdown",
   "metadata": {},
   "source": [
    "### Konverzija tipa"
   ]
  },
  {
   "cell_type": "markdown",
   "metadata": {},
   "source": [
    "Videli smo da dva stringa možemo spojiti operatorom +. Međutim, kako + ima drugačije ponašanje za stringove i brojeve, kada želimo na string dodati broj, moramo eksplicitno promeniti tip podataka broja iz inta u string. To uspevamo funkcijom str(). "
   ]
  },
  {
   "cell_type": "code",
   "execution_count": 18,
   "metadata": {},
   "outputs": [
    {
     "data": {
      "text/plain": [
       "'Kada dodajem integere, poput 5ice, nekom stringu, koristim funkciju str().'"
      ]
     },
     "execution_count": 18,
     "metadata": {},
     "output_type": "execute_result"
    }
   ],
   "source": [
    "\"Kada dodajem integere, poput \" + str(5) + \"ice, nekom stringu, koristim funkciju str().\""
   ]
  },
  {
   "cell_type": "code",
   "execution_count": 19,
   "metadata": {},
   "outputs": [
    {
     "name": "stdout",
     "output_type": "stream",
     "text": [
      "Na pocetku sam imao 100 dinara i sada posle 7 godina imam 194.87171000000012 dinara. Vrh!\n"
     ]
    }
   ],
   "source": [
    "print(\"Na pocetku sam imao \" + str(ustedjevina) \n",
    "      + \" dinara i sada posle 7 godina imam \" + str(rezultat) \n",
    "      + \" dinara. Vrh!\")"
   ]
  },
  {
   "cell_type": "code",
   "execution_count": 20,
   "metadata": {},
   "outputs": [
    {
     "data": {
      "text/plain": [
       "(3.1415926, float)"
      ]
     },
     "execution_count": 20,
     "metadata": {},
     "output_type": "execute_result"
    }
   ],
   "source": [
    "pi_string = \"3.1415926\"\n",
    "pi_float = float(pi_string)\n",
    "pi_float, type(pi_float)"
   ]
  },
  {
   "cell_type": "markdown",
   "metadata": {},
   "source": [
    "Već smo videli da se operatori nad stringovima ponašaju drugačije nego nad brojevima. Ajmo na brzinu da napravimo refren [jedne dobre pesme](https://www.youtube.com/watch?v=ZZ5LpwO-An4)."
   ]
  },
  {
   "cell_type": "code",
   "execution_count": 21,
   "metadata": {},
   "outputs": [
    {
     "data": {
      "text/plain": [
       "\"I said Hey YeYeYea! Hey YeYeYea! Hey YeYeYea! What's going on?\""
      ]
     },
     "execution_count": 21,
     "metadata": {},
     "output_type": "execute_result"
    }
   ],
   "source": [
    "('I said ' + ('Hey ' + ('Ye' * 2) + 'Yea! ') * 3) + 'What\\'s going on?'"
   ]
  },
  {
   "cell_type": "code",
   "execution_count": 22,
   "metadata": {},
   "outputs": [
    {
     "data": {
      "text/plain": [
       "(1, 1, 2, 0)"
      ]
     },
     "execution_count": 22,
     "metadata": {},
     "output_type": "execute_result"
    }
   ],
   "source": [
    "True + False, True - False, True * 2, False + False"
   ]
  },
  {
   "cell_type": "markdown",
   "metadata": {},
   "source": [
    "Ako pogledamo tipove naših promenljivih, videćemo da su one do sada uvek moge da čuvaju samo jednu vrednost, bilo da je ona:\n",
    "- numerička vrednost\n",
    "    - realan broj: `float`\n",
    "    - ceo broj: `int`\n",
    "- tekstualna vrednost: `str`\n",
    "- logička vrednost (True/False): `bool`"
   ]
  },
  {
   "cell_type": "markdown",
   "metadata": {},
   "source": [
    "Ipak, kada programiramo često imamo potrebu da radimo sa više podataka od jednom. Na primer, da umesto visine jedne osobe, radimo sa visinama grupe ljudi, cele porodice. S ovim što sada znamo, to bismo mogli da uradimo na sledeći način:"
   ]
  },
  {
   "cell_type": "code",
   "execution_count": 23,
   "metadata": {},
   "outputs": [],
   "source": [
    "height1 = 1.60\n",
    "height2 = 1.90\n",
    "height3 = 1.84\n",
    "height4 = 1.63"
   ]
  },
  {
   "cell_type": "markdown",
   "metadata": {},
   "source": [
    "Pretpostavljate da ovo nije najbolji način. U Pythonu postoje liste:"
   ]
  },
  {
   "cell_type": "markdown",
   "metadata": {},
   "source": [
    "## Liste"
   ]
  },
  {
   "cell_type": "markdown",
   "metadata": {},
   "source": [
    "Lista je struktura podataka koja nam omogućava da zapamtimo više zapisa u jednu promenljivu. Liste se označavaju uglastim zagradama [ ]."
   ]
  },
  {
   "cell_type": "code",
   "execution_count": 24,
   "metadata": {},
   "outputs": [
    {
     "data": {
      "text/plain": [
       "[1.6, 1.9, 1.84, 1.63]"
      ]
     },
     "execution_count": 24,
     "metadata": {},
     "output_type": "execute_result"
    }
   ],
   "source": [
    "porodica1 = [1.6,1.9,1.84,1.63]\n",
    "porodica1"
   ]
  },
  {
   "cell_type": "markdown",
   "metadata": {},
   "source": [
    "Liste mogu da sadrze bilo koji tip i tipovi se mogu kombinovati. "
   ]
  },
  {
   "cell_type": "code",
   "execution_count": 25,
   "metadata": {},
   "outputs": [
    {
     "data": {
      "text/plain": [
       "['homer', 1.9, 'marge', 1.84, 'bart', 1.63, 'lisa', 1.6]"
      ]
     },
     "execution_count": 25,
     "metadata": {},
     "output_type": "execute_result"
    }
   ],
   "source": [
    "porodica2 = ['homer', 1.9, 'marge', 1.84, 'bart', 1.63, 'lisa', 1.6]\n",
    "porodica2"
   ]
  },
  {
   "cell_type": "markdown",
   "metadata": {},
   "source": [
    "Liste mogu da sadrze i druge liste."
   ]
  },
  {
   "cell_type": "code",
   "execution_count": 26,
   "metadata": {},
   "outputs": [
    {
     "data": {
      "text/plain": [
       "[['homer', 1.9], ['marge', 1.84], ['bart', 1.63], ['lisa', 1.6]]"
      ]
     },
     "execution_count": 26,
     "metadata": {},
     "output_type": "execute_result"
    }
   ],
   "source": [
    "porodica3 = [['homer', 1.9], ['marge', 1.84], ['bart', 1.63], ['lisa', 1.6]]\n",
    "porodica3"
   ]
  },
  {
   "cell_type": "code",
   "execution_count": 27,
   "metadata": {},
   "outputs": [
    {
     "data": {
      "text/plain": [
       "list"
      ]
     },
     "execution_count": 27,
     "metadata": {},
     "output_type": "execute_result"
    }
   ],
   "source": [
    "type(porodica1)"
   ]
  },
  {
   "cell_type": "markdown",
   "metadata": {},
   "source": [
    "U listu možemo dodati vrednosti već definisanih promenljivih."
   ]
  },
  {
   "cell_type": "code",
   "execution_count": 28,
   "metadata": {},
   "outputs": [
    {
     "data": {
      "text/plain": [
       "['moja', 'lista', 'je', 'vrh']"
      ]
     },
     "execution_count": 28,
     "metadata": {},
     "output_type": "execute_result"
    }
   ],
   "source": [
    "a = \"je\"\n",
    "b = \"vrh\"\n",
    "lista = [\"moja\", \"lista\", a, b]\n",
    "lista"
   ]
  },
  {
   "cell_type": "markdown",
   "metadata": {},
   "source": [
    "Međutim u tom slučaju, u listu se kopira vrednost te promenljive, tako da i u slučaju kada se menja vrednosti promenljive (u našem slučaju a), u listi ostaje prvobitna vrednost. "
   ]
  },
  {
   "cell_type": "code",
   "execution_count": 29,
   "metadata": {},
   "outputs": [
    {
     "data": {
      "text/plain": [
       "['moja', 'lista', 'je', 'vrh']"
      ]
     },
     "execution_count": 29,
     "metadata": {},
     "output_type": "execute_result"
    }
   ],
   "source": [
    "a = 'nije'\n",
    "lista"
   ]
  },
  {
   "cell_type": "code",
   "execution_count": 30,
   "metadata": {},
   "outputs": [
    {
     "data": {
      "text/plain": [
       "[3, 'aaaaa', 3]"
      ]
     },
     "execution_count": 30,
     "metadata": {},
     "output_type": "execute_result"
    }
   ],
   "source": [
    "[1 + 2, \"a\" * 5, 3]"
   ]
  },
  {
   "cell_type": "markdown",
   "metadata": {},
   "source": [
    "### Pirstup elementima liste"
   ]
  },
  {
   "cell_type": "code",
   "execution_count": 31,
   "metadata": {},
   "outputs": [
    {
     "data": {
      "text/plain": [
       "[1.6, 1.9, 1.84, 1.63]"
      ]
     },
     "execution_count": 31,
     "metadata": {},
     "output_type": "execute_result"
    }
   ],
   "source": [
    "porodica1"
   ]
  },
  {
   "cell_type": "markdown",
   "metadata": {},
   "source": [
    "Elementu liste pristupamo tako što, nakon naziva liste, navedemo indeks elementa u uglastim zagradama."
   ]
  },
  {
   "cell_type": "code",
   "execution_count": 32,
   "metadata": {},
   "outputs": [
    {
     "data": {
      "text/plain": [
       "1.6"
      ]
     },
     "execution_count": 32,
     "metadata": {},
     "output_type": "execute_result"
    }
   ],
   "source": [
    "porodica1[0]"
   ]
  },
  {
   "cell_type": "code",
   "execution_count": 33,
   "metadata": {},
   "outputs": [
    {
     "data": {
      "text/plain": [
       "['marge', 1.84]"
      ]
     },
     "execution_count": 33,
     "metadata": {},
     "output_type": "execute_result"
    }
   ],
   "source": [
    "porodica3[1]"
   ]
  },
  {
   "cell_type": "code",
   "execution_count": 34,
   "metadata": {},
   "outputs": [
    {
     "data": {
      "text/plain": [
       "1.84"
      ]
     },
     "execution_count": 34,
     "metadata": {},
     "output_type": "execute_result"
    }
   ],
   "source": [
    "porodica3[1][1]"
   ]
  },
  {
   "cell_type": "markdown",
   "metadata": {},
   "source": [
    "Elementima liste možemo pristupiti i brojanjem sa kraja liste:"
   ]
  },
  {
   "cell_type": "code",
   "execution_count": 35,
   "metadata": {},
   "outputs": [
    {
     "data": {
      "text/plain": [
       "(1.63, 1.63)"
      ]
     },
     "execution_count": 35,
     "metadata": {},
     "output_type": "execute_result"
    }
   ],
   "source": [
    "porodica1[-1], porodica1[3]"
   ]
  },
  {
   "cell_type": "markdown",
   "metadata": {},
   "source": [
    "Slicing u listama je takodje dozvoljen. Sintaksa je sledeca:\n",
    "<br>lista[pocetniIndeks:krajniIndeks]\n",
    "<br>Pocetni indeks je inkluzivni a krajnji ekskluzivni. "
   ]
  },
  {
   "cell_type": "code",
   "execution_count": 36,
   "metadata": {},
   "outputs": [
    {
     "data": {
      "text/plain": [
       "[1.9, 1.84]"
      ]
     },
     "execution_count": 36,
     "metadata": {},
     "output_type": "execute_result"
    }
   ],
   "source": [
    "porodica1[1:3]"
   ]
  },
  {
   "cell_type": "code",
   "execution_count": 37,
   "metadata": {},
   "outputs": [
    {
     "data": {
      "text/plain": [
       "[1.6, 1.9, 1.84]"
      ]
     },
     "execution_count": 37,
     "metadata": {},
     "output_type": "execute_result"
    }
   ],
   "source": [
    "porodica1[:3]"
   ]
  },
  {
   "cell_type": "code",
   "execution_count": 38,
   "metadata": {},
   "outputs": [
    {
     "data": {
      "text/plain": [
       "[1.84, 1.63]"
      ]
     },
     "execution_count": 38,
     "metadata": {},
     "output_type": "execute_result"
    }
   ],
   "source": [
    "porodica1[2:]"
   ]
  },
  {
   "cell_type": "code",
   "execution_count": 39,
   "metadata": {},
   "outputs": [
    {
     "data": {
      "text/plain": [
       "[1.6, 1.9, 1.84, 1.63]"
      ]
     },
     "execution_count": 39,
     "metadata": {},
     "output_type": "execute_result"
    }
   ],
   "source": [
    "porodica1[:]"
   ]
  },
  {
   "cell_type": "code",
   "execution_count": 40,
   "metadata": {},
   "outputs": [
    {
     "data": {
      "text/plain": [
       "3.53"
      ]
     },
     "execution_count": 40,
     "metadata": {},
     "output_type": "execute_result"
    }
   ],
   "source": [
    "porodica1[1] + porodica1[3]"
   ]
  },
  {
   "cell_type": "code",
   "execution_count": 41,
   "metadata": {},
   "outputs": [
    {
     "data": {
      "text/plain": [
       "[['homer', 1.9], ['marge', 1.84], ['bart', 1.63], ['lisa', 1.6]]"
      ]
     },
     "execution_count": 41,
     "metadata": {},
     "output_type": "execute_result"
    }
   ],
   "source": [
    "porodica3"
   ]
  },
  {
   "cell_type": "code",
   "execution_count": 42,
   "metadata": {},
   "outputs": [
    {
     "data": {
      "text/plain": [
       "1.6"
      ]
     },
     "execution_count": 42,
     "metadata": {},
     "output_type": "execute_result"
    }
   ],
   "source": [
    "porodica3[-1][1]"
   ]
  },
  {
   "cell_type": "markdown",
   "metadata": {},
   "source": [
    "### Manipulacija listama"
   ]
  },
  {
   "cell_type": "code",
   "execution_count": 43,
   "metadata": {},
   "outputs": [
    {
     "data": {
      "text/plain": [
       "[1.6, 1.9, 1.84, 1.63]"
      ]
     },
     "execution_count": 43,
     "metadata": {},
     "output_type": "execute_result"
    }
   ],
   "source": [
    "porodica1"
   ]
  },
  {
   "cell_type": "code",
   "execution_count": 44,
   "metadata": {},
   "outputs": [
    {
     "data": {
      "text/plain": [
       "[1.6, 1.9, 1.84, 1.75]"
      ]
     },
     "execution_count": 44,
     "metadata": {},
     "output_type": "execute_result"
    }
   ],
   "source": [
    "porodica1[3] = 1.75 # porasla je lisa\n",
    "porodica1"
   ]
  },
  {
   "cell_type": "code",
   "execution_count": 45,
   "metadata": {},
   "outputs": [
    {
     "data": {
      "text/plain": [
       "[1.6, 1.9, 1.65, 1.76]"
      ]
     },
     "execution_count": 45,
     "metadata": {},
     "output_type": "execute_result"
    }
   ],
   "source": [
    "porodica1[2:] = [1.65, 1.76]\n",
    "porodica1"
   ]
  },
  {
   "cell_type": "code",
   "execution_count": 46,
   "metadata": {},
   "outputs": [
    {
     "data": {
      "text/plain": [
       "[1.6, 1.9, 1.65, 1.76, 0.5]"
      ]
     },
     "execution_count": 46,
     "metadata": {},
     "output_type": "execute_result"
    }
   ],
   "source": [
    "porodica1 = porodica1 + [0.50] # zaboravili smo maggie\n",
    "porodica1"
   ]
  },
  {
   "cell_type": "code",
   "execution_count": 47,
   "metadata": {},
   "outputs": [
    {
     "data": {
      "text/plain": [
       "[1.6, 1.65, 1.76, 0.5]"
      ]
     },
     "execution_count": 47,
     "metadata": {},
     "output_type": "execute_result"
    }
   ],
   "source": [
    "del(porodica1[1])\n",
    "porodica1"
   ]
  },
  {
   "cell_type": "markdown",
   "metadata": {},
   "source": [
    "Takođe, moguće je napraviti pokazivač na listu. Nakon što dodelim još jednoj promenljivoj istu listu na ovaj način, šta god da izmenim u jednoj listi izmeniće se i u drugoj."
   ]
  },
  {
   "cell_type": "code",
   "execution_count": 48,
   "metadata": {},
   "outputs": [
    {
     "data": {
      "text/plain": [
       "[1.6, 1.65, 1.76, 0.5]"
      ]
     },
     "execution_count": 48,
     "metadata": {},
     "output_type": "execute_result"
    }
   ],
   "source": [
    "x = porodica1\n",
    "x"
   ]
  },
  {
   "cell_type": "code",
   "execution_count": 49,
   "metadata": {},
   "outputs": [
    {
     "data": {
      "text/plain": [
       "[1.6, 1.65, 1.76, 2]"
      ]
     },
     "execution_count": 49,
     "metadata": {},
     "output_type": "execute_result"
    }
   ],
   "source": [
    "x[3] = 2\n",
    "porodica1"
   ]
  },
  {
   "cell_type": "markdown",
   "metadata": {},
   "source": [
    "Međutim, ako to ne želim, mogu kopirati listu. U tom slučaju ako nešto promenim u jednoj u drugoj ostaje nepromenjeno:"
   ]
  },
  {
   "cell_type": "code",
   "execution_count": 50,
   "metadata": {},
   "outputs": [
    {
     "data": {
      "text/plain": [
       "[2, 1.65, 1.76, 2]"
      ]
     },
     "execution_count": 50,
     "metadata": {},
     "output_type": "execute_result"
    }
   ],
   "source": [
    "y = list(x) # ili y=x[:]\n",
    "y[0] = 2\n",
    "y"
   ]
  },
  {
   "cell_type": "code",
   "execution_count": 51,
   "metadata": {},
   "outputs": [
    {
     "data": {
      "text/plain": [
       "[1.6, 1.65, 1.76, 2]"
      ]
     },
     "execution_count": 51,
     "metadata": {},
     "output_type": "execute_result"
    }
   ],
   "source": [
    "x"
   ]
  }
 ],
 "metadata": {
  "kernelspec": {
   "display_name": "Python 3",
   "language": "python",
   "name": "python3"
  },
  "language_info": {
   "codemirror_mode": {
    "name": "ipython",
    "version": 3
   },
   "file_extension": ".py",
   "mimetype": "text/x-python",
   "name": "python",
   "nbconvert_exporter": "python",
   "pygments_lexer": "ipython3",
   "version": "3.6.7"
  },
  "varInspector": {
   "cols": {
    "lenName": 16,
    "lenType": 16,
    "lenVar": 40
   },
   "kernels_config": {
    "python": {
     "delete_cmd_postfix": "",
     "delete_cmd_prefix": "del ",
     "library": "var_list.py",
     "varRefreshCmd": "print(var_dic_list())"
    },
    "r": {
     "delete_cmd_postfix": ") ",
     "delete_cmd_prefix": "rm(",
     "library": "var_list.r",
     "varRefreshCmd": "cat(var_dic_list()) "
    }
   },
   "types_to_exclude": [
    "module",
    "function",
    "builtin_function_or_method",
    "instance",
    "_Feature"
   ],
   "window_display": false
  }
 },
 "nbformat": 4,
 "nbformat_minor": 2
}
