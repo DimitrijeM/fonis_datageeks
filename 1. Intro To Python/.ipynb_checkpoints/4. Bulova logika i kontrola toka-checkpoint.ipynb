{
 "cells": [
  {
   "cell_type": "markdown",
   "metadata": {},
   "source": [
    "# Fonis Datageeks\n",
    "## Wokshop: Intro to Python and Data Science\n",
    "### 4. Bulova logika i kontrola toka\n",
    "Pripremio: [Dimitrije Milenković](https://www.linkedin.com/in/dimitrijemilenkovicdm/)\n",
    "<br>dimitrijemilenkovic.dm@gmail.com"
   ]
  },
  {
   "cell_type": "markdown",
   "metadata": {},
   "source": [
    "Kada smo pričali o različitim tipovima podataka u Pythonu, pomenuli smo i Boolean. Sećate se da smo koristili boolean uslove kako bismo izvukli podskup vrednosti iz niza:"
   ]
  },
  {
   "cell_type": "code",
   "execution_count": 1,
   "metadata": {},
   "outputs": [
    {
     "data": {
      "text/plain": [
       "array([ 6,  9, 10,  7,  6,  5,  8,  9,  8,  5,  6,  7])"
      ]
     },
     "execution_count": 1,
     "metadata": {},
     "output_type": "execute_result"
    }
   ],
   "source": [
    "import numpy as np\n",
    "grades = np.array([6,9,10,7,6,5,8,9,8,5,6,7])\n",
    "grades"
   ]
  },
  {
   "cell_type": "code",
   "execution_count": 2,
   "metadata": {},
   "outputs": [
    {
     "data": {
      "text/plain": [
       "array([ 9, 10,  9])"
      ]
     },
     "execution_count": 2,
     "metadata": {},
     "output_type": "execute_result"
    }
   ],
   "source": [
    "grades[grades > 8]"
   ]
  },
  {
   "cell_type": "markdown",
   "metadata": {},
   "source": [
    "Vidimo da su logički uslovi pored klasične svoje svrhe u programiranju (if), ovde dobili još jednu čestu upotrebu: za subsetovanje niza ili dataseta. U Python logičkim uslovima možete koristiti sve standardne oznake:"
   ]
  },
  {
   "cell_type": "markdown",
   "metadata": {},
   "source": [
    "| oznaka | znacenje  |\n",
    "|--------|-----------|\n",
    "|   <    | manje                |\n",
    "|   <=   | manje ili jednako    |\n",
    "|   >    | vece                 |\n",
    "|   >=   | vece ili jednako     |\n",
    "|   ==   | jednako              |\n",
    "|   !=   | razlicito            |\n",
    "|   is   | jednakost objekata   | \n",
    "| is not | nejednakost objekata |"
   ]
  },
  {
   "cell_type": "code",
   "execution_count": 1,
   "metadata": {},
   "outputs": [
    {
     "data": {
      "text/plain": [
       "(True, False, True)"
      ]
     },
     "execution_count": 1,
     "metadata": {},
     "output_type": "execute_result"
    }
   ],
   "source": [
    "2 < 3, 2 == 3, True == 1"
   ]
  },
  {
   "cell_type": "markdown",
   "metadata": {},
   "source": [
    "Takođe, ako želimo da kombinujemo više uslova odjednom možemo koristiti logičku konjukciju (and) ili disjunkciju (or), kao i negaciju (not):"
   ]
  },
  {
   "cell_type": "code",
   "execution_count": 2,
   "metadata": {},
   "outputs": [
    {
     "data": {
      "text/plain": [
       "(False, True)"
      ]
     },
     "execution_count": 2,
     "metadata": {},
     "output_type": "execute_result"
    }
   ],
   "source": [
    "True and False, 2 < 3 and 'hello' != 'world'"
   ]
  },
  {
   "cell_type": "code",
   "execution_count": 3,
   "metadata": {},
   "outputs": [
    {
     "data": {
      "text/plain": [
       "(True, True)"
      ]
     },
     "execution_count": 3,
     "metadata": {},
     "output_type": "execute_result"
    }
   ],
   "source": [
    "True or False, (2 < 3 and 5 >= 5) or (grades[0] >= 7)"
   ]
  },
  {
   "cell_type": "markdown",
   "metadata": {},
   "source": [
    "| True | False | and | or |\n",
    "|------|-------|-----|----|\n",
    "|   1  |   1   |  1  |  1 |\n",
    "|    1  | 0 | 0  | 1 |\n",
    "|   0  | 1 | 0 | 1 |\n",
    "|   0  | 0 | 0 | 0 |"
   ]
  },
  {
   "cell_type": "code",
   "execution_count": 41,
   "metadata": {},
   "outputs": [
    {
     "data": {
      "text/plain": [
       "(False, True, False)"
      ]
     },
     "execution_count": 41,
     "metadata": {},
     "output_type": "execute_result"
    }
   ],
   "source": [
    "not True, not False, not (2 < 3 and 'hello' != 'world')"
   ]
  },
  {
   "cell_type": "markdown",
   "metadata": {},
   "source": [
    "Često nam je potrebno da se izvrši različiti kod zavisno od vrednosti neke promenljive. Tu u pomoć stiže if klauzola koja ima sledeći format:"
   ]
  },
  {
   "cell_type": "raw",
   "metadata": {},
   "source": [
    "if <condition>:\n",
    "    <expression>\n",
    "else:\n",
    "    <expression>"
   ]
  },
  {
   "cell_type": "code",
   "execution_count": 5,
   "metadata": {},
   "outputs": [
    {
     "name": "stdout",
     "output_type": "stream",
     "text": [
      "z nije paran broj\n"
     ]
    }
   ],
   "source": [
    "z = grades[3]\n",
    "if z % 2 == 0:\n",
    "    print('z je paran broj')\n",
    "else:\n",
    "    print('z nije paran broj')"
   ]
  },
  {
   "cell_type": "markdown",
   "metadata": {},
   "source": [
    "If se lako može proširiti elif delom, koji se ponaša kao ugnježdeni if, evo formata i primera:"
   ]
  },
  {
   "cell_type": "raw",
   "metadata": {},
   "source": [
    "if <condition>:\n",
    "    <expression>\n",
    "elif <condition>:\n",
    "    <expression>\n",
    "else:\n",
    "    <expression>"
   ]
  },
  {
   "cell_type": "code",
   "execution_count": 6,
   "metadata": {},
   "outputs": [
    {
     "name": "stdout",
     "output_type": "stream",
     "text": [
      "z je deljiv sa 3\n"
     ]
    }
   ],
   "source": [
    "z = grades[1]\n",
    "if z % 2 == 0:\n",
    "    print('z je deljiv sa 2')\n",
    "elif z % 3 == 0:\n",
    "    print('z je deljiv sa 3')\n",
    "else:\n",
    "    print('z nije deljiv ni sa 2, ni sa 3')"
   ]
  },
  {
   "cell_type": "markdown",
   "metadata": {},
   "source": [
    "[Fibonačijev niz](https://en.wikipedia.org/wiki/Fibonacci_number) je jedno od najvećih matematičkih savršenstva, pa zato prvu petlju u Pythonu naučimo kroz kreiranje baš tog niza:"
   ]
  },
  {
   "cell_type": "code",
   "execution_count": 4,
   "metadata": {},
   "outputs": [
    {
     "name": "stdout",
     "output_type": "stream",
     "text": [
      "0\n",
      "1\n",
      "1\n",
      "2\n",
      "3\n",
      "5\n",
      "8\n",
      "13\n",
      "21\n",
      "34\n",
      "55\n",
      "89\n"
     ]
    }
   ],
   "source": [
    "a, b = 0, 1 # a ima vrednost 0, b ima 1\n",
    "while a < 100:\n",
    "    print(a)\n",
    "    a, b = b, a+b"
   ]
  },
  {
   "cell_type": "markdown",
   "metadata": {},
   "source": [
    "Petlje nam pomažu da isti kod izvršavamo više puta sve dok je neki uslov zadovoljen. While petlja ima sledeću formu:"
   ]
  },
  {
   "cell_type": "raw",
   "metadata": {},
   "source": [
    "while <uslov>:\n",
    "    <naredbe>"
   ]
  },
  {
   "cell_type": "markdown",
   "metadata": {},
   "source": [
    "Probajmo još jednom:"
   ]
  },
  {
   "cell_type": "markdown",
   "metadata": {},
   "source": [
    "`Zadatak 1.` Napisati string dužine manje u kom se 20 puta ponavlja tekst: \"Hello Datageeks!\". Kolika je dužina tog stringa?"
   ]
  },
  {
   "cell_type": "code",
   "execution_count": 11,
   "metadata": {},
   "outputs": [
    {
     "name": "stdout",
     "output_type": "stream",
     "text": [
      "Hello Datageeks! Hello Datageeks! Hello Datageeks! Hello Datageeks! Hello Datageeks! Hello Datageeks! Hello Datageeks! Hello Datageeks! Hello Datageeks! Hello Datageeks! Hello Datageeks! Hello Datageeks! Hello Datageeks! Hello Datageeks! Hello Datageeks! Hello Datageeks! Hello Datageeks! Hello Datageeks! Hello Datageeks! Hello Datageeks! Hello Datageeks!  357\n"
     ]
    }
   ],
   "source": [
    "poz = ''\n",
    "i = 0\n",
    "while i <= 20:\n",
    "    poz += 'Hello Datageeks! '  \n",
    "    i += 1\n",
    "print(poz, len(poz))"
   ]
  },
  {
   "cell_type": "markdown",
   "metadata": {},
   "source": [
    "Petlje su, dakle, zasnovane na uslovima. Pre petlji radili smo if koji je takođe zasnovan na uslovima. Možemo ga podsetiti kroz primer u kome mi treba da unesemo broj. U Data Science se input funkcije ne koriste često jer već imamo podatke kojima manipulišemo, ali nije loše znati da i to postoji:"
   ]
  },
  {
   "cell_type": "code",
   "execution_count": 19,
   "metadata": {},
   "outputs": [
    {
     "name": "stdout",
     "output_type": "stream",
     "text": [
      "Please enter an integer: -1\n",
      "Negative changed to zero\n"
     ]
    }
   ],
   "source": [
    "x = int(input(\"Please enter an integer: \"))\n",
    "if x < 0:\n",
    "     x = 0\n",
    "     print('Negative changed to zero')\n",
    "elif x == 0:\n",
    "    print('Zero')\n",
    "elif x == 1:\n",
    "    print('Single')\n",
    "else:\n",
    "     print('More')"
   ]
  },
  {
   "cell_type": "markdown",
   "metadata": {},
   "source": [
    "Sledeća petlja koju učimo je **for**. Za razliku od while-a, for se ne zasniva na uslovu, već nam omogućava da iteriramo kroz neki niz. Za razliku od drugih jezika, Pythonov for može iterirati ne samo kroz niz brojeva, već kroz bilo koju iterabilnu strukturu, poput liste. Dakle, nešto poput foreach-a u drugim programskim jezicima."
   ]
  },
  {
   "cell_type": "code",
   "execution_count": 21,
   "metadata": {},
   "outputs": [
    {
     "name": "stdout",
     "output_type": "stream",
     "text": [
      "ovaj 4\n",
      "python 6\n",
      "je 2\n",
      "strava 6\n"
     ]
    }
   ],
   "source": [
    "words = ['ovaj', 'python', 'je', 'strava']\n",
    "for w in words:\n",
    "    print(w, len(w))"
   ]
  },
  {
   "cell_type": "markdown",
   "metadata": {},
   "source": [
    "Dakle, for ima sledeću formu:\n"
   ]
  },
  {
   "cell_type": "raw",
   "metadata": {},
   "source": [
    "for <ime_objekta> in <lista_objekta>:\n",
    "    <naredbe>"
   ]
  },
  {
   "cell_type": "markdown",
   "metadata": {},
   "source": [
    "Ako ipak želimo da iteriramo kroz niz brojeva, može nam pomoći funkcija **range**. Pomoću nje možemo generisati progresivni niz brojeva."
   ]
  },
  {
   "cell_type": "code",
   "execution_count": 23,
   "metadata": {},
   "outputs": [],
   "source": [
    "?range"
   ]
  },
  {
   "cell_type": "code",
   "execution_count": 28,
   "metadata": {},
   "outputs": [
    {
     "name": "stdout",
     "output_type": "stream",
     "text": [
      "0\n",
      "1\n",
      "2\n",
      "3\n",
      "4\n"
     ]
    }
   ],
   "source": [
    "for i in range(5):\n",
    "    print(i)"
   ]
  },
  {
   "cell_type": "code",
   "execution_count": 29,
   "metadata": {},
   "outputs": [
    {
     "name": "stdout",
     "output_type": "stream",
     "text": [
      "5\n",
      "6\n",
      "7\n",
      "8\n",
      "9\n"
     ]
    }
   ],
   "source": [
    "for i in range(5,10):\n",
    "    print(i)"
   ]
  },
  {
   "cell_type": "code",
   "execution_count": 30,
   "metadata": {},
   "outputs": [
    {
     "name": "stdout",
     "output_type": "stream",
     "text": [
      "5\n",
      "15\n",
      "25\n",
      "35\n",
      "45\n",
      "55\n",
      "65\n",
      "75\n",
      "85\n",
      "95\n"
     ]
    }
   ],
   "source": [
    "for i in range(5,100,10):\n",
    "    print(i)"
   ]
  },
  {
   "cell_type": "code",
   "execution_count": 31,
   "metadata": {},
   "outputs": [
    {
     "name": "stdout",
     "output_type": "stream",
     "text": [
      "500\n",
      "400\n",
      "300\n",
      "200\n"
     ]
    }
   ],
   "source": [
    "for i in range(500,100,-100):\n",
    "    print(i)"
   ]
  },
  {
   "cell_type": "markdown",
   "metadata": {},
   "source": [
    "## continue i break naredbe, else klauzola u petljama"
   ]
  },
  {
   "cell_type": "markdown",
   "metadata": {},
   "source": [
    "Pomoću **continue** možemo odmah preći na sledeću iteraciju petlje, čak i ako posle te reči ima još linija koda u petlji."
   ]
  },
  {
   "cell_type": "code",
   "execution_count": 48,
   "metadata": {
    "scrolled": true
   },
   "outputs": [
    {
     "name": "stdout",
     "output_type": "stream",
     "text": [
      "Paran broj 2\n",
      "Neparan broj 3\n",
      "Paran broj 4\n",
      "Neparan broj 5\n",
      "Paran broj 6\n",
      "Neparan broj 7\n",
      "Paran broj 8\n",
      "Neparan broj 9\n"
     ]
    }
   ],
   "source": [
    "for num in range(2, 10):\n",
    "    if num % 2 == 0:\n",
    "        print(\"Paran broj\", num)\n",
    "        continue\n",
    "    print(\"Neparan broj\", num)"
   ]
  },
  {
   "cell_type": "markdown",
   "metadata": {},
   "source": [
    "**break** služi da prekinemo izvršavanje petlje čak i ako nije poslednja iteracija."
   ]
  },
  {
   "cell_type": "markdown",
   "metadata": {},
   "source": [
    "`Zadatak` Napisati for petlju koja za sve cifre ispisuje da li su vece ili manje od 7."
   ]
  },
  {
   "cell_type": "code",
   "execution_count": 24,
   "metadata": {},
   "outputs": [
    {
     "name": "stdout",
     "output_type": "stream",
     "text": [
      "0 je manje od 7\n",
      "1 je manje od 7\n",
      "2 je manje od 7\n",
      "3 je manje od 7\n",
      "4 je manje od 7\n",
      "5 je manje od 7\n",
      "6 je manje od 7\n",
      "Broj je veci ili jednak sedmici.\n",
      "Broj je veci ili jednak sedmici.\n",
      "Broj je veci ili jednak sedmici.\n"
     ]
    }
   ],
   "source": [
    "for x in range(0, 10):\n",
    "    if x >= 7:\n",
    "        print('Broj je veci ili jednak sedmici.') # 'Petlja je prekinuta na sedmoj iteraciji.' \n",
    "        #break\n",
    "    else:\n",
    "        print(x, 'je manje od 7')"
   ]
  },
  {
   "cell_type": "markdown",
   "metadata": {},
   "source": [
    "`Zadatak 2.` Napisati for petlju koja prekida izvršenje kada stigne do prvog broja većeg ili jednakog 7."
   ]
  },
  {
   "cell_type": "code",
   "execution_count": 23,
   "metadata": {},
   "outputs": [
    {
     "name": "stdout",
     "output_type": "stream",
     "text": [
      "0 je manje od 7\n",
      "1 je manje od 7\n",
      "2 je manje od 7\n",
      "3 je manje od 7\n",
      "4 je manje od 7\n",
      "5 je manje od 7\n",
      "6 je manje od 7\n",
      "Broj je veci ili jednak sedmici. Petlja je prekinuta na sedmoj iteraciji.\n"
     ]
    }
   ],
   "source": [
    "for x in range(0, 10):\n",
    "    if x >= 7:\n",
    "        print('Broj je veci ili jednak sedmici. Petlja je prekinuta na sedmoj iteraciji.')\n",
    "        break\n",
    "    print(x, 'je manje od 7')"
   ]
  },
  {
   "cell_type": "markdown",
   "metadata": {},
   "source": [
    "**else** klauzola u petljama je nešto što se ne sreće u drugim programskim jezicima. Izvršava se kada se ne desi break u petlji."
   ]
  },
  {
   "cell_type": "code",
   "execution_count": 35,
   "metadata": {},
   "outputs": [
    {
     "name": "stdout",
     "output_type": "stream",
     "text": [
      "10 nije deljiv sa 7\n",
      "11 nije deljiv sa 7\n",
      "12 nije deljiv sa 7\n",
      "13 nije deljiv sa 7\n",
      "14 nije deljiv sa 7\n",
      "15 nije deljiv sa 7\n",
      "16 nije deljiv sa 7\n",
      "17 nije deljiv sa 7\n",
      "18 nije deljiv sa 7\n",
      "19 nije deljiv sa 7\n",
      "20 nije deljiv sa 7\n",
      "U datom rasponu brojeva nema nijednog broja koji umnožen sa 3 daje broj 37.\n"
     ]
    }
   ],
   "source": [
    "for x in range(10, 21):\n",
    "    if x * 3 == 37:\n",
    "        print(x, 'je deljiv sa 7.')\n",
    "        break\n",
    "    else:\n",
    "        print(x, 'nije deljiv sa 7')\n",
    "else:\n",
    "    print('U datom rasponu brojeva nema nijednog broja koji umnožen sa 3 daje broj 37.')"
   ]
  },
  {
   "cell_type": "markdown",
   "metadata": {},
   "source": [
    "Kao i u bilom kom drugom jeziku mogu se koristiti petlje u petlji i to nam je često jako zgodno."
   ]
  },
  {
   "cell_type": "markdown",
   "metadata": {},
   "source": [
    "`Zadatak 3.` Za brojeve od 2 do 10 proveriti da li su prosti. "
   ]
  },
  {
   "cell_type": "code",
   "execution_count": 37,
   "metadata": {
    "scrolled": true
   },
   "outputs": [
    {
     "name": "stdout",
     "output_type": "stream",
     "text": [
      "2 je prost broj\n",
      "3 je prost broj\n",
      "4 je jednako 2 * 2\n",
      "5 je prost broj\n",
      "6 je jednako 2 * 3\n",
      "7 je prost broj\n",
      "8 je jednako 2 * 4\n",
      "9 je jednako 3 * 3\n",
      "10 je jednako 2 * 5\n"
     ]
    }
   ],
   "source": [
    "for n in range(2, 11):\n",
    "    for x in range(2, n): \n",
    "       if n % x == 0:\n",
    "            print(n, 'je jednako', x, '*', n//x)\n",
    "            break\n",
    "    else:\n",
    "         # petlja se probila bez pronalaska delioca, tj nije se desio break\n",
    "         print(n, 'je prost broj')"
   ]
  },
  {
   "cell_type": "markdown",
   "metadata": {},
   "source": [
    "**pass** naredba ne radi ništa. Kada nam sintaksa neke naredbe zahteva da je ne smemo ostaviti praznu, pass je tu da nas spasi:"
   ]
  },
  {
   "cell_type": "code",
   "execution_count": 43,
   "metadata": {},
   "outputs": [
    {
     "ename": "KeyboardInterrupt",
     "evalue": "",
     "output_type": "error",
     "traceback": [
      "\u001b[0;31m---------------------------------------------------------------------------\u001b[0m",
      "\u001b[0;31mKeyboardInterrupt\u001b[0m                         Traceback (most recent call last)",
      "\u001b[0;32m<ipython-input-43-9f7bba6e0baa>\u001b[0m in \u001b[0;36m<module>\u001b[0;34m\u001b[0m\n\u001b[1;32m      1\u001b[0m \u001b[0;32mwhile\u001b[0m\u001b[0;34m(\u001b[0m\u001b[0;32mTrue\u001b[0m\u001b[0;34m)\u001b[0m\u001b[0;34m:\u001b[0m\u001b[0;34m\u001b[0m\u001b[0m\n\u001b[0;32m----> 2\u001b[0;31m     \u001b[0;32mpass\u001b[0m\u001b[0;34m\u001b[0m\u001b[0m\n\u001b[0m",
      "\u001b[0;31mKeyboardInterrupt\u001b[0m: "
     ]
    }
   ],
   "source": [
    "while(True):\n",
    "    pass"
   ]
  },
  {
   "cell_type": "code",
   "execution_count": 42,
   "metadata": {},
   "outputs": [
    {
     "ename": "SyntaxError",
     "evalue": "unexpected EOF while parsing (<ipython-input-42-b519fee20f83>, line 5)",
     "output_type": "error",
     "traceback": [
      "\u001b[0;36m  File \u001b[0;32m\"<ipython-input-42-b519fee20f83>\"\u001b[0;36m, line \u001b[0;32m5\u001b[0m\n\u001b[0;31m    else:\u001b[0m\n\u001b[0m         ^\u001b[0m\n\u001b[0;31mSyntaxError\u001b[0m\u001b[0;31m:\u001b[0m unexpected EOF while parsing\n"
     ]
    }
   ],
   "source": [
    "# ne radi\n",
    "for num in range(2, 10):\n",
    "    if num % 2 == 0:\n",
    "        print(\"Paran broj\", num)\n",
    "    else:"
   ]
  },
  {
   "cell_type": "code",
   "execution_count": null,
   "metadata": {},
   "outputs": [],
   "source": [
    "for num in range(2, 10):\n",
    "    if num % 2 == 0:\n",
    "        print(\"Paran broj\", num)\n",
    "    else: \n",
    "        pass"
   ]
  }
 ],
 "metadata": {
  "kernelspec": {
   "display_name": "Python 3",
   "language": "python",
   "name": "python3"
  },
  "language_info": {
   "codemirror_mode": {
    "name": "ipython",
    "version": 3
   },
   "file_extension": ".py",
   "mimetype": "text/x-python",
   "name": "python",
   "nbconvert_exporter": "python",
   "pygments_lexer": "ipython3",
   "version": "3.6.7"
  }
 },
 "nbformat": 4,
 "nbformat_minor": 2
}
