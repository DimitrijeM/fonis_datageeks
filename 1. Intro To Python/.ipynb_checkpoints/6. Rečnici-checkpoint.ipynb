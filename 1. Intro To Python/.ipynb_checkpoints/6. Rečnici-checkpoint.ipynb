{
 "cells": [
  {
   "cell_type": "markdown",
   "metadata": {},
   "source": [
    "## Rečnici (dictionaries)"
   ]
  },
  {
   "cell_type": "markdown",
   "metadata": {},
   "source": [
    "Među osnovnim Python strukturama podataka nalazi se i dictionary, to jest rečnik. Znamo šta su rečnici u svakodnevnom životu, pa po toj analogiji možete pretpostaviti kako oni izgledaju u Pythonu. Sastoje se od parova ključa (key) i vrednosti (value). "
   ]
  },
  {
   "cell_type": "markdown",
   "metadata": {},
   "source": [
    "### Kreiranje"
   ]
  },
  {
   "cell_type": "code",
   "execution_count": 1,
   "metadata": {},
   "outputs": [
    {
     "data": {
      "text/plain": [
       "{}"
      ]
     },
     "execution_count": 1,
     "metadata": {},
     "output_type": "execute_result"
    }
   ],
   "source": [
    "emptyDict = {} #kreiranje praznog\n",
    "emptyDict"
   ]
  },
  {
   "cell_type": "code",
   "execution_count": 18,
   "metadata": {},
   "outputs": [
    {
     "data": {
      "text/plain": [
       "{'rice': 'a cereal grass'}"
      ]
     },
     "execution_count": 18,
     "metadata": {},
     "output_type": "execute_result"
    }
   ],
   "source": [
    "simpleDict = {\n",
    "    'rice' : 'a cereal grass'\n",
    "}\n",
    "simpleDict # jednostavan sa jednim parom, value moze biti bilo koji drugi tip, npr string"
   ]
  },
  {
   "cell_type": "code",
   "execution_count": 6,
   "metadata": {},
   "outputs": [
    {
     "data": {
      "text/plain": [
       "{'dimi': True, 'dekiSimic': False}"
      ]
     },
     "execution_count": 6,
     "metadata": {},
     "output_type": "execute_result"
    }
   ],
   "source": [
    "goodInstructors = {\n",
    "    'dimi' : True, # value moze biti bool\n",
    "    'dekiSimic' : False\n",
    "}\n",
    "goodInstructors"
   ]
  },
  {
   "cell_type": "code",
   "execution_count": 8,
   "metadata": {},
   "outputs": [
    {
     "data": {
      "text/plain": [
       "{'Serbia': ['Belgrade', 'Novi Sad'],\n",
       " 'China': ['Shanghai', 'Beijing'],\n",
       " 'USA': ['New York', 'Los Angeles'],\n",
       " 'Spain': ['Madrid', 'Barcelona']}"
      ]
     },
     "execution_count": 8,
     "metadata": {},
     "output_type": "execute_result"
    }
   ],
   "source": [
    "cities = { # value moze biti niz\n",
    "    'Serbia' : ['Belgrade', 'Novi Sad'],\n",
    "    'China': ['Shanghai', 'Beijing'],\n",
    "    'USA': ['New York', 'Los Angeles'],\n",
    "    'Spain': ['Madrid', 'Barcelona']\n",
    "}\n",
    "cities"
   ]
  },
  {
   "cell_type": "code",
   "execution_count": 11,
   "metadata": {},
   "outputs": [
    {
     "data": {
      "text/plain": [
       "['Belgrade', 'Novi Sad']"
      ]
     },
     "execution_count": 11,
     "metadata": {},
     "output_type": "execute_result"
    }
   ],
   "source": [
    "cities['Serbia']"
   ]
  },
  {
   "cell_type": "code",
   "execution_count": 13,
   "metadata": {},
   "outputs": [
    {
     "name": "stdout",
     "output_type": "stream",
     "text": [
      "{1: 'one', 2: 'two', 3: 'three'}\n"
     ]
    }
   ],
   "source": [
    "data = [(1, 'one'), (2, 'two'), (3, 'three')] # kreiranje dicta na osnovu niza tuplesa\n",
    "names = dict(data)\n",
    "print(names)"
   ]
  },
  {
   "cell_type": "markdown",
   "metadata": {},
   "source": [
    "### Pristupanje"
   ]
  },
  {
   "cell_type": "code",
   "execution_count": 21,
   "metadata": {},
   "outputs": [
    {
     "data": {
      "text/plain": [
       "'n'"
      ]
     },
     "execution_count": 21,
     "metadata": {},
     "output_type": "execute_result"
    }
   ],
   "source": [
    "# u dictu vrednosti mogu biti karakteri\n",
    "cipher = {'p': 'o', 'y': 'h', 't': 'n',\n",
    "          'h': 't', 'o': 'y', 'n': 'p'} \n",
    "cipher['t'] # pristupamo vrednosti na osnovu kljuca"
   ]
  },
  {
   "cell_type": "code",
   "execution_count": 25,
   "metadata": {},
   "outputs": [
    {
     "data": {
      "text/plain": [
       "'ohntyp'"
      ]
     },
     "execution_count": 25,
     "metadata": {},
     "output_type": "execute_result"
    }
   ],
   "source": [
    "# dict karaktera mozemo koristiti kako bi ekriptovali, tj sifrovali neku poruku\n",
    "# napravicemo funkciju koja bi to radila na osnovu cipher dicta\n",
    "def encrypt(cipher, word):\n",
    "    \"\"\"encrypt word using cipher\"\"\"\n",
    "    encrypted = \"\"\n",
    "    for char in word:\n",
    "        encrypted += cipher[char]\n",
    "    return encrypted\n",
    "encryptedWord = encrypt(cipher, 'python')\n",
    "encryptedWord"
   ]
  },
  {
   "cell_type": "code",
   "execution_count": 28,
   "metadata": {},
   "outputs": [
    {
     "ename": "KeyError",
     "evalue": "1",
     "output_type": "error",
     "traceback": [
      "\u001b[0;31m---------------------------------------------------------------------------\u001b[0m",
      "\u001b[0;31mKeyError\u001b[0m                                  Traceback (most recent call last)",
      "\u001b[0;32m<ipython-input-28-9b48d8377d99>\u001b[0m in \u001b[0;36m<module>\u001b[0;34m()\u001b[0m\n\u001b[1;32m      1\u001b[0m \u001b[0;31m# ako koristimo nepostojeci key -> KeyError\u001b[0m\u001b[0;34m\u001b[0m\u001b[0;34m\u001b[0m\u001b[0m\n\u001b[0;32m----> 2\u001b[0;31m \u001b[0mcipher\u001b[0m\u001b[0;34m[\u001b[0m\u001b[0;36m1\u001b[0m\u001b[0;34m]\u001b[0m\u001b[0;34m\u001b[0m\u001b[0m\n\u001b[0m",
      "\u001b[0;31mKeyError\u001b[0m: 1"
     ]
    }
   ],
   "source": [
    "# ako koristimo nepostojeci key -> KeyError\n",
    "cipher[1]"
   ]
  },
  {
   "cell_type": "code",
   "execution_count": 32,
   "metadata": {},
   "outputs": [
    {
     "data": {
      "text/plain": [
       "('n', None)"
      ]
     },
     "execution_count": 32,
     "metadata": {},
     "output_type": "execute_result"
    }
   ],
   "source": [
    "# zato je bolje da ako nismo sigurni da li postoji key\n",
    "# da to proverimo funkcijom get\n",
    "cipher.get('t'), cipher.get('d')"
   ]
  },
  {
   "cell_type": "markdown",
   "metadata": {},
   "source": [
    "### Ažuriranje"
   ]
  },
  {
   "cell_type": "code",
   "execution_count": 33,
   "metadata": {},
   "outputs": [
    {
     "data": {
      "text/plain": [
       "{'p': 'o', 'y': 'h', 't': 'n', 'h': 't', 'o': 'y', 'n': 'p'}"
      ]
     },
     "execution_count": 33,
     "metadata": {},
     "output_type": "execute_result"
    }
   ],
   "source": [
    "cipher"
   ]
  },
  {
   "cell_type": "code",
   "execution_count": 34,
   "metadata": {},
   "outputs": [
    {
     "data": {
      "text/plain": [
       "{'p': 'q', 'y': 'h', 't': 'n', 'h': 't', 'o': 'y', 'n': 'p'}"
      ]
     },
     "execution_count": 34,
     "metadata": {},
     "output_type": "execute_result"
    }
   ],
   "source": [
    "cipher['p'] = 'q'\n",
    "cipher"
   ]
  },
  {
   "cell_type": "code",
   "execution_count": 39,
   "metadata": {},
   "outputs": [
    {
     "data": {
      "text/plain": [
       "('ohntyp', 'qhntyp')"
      ]
     },
     "execution_count": 39,
     "metadata": {},
     "output_type": "execute_result"
    }
   ],
   "source": [
    "cipher['r'] = 'z'\n",
    "encryptedWord2 = encrypt(cipher, 'python')\n",
    "encryptedWord, encryptedWord2"
   ]
  },
  {
   "cell_type": "markdown",
   "metadata": {},
   "source": [
    "### Brisanje"
   ]
  },
  {
   "cell_type": "code",
   "execution_count": 40,
   "metadata": {},
   "outputs": [
    {
     "data": {
      "text/plain": [
       "{'y': 'h', 't': 'n', 'h': 't', 'o': 'y', 'n': 'p', 'r': 'z'}"
      ]
     },
     "execution_count": 40,
     "metadata": {},
     "output_type": "execute_result"
    }
   ],
   "source": [
    "del cipher['p']\n",
    "cipher"
   ]
  },
  {
   "cell_type": "markdown",
   "metadata": {},
   "source": [
    "Primetimo da rečnici liče na liste, međutim glavna razlika je što elementima liste možemo pristupiti samo preko indeksa, dok ovde pristupamo preko ključa."
   ]
  },
  {
   "cell_type": "markdown",
   "metadata": {},
   "source": [
    "### Problemi s kljucevima\n",
    "\n",
    "Pricamo o dva tipa problema sa kljucevima koji se pojavljuju:\n",
    "- nismo sigurni da li key postoji u recniku\n",
    "- u ključevima su i babe i žabe"
   ]
  },
  {
   "cell_type": "code",
   "execution_count": 41,
   "metadata": {},
   "outputs": [
    {
     "data": {
      "text/plain": [
       "{'Serbia': ['Belgrade', 'Novi Sad'],\n",
       " 'China': ['Shanghai', 'Beijing'],\n",
       " 'USA': ['New York', 'Los Angeles'],\n",
       " 'Spain': ['Madrid', 'Barcelona']}"
      ]
     },
     "execution_count": 41,
     "metadata": {},
     "output_type": "execute_result"
    }
   ],
   "source": [
    "cities"
   ]
  },
  {
   "cell_type": "code",
   "execution_count": 42,
   "metadata": {},
   "outputs": [
    {
     "data": {
      "text/plain": [
       "True"
      ]
     },
     "execution_count": 42,
     "metadata": {},
     "output_type": "execute_result"
    }
   ],
   "source": [
    "'Serbia' in cities"
   ]
  },
  {
   "cell_type": "code",
   "execution_count": 43,
   "metadata": {},
   "outputs": [
    {
     "data": {
      "text/plain": [
       "False"
      ]
     },
     "execution_count": 43,
     "metadata": {},
     "output_type": "execute_result"
    }
   ],
   "source": [
    "'Montenegro' in cities"
   ]
  },
  {
   "cell_type": "code",
   "execution_count": 45,
   "metadata": {},
   "outputs": [
    {
     "name": "stdout",
     "output_type": "stream",
     "text": [
      "Serbia ['Belgrade', 'Novi Sad']\n",
      "China ['Shanghai', 'Beijing']\n"
     ]
    },
    {
     "ename": "KeyError",
     "evalue": "'Germany'",
     "output_type": "error",
     "traceback": [
      "\u001b[0;31m---------------------------------------------------------------------------\u001b[0m",
      "\u001b[0;31mKeyError\u001b[0m                                  Traceback (most recent call last)",
      "\u001b[0;32m<ipython-input-45-c91f6a8f62c2>\u001b[0m in \u001b[0;36m<module>\u001b[0;34m()\u001b[0m\n\u001b[1;32m      2\u001b[0m \u001b[0mkeys\u001b[0m \u001b[0;34m=\u001b[0m \u001b[0;34m[\u001b[0m\u001b[0;34m'Serbia'\u001b[0m\u001b[0;34m,\u001b[0m \u001b[0;34m'China'\u001b[0m\u001b[0;34m,\u001b[0m \u001b[0;34m'Germany'\u001b[0m\u001b[0;34m]\u001b[0m\u001b[0;34m\u001b[0m\u001b[0m\n\u001b[1;32m      3\u001b[0m \u001b[0;32mfor\u001b[0m \u001b[0mkey\u001b[0m \u001b[0;32min\u001b[0m \u001b[0mkeys\u001b[0m\u001b[0;34m:\u001b[0m\u001b[0;34m\u001b[0m\u001b[0m\n\u001b[0;32m----> 4\u001b[0;31m     \u001b[0mprint\u001b[0m\u001b[0;34m(\u001b[0m\u001b[0mkey\u001b[0m\u001b[0;34m,\u001b[0m \u001b[0mcities\u001b[0m\u001b[0;34m[\u001b[0m\u001b[0mkey\u001b[0m\u001b[0;34m]\u001b[0m\u001b[0;34m)\u001b[0m\u001b[0;34m\u001b[0m\u001b[0m\n\u001b[0m",
      "\u001b[0;31mKeyError\u001b[0m: 'Germany'"
     ]
    }
   ],
   "source": [
    "# kako se zastiti od gresaka kada radimo sa kljucevima iz recnika?\n",
    "keys = ['Serbia', 'China', 'Germany']\n",
    "for key in keys:\n",
    "    print(key, cities[key])"
   ]
  },
  {
   "cell_type": "code",
   "execution_count": 47,
   "metadata": {},
   "outputs": [
    {
     "name": "stdout",
     "output_type": "stream",
     "text": [
      "Serbia ['Belgrade', 'Novi Sad']\n",
      "China ['Shanghai', 'Beijing']\n",
      "Germany not in mapping\n"
     ]
    }
   ],
   "source": [
    "for key in keys:\n",
    "    if key in cities:\n",
    "        print(key, cities[key])\n",
    "    else:\n",
    "        print(\"{} not in mapping\".format(key))"
   ]
  },
  {
   "cell_type": "markdown",
   "metadata": {},
   "source": [
    "Kada pravimo rečnike, preporučljivo je da keys budu svi istog tipa, međutim Python to ne forsira pa zato završiti sa mnogo različitih tipova u ključevima, to jest pomešati babe i žabe. To nije preporučljivo uraditi, ali ajmo da vidimo i zbog čega:"
   ]
  },
  {
   "cell_type": "code",
   "execution_count": 48,
   "metadata": {},
   "outputs": [
    {
     "data": {
      "text/plain": [
       "{4.0: 2, 'a': 3, True: 'true', False: 9}"
      ]
     },
     "execution_count": 48,
     "metadata": {},
     "output_type": "execute_result"
    }
   ],
   "source": [
    "babeZabe = {4.0: 2, 'a': 3, True: 'true', False: 9}\n",
    "babeZabe"
   ]
  },
  {
   "cell_type": "code",
   "execution_count": 52,
   "metadata": {},
   "outputs": [
    {
     "data": {
      "text/plain": [
       "{4.0: 2, 'a': 3, True: 7, False: 9}"
      ]
     },
     "execution_count": 52,
     "metadata": {},
     "output_type": "execute_result"
    }
   ],
   "source": [
    "# Ajmo da dodamo sada novi par sa kljucem 1\n",
    "babeZabe[1] = 7 \n",
    "# nemamo kljuc 1, ali Python koristi jednakost da bi video da li postoji taj\n",
    "# kljuc. True == 1, False == 0, tako da smo uspeli da pristupimo tim vrednostima\n",
    "# i zamenimo ih umesto da dodamo novu\n",
    "babeZabe"
   ]
  },
  {
   "cell_type": "code",
   "execution_count": 57,
   "metadata": {},
   "outputs": [
    {
     "data": {
      "text/plain": [
       "{4.0: 2, 'a': 3, True: 7, False: 'false'}"
      ]
     },
     "execution_count": 57,
     "metadata": {},
     "output_type": "execute_result"
    }
   ],
   "source": [
    "babeZabe[0] = 'false'\n",
    "babeZabe"
   ]
  },
  {
   "cell_type": "code",
   "execution_count": 61,
   "metadata": {},
   "outputs": [
    {
     "data": {
      "text/plain": [
       "{4.0: 7, 'a': 3, True: 7, False: 'false', 4.3: 7}"
      ]
     },
     "execution_count": 61,
     "metadata": {},
     "output_type": "execute_result"
    }
   ],
   "source": [
    "# ocu da napravim novi sa integerom, on mi updateuje doble\n",
    "babeZabe[4] = 7\n",
    "babeZabe"
   ]
  },
  {
   "cell_type": "code",
   "execution_count": 63,
   "metadata": {},
   "outputs": [
    {
     "data": {
      "text/plain": [
       "{4.0: 7, 'a': 3, True: 7, False: 'false', 4.3: 7, 'A': 'abc'}"
      ]
     },
     "execution_count": 63,
     "metadata": {},
     "output_type": "execute_result"
    }
   ],
   "source": [
    "babeZabe['A'] = 'abc' # string nije jednak nikakvom broju tako da dodaje nov\n",
    "babeZabe"
   ]
  },
  {
   "cell_type": "markdown",
   "metadata": {},
   "source": [
    "Poenta: Nemojte da mesate tipove u kljucevima kako bi vas kod bio sigurniji i jasniji."
   ]
  },
  {
   "cell_type": "markdown",
   "metadata": {},
   "source": [
    "### Primer"
   ]
  },
  {
   "cell_type": "markdown",
   "metadata": {},
   "source": [
    "Rečnici su jako moćan tip podataka. Omogućavaju nam da mapiramo ključ proizvodnom vrednošću. Glavno ograničenje je to da je ključ nepromenljiv. "
   ]
  },
  {
   "cell_type": "markdown",
   "metadata": {},
   "source": [
    "Implementirajmo jednostavnu listu konktakta koja mapira imena telefonskim brojevima."
   ]
  },
  {
   "cell_type": "code",
   "execution_count": 64,
   "metadata": {},
   "outputs": [],
   "source": [
    "contacts = {'Scott Rixner': '1-101-555-1234',\n",
    "            'Joe Warren': '1-102-555-5678',\n",
    "            'Jane Doe': '1-103-555-9012'}"
   ]
  },
  {
   "cell_type": "markdown",
   "metadata": {},
   "source": [
    "Rečnici se sastoje od niza ključ-vrednost parova, ograđenog vitičastim zagradama ({}). Parovi su odvojeni zarezom.\n",
    "Ajmo da napravimo funkciju koja vraća telefonski broj određenog korisnika na osnovu imena."
   ]
  },
  {
   "cell_type": "code",
   "execution_count": 70,
   "metadata": {},
   "outputs": [
    {
     "data": {
      "text/plain": [
       "('1-103-555-9012', 'Non-existent contact')"
      ]
     },
     "execution_count": 70,
     "metadata": {},
     "output_type": "execute_result"
    }
   ],
   "source": [
    "def lookup(contacts, name):\n",
    "    if name in contacts:\n",
    "        return contacts[name]\n",
    "    else:\n",
    "        return 'Non-existent contact'\n",
    "lookup(contacts, 'Jane Doe'), lookup(contacts, 'JaneDoe')"
   ]
  },
  {
   "cell_type": "code",
   "execution_count": 73,
   "metadata": {},
   "outputs": [
    {
     "data": {
      "text/plain": [
       "('1-103-555-9012', 'Non-existent contact')"
      ]
     },
     "execution_count": 73,
     "metadata": {},
     "output_type": "execute_result"
    }
   ],
   "source": [
    "def lookup2(contacts, name):\n",
    "    return contacts.get(name, 'Non-existent contact')\n",
    "lookup2(contacts, 'Jane Doe'), lookup(contacts, 'JaneDoe')"
   ]
  },
  {
   "cell_type": "markdown",
   "metadata": {},
   "source": [
    "Napraviti funkcije koje ispisuju sve kontakte u formi:\n",
    "- samo imena svih kontakta\n",
    "- ceo kontakt u formi: \"ime : broj\""
   ]
  },
  {
   "cell_type": "code",
   "execution_count": 75,
   "metadata": {},
   "outputs": [
    {
     "name": "stdout",
     "output_type": "stream",
     "text": [
      "Scott Rixner\n",
      "Joe Warren\n",
      "Jane Doe\n"
     ]
    }
   ],
   "source": [
    "def print_contacts(contacts):\n",
    "    for name in contacts:\n",
    "        print(name)\n",
    "print_contacts(contacts)"
   ]
  },
  {
   "cell_type": "code",
   "execution_count": 76,
   "metadata": {},
   "outputs": [
    {
     "name": "stdout",
     "output_type": "stream",
     "text": [
      "Scott Rixner : 1-101-555-1234\n",
      "Joe Warren : 1-102-555-5678\n",
      "Jane Doe : 1-103-555-9012\n"
     ]
    }
   ],
   "source": [
    "def print_contact_list(contacts):\n",
    "    for name, number in contacts.items():\n",
    "        print(name, \":\", number)\n",
    "print_contact_list(contacts)"
   ]
  },
  {
   "cell_type": "markdown",
   "metadata": {},
   "source": [
    "Python recnici nisu sortirani. Napraviti funkciju koja bi ih ispisala sortirane:"
   ]
  },
  {
   "cell_type": "code",
   "execution_count": 77,
   "metadata": {},
   "outputs": [
    {
     "name": "stdout",
     "output_type": "stream",
     "text": [
      "Jane Doe : 1-103-555-9012\n",
      "Joe Warren : 1-102-555-5678\n",
      "Scott Rixner : 1-101-555-1234\n"
     ]
    }
   ],
   "source": [
    "def print_ordered(contacts):\n",
    "    keys = contacts.keys()\n",
    "    names = sorted(keys)\n",
    "    for name in names:\n",
    "        print(name, \":\", contacts[name])\n",
    "print_ordered(contacts)"
   ]
  },
  {
   "cell_type": "markdown",
   "metadata": {},
   "source": [
    "Funkcija keys vraca listu kljuceva, a funkcija sorted vraca sortiranu listu koja joj prosledjena."
   ]
  },
  {
   "cell_type": "markdown",
   "metadata": {},
   "source": [
    "Dodavanje i izmena kontakta su jako slicni, pogledajmo kako oni izgledaju odvojeno, a zatim i zajedno:"
   ]
  },
  {
   "cell_type": "code",
   "execution_count": 82,
   "metadata": {},
   "outputs": [
    {
     "name": "stdout",
     "output_type": "stream",
     "text": [
      "Dimi is already in contacts list!\n",
      "Jane Doe is already in contacts list!\n",
      "DimiM is not in contacts list!\n"
     ]
    },
    {
     "data": {
      "text/plain": [
       "{'Scott Rixner': '1-101-555-1234',\n",
       " 'Joe Warren': '1-102-555-5678',\n",
       " 'Jane Doe': '062-222',\n",
       " 'Dimi': '062-222'}"
      ]
     },
     "execution_count": 82,
     "metadata": {},
     "output_type": "execute_result"
    }
   ],
   "source": [
    "def add_contact(contacts, name, number):\n",
    "    if name in contacts:\n",
    "        print(name, \"is already in contacts list!\")\n",
    "    else:\n",
    "        contacts[name] = number\n",
    "        \n",
    "def update_contact(contacts, name, newnumber):\n",
    "    if name in contacts:\n",
    "        contacts[name] = newnumber\n",
    "    else:\n",
    "        print(name, \"is not in contacts list!\")\n",
    "add_contact(contacts, 'Dimi', '062-222'), add_contact(contacts, 'Jane Doe', '062-222'), update_contact(contacts, 'DimiM', '062-222'), update_contact(contacts, 'Jane Doe', '062-222')\n",
    "contacts"
   ]
  },
  {
   "cell_type": "code",
   "execution_count": 84,
   "metadata": {},
   "outputs": [
    {
     "data": {
      "text/plain": [
       "{'Scott Rixner': '1-101-555-1234',\n",
       " 'Joe Warren': '1-102-555-5678',\n",
       " 'Jane Doe': '062-222',\n",
       " 'Dimi': '062-222',\n",
       " 'DimiM': '062-222'}"
      ]
     },
     "execution_count": 84,
     "metadata": {},
     "output_type": "execute_result"
    }
   ],
   "source": [
    "# cesto je prakticnije da se ove dve metode spoje\n",
    "def add_or_update_contact(contacts, name, number):\n",
    "    contacts[name] = number\n",
    "add_or_update_contact(contacts, 'DimiM', '062-222')\n",
    "contacts"
   ]
  },
  {
   "cell_type": "markdown",
   "metadata": {},
   "source": [
    "### Rad sa greskama u recnicima\n",
    "\n",
    "Za brz pristup parovima recnika, Python koristi hesiranje. Iz tog razloga, jako je bitno da kljucevi budu nepromenljivi (immutable)."
   ]
  },
  {
   "cell_type": "markdown",
   "metadata": {},
   "source": [
    "Ako zelimo da u kljucu imamo vise vrednosti, mozda cemo pomisliti  da je okej da nam list bude kluc. Medjutim, kako smo naucili lista je promenljiva struktura:"
   ]
  },
  {
   "cell_type": "code",
   "execution_count": 89,
   "metadata": {},
   "outputs": [
    {
     "ename": "TypeError",
     "evalue": "unhashable type: 'list'",
     "output_type": "error",
     "traceback": [
      "\u001b[0;31m---------------------------------------------------------------------------\u001b[0m",
      "\u001b[0;31mTypeError\u001b[0m                                 Traceback (most recent call last)",
      "\u001b[0;32m<ipython-input-89-207ea9c3b89a>\u001b[0m in \u001b[0;36m<module>\u001b[0;34m()\u001b[0m\n\u001b[0;32m----> 1\u001b[0;31m \u001b[0mbad_dict\u001b[0m \u001b[0;34m=\u001b[0m \u001b[0;34m{\u001b[0m\u001b[0;34m[\u001b[0m\u001b[0;34m\"Joe\"\u001b[0m\u001b[0;34m,\u001b[0m \u001b[0;34m\"Warren\"\u001b[0m\u001b[0;34m]\u001b[0m \u001b[0;34m:\u001b[0m \u001b[0;36m1\u001b[0m\u001b[0;34m,\u001b[0m \u001b[0;34m[\u001b[0m\u001b[0;34m\"Scott\"\u001b[0m\u001b[0;34m,\u001b[0m \u001b[0;34m\"Rixner\"\u001b[0m\u001b[0;34m]\u001b[0m \u001b[0;34m:\u001b[0m \u001b[0;36m2\u001b[0m\u001b[0;34m,\u001b[0m \u001b[0;34m[\u001b[0m\u001b[0;34m\"John\"\u001b[0m\u001b[0;34m,\u001b[0m \u001b[0;34m\"Greiner\"\u001b[0m\u001b[0;34m]\u001b[0m \u001b[0;34m:\u001b[0m \u001b[0;36m3\u001b[0m\u001b[0;34m}\u001b[0m\u001b[0;34m\u001b[0m\u001b[0m\n\u001b[0m\u001b[1;32m      2\u001b[0m \u001b[0mprint\u001b[0m\u001b[0;34m(\u001b[0m\u001b[0mbad_dict\u001b[0m\u001b[0;34m)\u001b[0m\u001b[0;34m\u001b[0m\u001b[0m\n",
      "\u001b[0;31mTypeError\u001b[0m: unhashable type: 'list'"
     ]
    }
   ],
   "source": [
    "bad_dict = {[\"Joe\", \"Warren\"] : 1, [\"Scott\", \"Rixner\"] : 2, [\"John\", \"Greiner\"] : 3}\n",
    "print(bad_dict)"
   ]
  },
  {
   "cell_type": "markdown",
   "metadata": {},
   "source": [
    "U ovom slucaju je okej da koristimo tuples:"
   ]
  },
  {
   "cell_type": "code",
   "execution_count": 92,
   "metadata": {},
   "outputs": [
    {
     "data": {
      "text/plain": [
       "{('Joe', 'Warren'): 1, ('Scott', 'Rixner'): 2, ('John', 'Greiner'): 3}"
      ]
     },
     "execution_count": 92,
     "metadata": {},
     "output_type": "execute_result"
    }
   ],
   "source": [
    "good_dict = {(\"Joe\", \"Warren\") : 1, (\"Scott\", \"Rixner\") : 2, (\"John\", \"Greiner\") : 3}\n",
    "good_dict"
   ]
  },
  {
   "cell_type": "code",
   "execution_count": 93,
   "metadata": {},
   "outputs": [
    {
     "data": {
      "text/plain": [
       "1"
      ]
     },
     "execution_count": 93,
     "metadata": {},
     "output_type": "execute_result"
    }
   ],
   "source": [
    "good_dict[(\"Joe\", \"Warren\")]"
   ]
  },
  {
   "cell_type": "code",
   "execution_count": 95,
   "metadata": {},
   "outputs": [
    {
     "data": {
      "text/plain": [
       "(1, 'Non-existent')"
      ]
     },
     "execution_count": 95,
     "metadata": {},
     "output_type": "execute_result"
    }
   ],
   "source": [
    "# pitanje implmentirati ovo\n",
    "\"\"\"\n",
    "    Given dictionary my_dict and key my_key, \n",
    "    return my_dict[my_key] if my_key is in my_dict\n",
    "    otherwise return default_value\n",
    "\"\"\"\n",
    "def lookup(my_dict, my_key, default_value=None):\n",
    "    \n",
    "    if my_key in my_dict:\n",
    "        return my_dict[my_key]\n",
    "    else:\n",
    "        return default_value\n",
    "lookup(good_dict, (\"Joe\", \"Warren\"), \"Non-existent\"), lookup(good_dict, (\"Dimitrije\", \"Milenkovic\"), \"Non-existent\")"
   ]
  },
  {
   "cell_type": "code",
   "execution_count": 97,
   "metadata": {},
   "outputs": [
    {
     "data": {
      "text/plain": [
       "(1, 'Non-existent')"
      ]
     },
     "execution_count": 97,
     "metadata": {},
     "output_type": "execute_result"
    }
   ],
   "source": [
    "# pitanje: koja ugradjena funkcija se ovako ponasa\n",
    "good_dict.get((\"Joe\", \"Warren\"), \"Non-existent\"), good_dict.get((\"D\", \"M\"), \"Non-existent\")"
   ]
  },
  {
   "cell_type": "markdown",
   "metadata": {},
   "source": [
    "Zadaci:https://www.coursera.org/learn/python-analysis/supplement/wCkyw/practice-exercises-for-dictionaries"
   ]
  },
  {
   "cell_type": "code",
   "execution_count": null,
   "metadata": {},
   "outputs": [],
   "source": []
  }
 ],
 "metadata": {
  "kernelspec": {
   "display_name": "Python 3",
   "language": "python",
   "name": "python3"
  },
  "language_info": {
   "codemirror_mode": {
    "name": "ipython",
    "version": 3
   },
   "file_extension": ".py",
   "mimetype": "text/x-python",
   "name": "python",
   "nbconvert_exporter": "python",
   "pygments_lexer": "ipython3",
   "version": "3.6.6"
  }
 },
 "nbformat": 4,
 "nbformat_minor": 2
}
