{
 "cells": [
  {
   "cell_type": "markdown",
   "metadata": {},
   "source": [
    "7. Kreirati listu naziva kompanija. Proveriti koji je najduži naziv iz liste i taj naziv zameniti za 'too much'. \n",
    "    7.1. Zatim, proveriti koji naziv ima najviše slova m i zameniti sva slova 'm' sa 'mam'.\n",
    "    7.2. Proveriti koji je najkra'i naziv iz liste i zameniti ga tako da bude sa svim velikim slovima."
   ]
  },
  {
   "cell_type": "code",
   "execution_count": 10,
   "metadata": {},
   "outputs": [
    {
     "data": {
      "text/plain": [
       "['Symphony', 'too much', 'Seven Bridges', 'Humanity', 'NETCAST', 'TeleSign']"
      ]
     },
     "execution_count": 10,
     "metadata": {},
     "output_type": "execute_result"
    }
   ],
   "source": [
    "lista = ['Symphony', 'Microsoft Development Center', 'Seven Bridges', 'Humanity', 'Netcast', 'TeleSign']\n",
    "min_length, max_length, max_m = 1000, -1, -1\n",
    "ind_min_length, ind_max_length, ind_max_m = -1, -1, -1 # moze i bez ovoga\n",
    "\n",
    "for l in lista:\n",
    "    m = l.count('m')\n",
    "    if m > max_m:\n",
    "        max_m = m\n",
    "        ind_max_m = lista.index(l)\n",
    "    mlen = len(l)\n",
    "    if mlen < min_length:\n",
    "        min_length = mlen\n",
    "        ind_min_length = lista.index(l)\n",
    "    if mlen > max_length:\n",
    "        max_length = mlen\n",
    "        ind_max_length = lista.index(l)\n",
    "        \n",
    "lista[ind_min_length] = lista[ind_min_length].upper()\n",
    "lista[ind_max_length] = 'too much'\n",
    "lista"
   ]
  },
  {
   "cell_type": "code",
   "execution_count": 12,
   "metadata": {},
   "outputs": [
    {
     "data": {
      "text/plain": [
       "['Symphony', 'too much', 'Seven Bridges', 'Humanity', 'NETCAST', 'TeleSign']"
      ]
     },
     "execution_count": 12,
     "metadata": {},
     "output_type": "execute_result"
    }
   ],
   "source": [
    "lista = ['Symphony', 'Microsoft Development Center', 'Seven Bridges', 'Humanity', 'Netcast', 'TeleSign']\n",
    "for index, l in enumerate(lista, start=0):\n",
    "    m = l.count('m')\n",
    "    if m > max_m:\n",
    "        max_m = m\n",
    "        ind_max_m = index\n",
    "    mlen = len(l)\n",
    "    if mlen < min_length:\n",
    "        min_length = mlen\n",
    "        ind_min_length = index\n",
    "    if mlen > max_length:\n",
    "        max_length = mlen\n",
    "        ind_max_length = index\n",
    "lista[ind_min_length] = lista[ind_min_length].upper()\n",
    "lista[ind_max_length] = 'too much'\n",
    "lista"
   ]
  },
  {
   "cell_type": "code",
   "execution_count": 14,
   "metadata": {},
   "outputs": [
    {
     "data": {
      "text/plain": [
       "array([[3., 3.],\n",
       "       [3., 3.],\n",
       "       [3., 3.],\n",
       "       [3., 3.],\n",
       "       [3., 3.]])"
      ]
     },
     "execution_count": 14,
     "metadata": {},
     "output_type": "execute_result"
    }
   ],
   "source": [
    "import numpy as np \n",
    "np.dot(np.ones((5,3)), np.ones((3,2)))"
   ]
  },
  {
   "cell_type": "code",
   "execution_count": 19,
   "metadata": {},
   "outputs": [
    {
     "data": {
      "text/plain": [
       "(516,)"
      ]
     },
     "execution_count": 19,
     "metadata": {},
     "output_type": "execute_result"
    }
   ],
   "source": [
    "uniform = np.round(np.random.uniform(0,1,1000),0)\n",
    "uniform[uniform == 0].shape"
   ]
  },
  {
   "cell_type": "code",
   "execution_count": 26,
   "metadata": {},
   "outputs": [],
   "source": [
    "pol = np.random.randint(0, 2, 8000)"
   ]
  },
  {
   "cell_type": "code",
   "execution_count": 27,
   "metadata": {},
   "outputs": [
    {
     "data": {
      "text/plain": [
       "array([0, 1, 0, ..., 1, 0, 1])"
      ]
     },
     "execution_count": 27,
     "metadata": {},
     "output_type": "execute_result"
    }
   ],
   "source": [
    "pol"
   ]
  },
  {
   "cell_type": "code",
   "execution_count": 30,
   "metadata": {},
   "outputs": [],
   "source": [
    "pol = pol.astype('str')"
   ]
  },
  {
   "cell_type": "code",
   "execution_count": 31,
   "metadata": {},
   "outputs": [
    {
     "data": {
      "text/plain": [
       "array(['Zenski', 'Muski', 'Zenski', ..., 'Muski', 'Zenski', 'Muski'],\n",
       "      dtype='<U21')"
      ]
     },
     "execution_count": 31,
     "metadata": {},
     "output_type": "execute_result"
    }
   ],
   "source": [
    "pol[pol == '0'] = 'Zenski'\n",
    "pol[pol == '1'] = 'Muski'\n",
    "pol"
   ]
  },
  {
   "cell_type": "code",
   "execution_count": null,
   "metadata": {},
   "outputs": [],
   "source": []
  }
 ],
 "metadata": {
  "kernelspec": {
   "display_name": "Python 3",
   "language": "python",
   "name": "python3"
  },
  "language_info": {
   "codemirror_mode": {
    "name": "ipython",
    "version": 3
   },
   "file_extension": ".py",
   "mimetype": "text/x-python",
   "name": "python",
   "nbconvert_exporter": "python",
   "pygments_lexer": "ipython3",
   "version": "3.6.6"
  }
 },
 "nbformat": 4,
 "nbformat_minor": 2
}
